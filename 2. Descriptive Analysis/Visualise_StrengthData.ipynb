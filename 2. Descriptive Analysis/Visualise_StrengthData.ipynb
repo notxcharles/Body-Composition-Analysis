{
 "cells": [
  {
   "cell_type": "code",
   "id": "initial_id",
   "metadata": {
    "collapsed": true,
    "ExecuteTime": {
     "end_time": "2025-08-23T19:31:13.534617Z",
     "start_time": "2025-08-23T19:31:12.599731Z"
    }
   },
   "source": [
    "import pandas as pd\n",
    "import matplotlib.pyplot as plt"
   ],
   "outputs": [],
   "execution_count": 4
  },
  {
   "metadata": {
    "ExecuteTime": {
     "end_time": "2025-08-23T19:31:13.630317Z",
     "start_time": "2025-08-23T19:31:13.572925Z"
    }
   },
   "cell_type": "code",
   "source": [
    "workout_df = pd.read_csv(\"./Data/StrongApp_WorkoutData.csv\")\n",
    "workout_df[\"Date\"] = pd.to_datetime(workout_df[\"Date\"], errors=\"coerce\")\n",
    "workout_df[\"Date\"] = workout_df[\"Date\"].dt.normalize()\n",
    "\n",
    "workout_df[\"Category\"].value_counts()"
   ],
   "id": "b3f17242a0e5b0fc",
   "outputs": [
    {
     "data": {
      "text/plain": [
       "Category\n",
       "Lateral Raise (Dumbbell, All Variants)            182\n",
       "Lat Pulldown (All Variants)                       180\n",
       "Biceps Curl (Dumbbell, All Variants)              130\n",
       "Triceps Pushdown (Cable, All Variants)            120\n",
       "Chest Press (Machine, All Variants)                98\n",
       "Seated Leg Press (Machine, All Variants)           66\n",
       "Lateral Raise (Cable, All Variants)                66\n",
       "Hip Abductor (Machine, All Variants)               65\n",
       "Hip Adductor (Machine, All Variants)               63\n",
       "Chest Fly (Machine, All Variants)                  62\n",
       "Leg Extension (Machine, All Variants)              54\n",
       "Triceps Extension (Cable, All Variants)            54\n",
       "Seated Leg Curl (Machine, All Variants)            53\n",
       "Preacher Curl (Dumbbell, All Variants)             40\n",
       "Triceps Extension (Dumbbell, All Variants)         35\n",
       "Bench Press (Dumbbell, All Variants)               26\n",
       "Abdominal (Machine, All Variants)                  26\n",
       "Hip Thrust (Barbell, All Variants)                 26\n",
       "Bench Press (Barbell, All Variants)                20\n",
       "Preacher Curl (Barbell, All Variants)              18\n",
       "Seated Calf Raise (Plate Loaded, All Variants)     17\n",
       "Calf Stretch (Machine, All Variants)               16\n",
       "Incline Bench Press (Barbell, All Variants)        16\n",
       "Bench Press (Machine, All Variants)                11\n",
       "Bent Over Row (Barbell, All Variants)               6\n",
       "Back Squat (Smith Machine)                          6\n",
       "Incline Bench Press (Machine)                       5\n",
       "Lunge (Right Foot Forward, Smith Machine)           5\n",
       "Chest Fly (Dumbbell, All Variants)                  4\n",
       "Lunge (Left Foot Forwards, Smith Machine)           4\n",
       "Deadlift (Smith Machine)                            4\n",
       "Cable Crunch (Cable, All Variants)                  4\n",
       "Front Squat (Smith Machine)                         3\n",
       "Incline Bench Press (Machine, All Variants)         3\n",
       "Triceps Dip (Machine, Assisted)                     2\n",
       "Name: count, dtype: int64"
      ]
     },
     "execution_count": 5,
     "metadata": {},
     "output_type": "execute_result"
    }
   ],
   "execution_count": 5
  },
  {
   "metadata": {},
   "cell_type": "markdown",
   "source": [
    "There may be some inaccuracies with this data. As far as I am aware, I have recorded this accurately, however the machines used may have had different resistance profiles which can make the graphs look misleading\n",
    "\n",
    "I need to check some of the machines- I am unsure whether the machines that I used to train my legs in 2024 measured the weight in lbs, leading to inflated 1RM figures"
   ],
   "id": "cdd6c73fbe114f71"
  },
  {
   "metadata": {},
   "cell_type": "markdown",
   "source": "# Lateral Raise",
   "id": "86e8776df9d5d5de"
  },
  {
   "metadata": {
    "ExecuteTime": {
     "end_time": "2025-08-23T19:31:14.097282Z",
     "start_time": "2025-08-23T19:31:13.757969Z"
    }
   },
   "cell_type": "code",
   "source": [
    "exercise_category = \"Lateral Raise (Dumbbell, All Variants)\"\n",
    "exercise = workout_df[(workout_df[\"Category\"] == exercise_category)]\n",
    "exercise_1rms = exercise.groupby(\"Date\")[\"Epley 1RM\"].max()\n",
    "\n",
    "figure, ax = plt.subplots(figsize=(10, 6), dpi=250, facecolor='white')\n",
    "ax.set_title(f\"{exercise_category}: 1RM Progression.png\")\n",
    "ax.plot(exercise_1rms, marker=\".\")\n",
    "ax.grid(axis = 'y')\n",
    "ax.set_ylabel(\"1RM Weight, kg\")\n",
    "figure.savefig(f\"./Charts/1RM/{exercise_category} 1RM Progression.png\")\n",
    "plt.close()"
   ],
   "id": "24bb29191b4ab32",
   "outputs": [],
   "execution_count": 6
  },
  {
   "metadata": {},
   "cell_type": "markdown",
   "source": "# Lat Pulldowns",
   "id": "4a895b908a249858"
  },
  {
   "metadata": {
    "ExecuteTime": {
     "end_time": "2025-08-23T19:31:14.473495Z",
     "start_time": "2025-08-23T19:31:14.241383Z"
    }
   },
   "cell_type": "code",
   "source": [
    "exercise_category = \"Lat Pulldown (All Variants)\"\n",
    "exercise = workout_df[(workout_df[\"Category\"] == exercise_category)]\n",
    "exercise_1rms = exercise.groupby(\"Date\")[\"Epley 1RM\"].max()\n",
    "\n",
    "figure, ax = plt.subplots(figsize=(10, 6), dpi=250, facecolor='white')\n",
    "ax.set_title(f\"{exercise_category}: 1RM Progression.png\")\n",
    "ax.plot(exercise_1rms, marker=\".\")\n",
    "ax.grid(axis = 'y')\n",
    "ax.set_ylabel(\"1RM Weight, kg\")\n",
    "figure.savefig(f\"./Charts/1RM/{exercise_category} 1RM Progression.png\")\n",
    "plt.close()"
   ],
   "id": "fd2fa015e0ecc3f5",
   "outputs": [],
   "execution_count": 7
  },
  {
   "metadata": {},
   "cell_type": "markdown",
   "source": "# Bicep Curls",
   "id": "2435e561bbcff268"
  },
  {
   "metadata": {
    "ExecuteTime": {
     "end_time": "2025-08-23T19:31:14.730043Z",
     "start_time": "2025-08-23T19:31:14.533019Z"
    }
   },
   "cell_type": "code",
   "source": [
    "exercise_category = \"Biceps Curl (Dumbbell, All Variants)\"\n",
    "exercise = workout_df[(workout_df[\"Category\"] == exercise_category)]\n",
    "exercise_1rms = exercise.groupby(\"Date\")[\"Epley 1RM\"].max()\n",
    "\n",
    "figure, ax = plt.subplots(figsize=(10, 6), dpi=250, facecolor='white')\n",
    "ax.set_title(f\"{exercise_category}: 1RM Progression.png\")\n",
    "ax.plot(exercise_1rms, marker=\".\")\n",
    "ax.grid(axis = 'y')\n",
    "ax.set_ylabel(\"1RM Weight, kg\")\n",
    "figure.savefig(f\"./Charts/1RM/{exercise_category} 1RM Progression.png\")\n",
    "plt.close()"
   ],
   "id": "861b4a512ef18fcf",
   "outputs": [],
   "execution_count": 8
  },
  {
   "metadata": {},
   "cell_type": "markdown",
   "source": "# Triceps Press Down",
   "id": "29c741a39ac93507"
  },
  {
   "metadata": {
    "ExecuteTime": {
     "end_time": "2025-08-23T19:31:14.962569Z",
     "start_time": "2025-08-23T19:31:14.762264Z"
    }
   },
   "cell_type": "code",
   "source": [
    "exercise_category = \"Triceps Pushdown (Cable, All Variants)\"\n",
    "exercise = workout_df[(workout_df[\"Category\"] == exercise_category)]\n",
    "exercise_1rms = exercise.groupby(\"Date\")[\"Epley 1RM\"].max()\n",
    "# print(exercise_1rms)\n",
    "\n",
    "figure, ax = plt.subplots(figsize=(10, 6), dpi=250, facecolor='white')\n",
    "ax.set_title(f\"{exercise_category}: 1RM Progression.png\")\n",
    "ax.plot(exercise_1rms, marker=\".\")\n",
    "ax.grid(axis = 'y')\n",
    "ax.set_ylabel(\"1RM Weight, kg\")\n",
    "figure.savefig(f\"./Charts/1RM/{exercise_category} 1RM Progression.png\")\n",
    "plt.close()"
   ],
   "id": "240ac85743b098ac",
   "outputs": [],
   "execution_count": 9
  },
  {
   "metadata": {},
   "cell_type": "markdown",
   "source": [
    "# Leg Press\n",
    "I need out if the gym I was using in September 2024 measured the weight in lbs or kgs. this is true of all the leg exercises"
   ],
   "id": "b575c18d8cf114ff"
  },
  {
   "metadata": {
    "ExecuteTime": {
     "end_time": "2025-08-23T19:31:15.148943Z",
     "start_time": "2025-08-23T19:31:14.979465Z"
    }
   },
   "cell_type": "code",
   "source": [
    "exercise_category = \"Seated Leg Press (Machine, All Variants)\"\n",
    "exercise = workout_df[(workout_df[\"Category\"] == exercise_category)]\n",
    "exercise_1rms = exercise.groupby(\"Date\")[\"Epley 1RM\"].max()\n",
    "# print(exercise_1rms)\n",
    "\n",
    "figure, ax = plt.subplots(figsize=(10, 6), dpi=250, facecolor='white')\n",
    "ax.set_title(f\"{exercise_category}: 1RM Progression.png\")\n",
    "ax.plot(exercise_1rms, marker=\".\")\n",
    "ax.grid(axis = 'y')\n",
    "ax.set_ylabel(\"1RM Weight, kg\")\n",
    "figure.savefig(f\"./Charts/1RM/{exercise_category} 1RM Progression.png\")\n",
    "plt.close()"
   ],
   "id": "cfa74b68b21a2d90",
   "outputs": [],
   "execution_count": 10
  },
  {
   "metadata": {},
   "cell_type": "markdown",
   "source": "# Hip Abductors",
   "id": "37b2a90005e9c8f7"
  },
  {
   "metadata": {
    "ExecuteTime": {
     "end_time": "2025-08-23T19:31:15.362840Z",
     "start_time": "2025-08-23T19:31:15.173400Z"
    }
   },
   "cell_type": "code",
   "source": [
    "exercise_category = \"Hip Abductor (Machine, All Variants)\"\n",
    "exercise = workout_df[(workout_df[\"Category\"] == exercise_category)]\n",
    "exercise_1rms = exercise.groupby(\"Date\")[\"Epley 1RM\"].max()\n",
    "# print(exercise_1rms)\n",
    "\n",
    "figure, ax = plt.subplots(figsize=(10, 6), dpi=250, facecolor='white')\n",
    "ax.set_title(f\"{exercise_category}: 1RM Progression.png\")\n",
    "ax.plot(exercise_1rms, marker=\".\")\n",
    "ax.grid(axis = 'y')\n",
    "ax.set_ylabel(\"1RM Weight, kg\")\n",
    "figure.savefig(f\"./Charts/1RM/{exercise_category} 1RM Progression.png\")\n",
    "plt.close()"
   ],
   "id": "db89fbb966ade935",
   "outputs": [],
   "execution_count": 11
  },
  {
   "metadata": {},
   "cell_type": "markdown",
   "source": "# Hip Adductors",
   "id": "b09568fd3d60b830"
  },
  {
   "metadata": {
    "ExecuteTime": {
     "end_time": "2025-08-23T19:31:15.575369Z",
     "start_time": "2025-08-23T19:31:15.380489Z"
    }
   },
   "cell_type": "code",
   "source": [
    "exercise_category = \"Hip Adductor (Machine, All Variants)\"\n",
    "exercise = workout_df[(workout_df[\"Category\"] == exercise_category)]\n",
    "exercise_1rms = exercise.groupby(\"Date\")[\"Epley 1RM\"].max()\n",
    "# print(exercise_1rms)\n",
    "\n",
    "figure, ax = plt.subplots(figsize=(10, 6), dpi=250, facecolor='white')\n",
    "ax.set_title(f\"{exercise_category}: 1RM Progression.png\")\n",
    "ax.plot(exercise_1rms, marker=\".\")\n",
    "ax.grid(axis = 'y')\n",
    "ax.set_ylabel(\"1RM Weight, kg\")\n",
    "figure.savefig(f\"./Charts/1RM/{exercise_category} 1RM Progression.png\")\n",
    "plt.close()"
   ],
   "id": "94b3a8e5c9758c49",
   "outputs": [],
   "execution_count": 12
  }
 ],
 "metadata": {
  "kernelspec": {
   "display_name": "Python 3",
   "language": "python",
   "name": "python3"
  },
  "language_info": {
   "codemirror_mode": {
    "name": "ipython",
    "version": 2
   },
   "file_extension": ".py",
   "mimetype": "text/x-python",
   "name": "python",
   "nbconvert_exporter": "python",
   "pygments_lexer": "ipython2",
   "version": "2.7.6"
  }
 },
 "nbformat": 4,
 "nbformat_minor": 5
}
