{
 "cells": [
  {
   "cell_type": "code",
   "execution_count": 20,
   "id": "initial_id",
   "metadata": {
    "ExecuteTime": {
     "end_time": "2025-08-23T19:31:13.534617Z",
     "start_time": "2025-08-23T19:31:12.599731Z"
    },
    "collapsed": true
   },
   "outputs": [],
   "source": [
    "import pandas as pd\n",
    "import matplotlib.pyplot as plt"
   ]
  },
  {
   "cell_type": "code",
   "execution_count": null,
   "id": "b3f17242a0e5b0fc",
   "metadata": {
    "ExecuteTime": {
     "end_time": "2025-08-23T19:31:13.630317Z",
     "start_time": "2025-08-23T19:31:13.572925Z"
    }
   },
   "outputs": [
    {
     "ename": "KeyError",
     "evalue": "'Category'",
     "output_type": "error",
     "traceback": [
      "\u001b[31m---------------------------------------------------------------------------\u001b[39m",
      "\u001b[31mKeyError\u001b[39m                                  Traceback (most recent call last)",
      "\u001b[36mFile \u001b[39m\u001b[32mc:\\Users\\harri\\Documents\\GitHub\\Body-Composition-Analysis\\.venv\\Lib\\site-packages\\pandas\\core\\indexes\\base.py:3812\u001b[39m, in \u001b[36mIndex.get_loc\u001b[39m\u001b[34m(self, key)\u001b[39m\n\u001b[32m   3811\u001b[39m \u001b[38;5;28;01mtry\u001b[39;00m:\n\u001b[32m-> \u001b[39m\u001b[32m3812\u001b[39m     \u001b[38;5;28;01mreturn\u001b[39;00m \u001b[38;5;28;43mself\u001b[39;49m\u001b[43m.\u001b[49m\u001b[43m_engine\u001b[49m\u001b[43m.\u001b[49m\u001b[43mget_loc\u001b[49m\u001b[43m(\u001b[49m\u001b[43mcasted_key\u001b[49m\u001b[43m)\u001b[49m\n\u001b[32m   3813\u001b[39m \u001b[38;5;28;01mexcept\u001b[39;00m \u001b[38;5;167;01mKeyError\u001b[39;00m \u001b[38;5;28;01mas\u001b[39;00m err:\n",
      "\u001b[36mFile \u001b[39m\u001b[32mpandas/_libs/index.pyx:167\u001b[39m, in \u001b[36mpandas._libs.index.IndexEngine.get_loc\u001b[39m\u001b[34m()\u001b[39m\n",
      "\u001b[36mFile \u001b[39m\u001b[32mpandas/_libs/index.pyx:196\u001b[39m, in \u001b[36mpandas._libs.index.IndexEngine.get_loc\u001b[39m\u001b[34m()\u001b[39m\n",
      "\u001b[36mFile \u001b[39m\u001b[32mpandas/_libs/hashtable_class_helper.pxi:7088\u001b[39m, in \u001b[36mpandas._libs.hashtable.PyObjectHashTable.get_item\u001b[39m\u001b[34m()\u001b[39m\n",
      "\u001b[36mFile \u001b[39m\u001b[32mpandas/_libs/hashtable_class_helper.pxi:7096\u001b[39m, in \u001b[36mpandas._libs.hashtable.PyObjectHashTable.get_item\u001b[39m\u001b[34m()\u001b[39m\n",
      "\u001b[31mKeyError\u001b[39m: 'Category'",
      "\nThe above exception was the direct cause of the following exception:\n",
      "\u001b[31mKeyError\u001b[39m                                  Traceback (most recent call last)",
      "\u001b[36mCell\u001b[39m\u001b[36m \u001b[39m\u001b[32mIn[29]\u001b[39m\u001b[32m, line 6\u001b[39m\n\u001b[32m      3\u001b[39m workout_df[\u001b[33m\"\u001b[39m\u001b[33mDate\u001b[39m\u001b[33m\"\u001b[39m] = workout_df[\u001b[33m\"\u001b[39m\u001b[33mDate\u001b[39m\u001b[33m\"\u001b[39m].dt.normalize()\n\u001b[32m      5\u001b[39m workout_df.to_csv(\u001b[33m\"\u001b[39m\u001b[33m./Data/StrongApp_WorkoutData.csv\u001b[39m\u001b[33m\"\u001b[39m)\n\u001b[32m----> \u001b[39m\u001b[32m6\u001b[39m \u001b[43mworkout_df\u001b[49m\u001b[43m[\u001b[49m\u001b[33;43m\"\u001b[39;49m\u001b[33;43mCategory\u001b[39;49m\u001b[33;43m\"\u001b[39;49m\u001b[43m]\u001b[49m.value_counts()\n",
      "\u001b[36mFile \u001b[39m\u001b[32mc:\\Users\\harri\\Documents\\GitHub\\Body-Composition-Analysis\\.venv\\Lib\\site-packages\\pandas\\core\\frame.py:4107\u001b[39m, in \u001b[36mDataFrame.__getitem__\u001b[39m\u001b[34m(self, key)\u001b[39m\n\u001b[32m   4105\u001b[39m \u001b[38;5;28;01mif\u001b[39;00m \u001b[38;5;28mself\u001b[39m.columns.nlevels > \u001b[32m1\u001b[39m:\n\u001b[32m   4106\u001b[39m     \u001b[38;5;28;01mreturn\u001b[39;00m \u001b[38;5;28mself\u001b[39m._getitem_multilevel(key)\n\u001b[32m-> \u001b[39m\u001b[32m4107\u001b[39m indexer = \u001b[38;5;28;43mself\u001b[39;49m\u001b[43m.\u001b[49m\u001b[43mcolumns\u001b[49m\u001b[43m.\u001b[49m\u001b[43mget_loc\u001b[49m\u001b[43m(\u001b[49m\u001b[43mkey\u001b[49m\u001b[43m)\u001b[49m\n\u001b[32m   4108\u001b[39m \u001b[38;5;28;01mif\u001b[39;00m is_integer(indexer):\n\u001b[32m   4109\u001b[39m     indexer = [indexer]\n",
      "\u001b[36mFile \u001b[39m\u001b[32mc:\\Users\\harri\\Documents\\GitHub\\Body-Composition-Analysis\\.venv\\Lib\\site-packages\\pandas\\core\\indexes\\base.py:3819\u001b[39m, in \u001b[36mIndex.get_loc\u001b[39m\u001b[34m(self, key)\u001b[39m\n\u001b[32m   3814\u001b[39m     \u001b[38;5;28;01mif\u001b[39;00m \u001b[38;5;28misinstance\u001b[39m(casted_key, \u001b[38;5;28mslice\u001b[39m) \u001b[38;5;129;01mor\u001b[39;00m (\n\u001b[32m   3815\u001b[39m         \u001b[38;5;28misinstance\u001b[39m(casted_key, abc.Iterable)\n\u001b[32m   3816\u001b[39m         \u001b[38;5;129;01mand\u001b[39;00m \u001b[38;5;28many\u001b[39m(\u001b[38;5;28misinstance\u001b[39m(x, \u001b[38;5;28mslice\u001b[39m) \u001b[38;5;28;01mfor\u001b[39;00m x \u001b[38;5;129;01min\u001b[39;00m casted_key)\n\u001b[32m   3817\u001b[39m     ):\n\u001b[32m   3818\u001b[39m         \u001b[38;5;28;01mraise\u001b[39;00m InvalidIndexError(key)\n\u001b[32m-> \u001b[39m\u001b[32m3819\u001b[39m     \u001b[38;5;28;01mraise\u001b[39;00m \u001b[38;5;167;01mKeyError\u001b[39;00m(key) \u001b[38;5;28;01mfrom\u001b[39;00m\u001b[38;5;250m \u001b[39m\u001b[34;01merr\u001b[39;00m\n\u001b[32m   3820\u001b[39m \u001b[38;5;28;01mexcept\u001b[39;00m \u001b[38;5;167;01mTypeError\u001b[39;00m:\n\u001b[32m   3821\u001b[39m     \u001b[38;5;66;03m# If we have a listlike key, _check_indexing_error will raise\u001b[39;00m\n\u001b[32m   3822\u001b[39m     \u001b[38;5;66;03m#  InvalidIndexError. Otherwise we fall through and re-raise\u001b[39;00m\n\u001b[32m   3823\u001b[39m     \u001b[38;5;66;03m#  the TypeError.\u001b[39;00m\n\u001b[32m   3824\u001b[39m     \u001b[38;5;28mself\u001b[39m._check_indexing_error(key)\n",
      "\u001b[31mKeyError\u001b[39m: 'Category'"
     ]
    }
   ],
   "source": [
    "workout_df = pd.read_csv(\"./Data/StrongApp_WorkoutData.csv\")\n",
    "workout_df[\"Date\"] = pd.to_datetime(workout_df[\"Date\"], errors=\"coerce\")\n",
    "workout_df[\"Date\"] = workout_df[\"Date\"].dt.normalize()\n",
    "\n",
    "workout_df.to_csv(\"./Data/StrongApp_WorkoutData.csv\")\n",
    "workout_df[\"Category\"].value_counts()\n",
    "\n"
   ]
  },
  {
   "cell_type": "markdown",
   "id": "cdd6c73fbe114f71",
   "metadata": {},
   "source": [
    "There may be some inaccuracies with this data. As far as I am aware, I have recorded this accurately, however the machines used may have had different resistance profiles which can make the graphs look misleading\n",
    "\n",
    "I need to check some of the machines- I am unsure whether the machines that I used to train my legs in 2024 measured the weight in lbs, leading to inflated 1RM figures"
   ]
  },
  {
   "cell_type": "markdown",
   "id": "86e8776df9d5d5de",
   "metadata": {},
   "source": [
    "# Lateral Raise"
   ]
  },
  {
   "cell_type": "code",
   "execution_count": 22,
   "id": "24bb29191b4ab32",
   "metadata": {
    "ExecuteTime": {
     "end_time": "2025-08-23T19:31:14.097282Z",
     "start_time": "2025-08-23T19:31:13.757969Z"
    }
   },
   "outputs": [],
   "source": [
    "exercise_category = \"Lateral Raise (Dumbbell, All Variants)\"\n",
    "exercise = workout_df[(workout_df[\"Category\"] == exercise_category)]\n",
    "exercise_1rms = exercise.groupby(\"Date\")[\"Epley 1RM\"].max()\n",
    "\n",
    "figure, ax = plt.subplots(figsize=(10, 6), dpi=250, facecolor='white')\n",
    "ax.set_title(f\"{exercise_category}: 1RM Progression.png\")\n",
    "ax.plot(exercise_1rms, marker=\".\")\n",
    "ax.grid(axis = 'y')\n",
    "ax.set_ylabel(\"1RM Weight, kg\")\n",
    "figure.savefig(f\"./Charts/1RM/{exercise_category} 1RM Progression.png\")\n",
    "plt.close()"
   ]
  },
  {
   "cell_type": "markdown",
   "id": "4a895b908a249858",
   "metadata": {},
   "source": [
    "# Lat Pulldowns"
   ]
  },
  {
   "cell_type": "code",
   "execution_count": 23,
   "id": "fd2fa015e0ecc3f5",
   "metadata": {
    "ExecuteTime": {
     "end_time": "2025-08-23T19:31:14.473495Z",
     "start_time": "2025-08-23T19:31:14.241383Z"
    }
   },
   "outputs": [],
   "source": [
    "exercise_category = \"Lat Pulldown (All Variants)\"\n",
    "exercise = workout_df[(workout_df[\"Category\"] == exercise_category)]\n",
    "exercise_1rms = exercise.groupby(\"Date\")[\"Epley 1RM\"].max()\n",
    "\n",
    "figure, ax = plt.subplots(figsize=(10, 6), dpi=250, facecolor='white')\n",
    "ax.set_title(f\"{exercise_category}: 1RM Progression.png\")\n",
    "ax.plot(exercise_1rms, marker=\".\")\n",
    "ax.grid(axis = 'y')\n",
    "ax.set_ylabel(\"1RM Weight, kg\")\n",
    "figure.savefig(f\"./Charts/1RM/{exercise_category} 1RM Progression.png\")\n",
    "plt.close()"
   ]
  },
  {
   "cell_type": "markdown",
   "id": "2435e561bbcff268",
   "metadata": {},
   "source": [
    "# Bicep Curls"
   ]
  },
  {
   "cell_type": "code",
   "execution_count": 24,
   "id": "861b4a512ef18fcf",
   "metadata": {
    "ExecuteTime": {
     "end_time": "2025-08-23T19:31:14.730043Z",
     "start_time": "2025-08-23T19:31:14.533019Z"
    }
   },
   "outputs": [],
   "source": [
    "exercise_category = \"Biceps Curl (Dumbbell, All Variants)\"\n",
    "exercise = workout_df[(workout_df[\"Category\"] == exercise_category)]\n",
    "exercise_1rms = exercise.groupby(\"Date\")[\"Epley 1RM\"].max()\n",
    "\n",
    "figure, ax = plt.subplots(figsize=(10, 6), dpi=250, facecolor='white')\n",
    "ax.set_title(f\"{exercise_category}: 1RM Progression.png\")\n",
    "ax.plot(exercise_1rms, marker=\".\")\n",
    "ax.grid(axis = 'y')\n",
    "ax.set_ylabel(\"1RM Weight, kg\")\n",
    "figure.savefig(f\"./Charts/1RM/{exercise_category} 1RM Progression.png\")\n",
    "plt.close()"
   ]
  },
  {
   "cell_type": "markdown",
   "id": "29c741a39ac93507",
   "metadata": {},
   "source": [
    "# Triceps Press Down"
   ]
  },
  {
   "cell_type": "code",
   "execution_count": 25,
   "id": "240ac85743b098ac",
   "metadata": {
    "ExecuteTime": {
     "end_time": "2025-08-23T19:31:14.962569Z",
     "start_time": "2025-08-23T19:31:14.762264Z"
    }
   },
   "outputs": [],
   "source": [
    "exercise_category = \"Triceps Pushdown (Cable, All Variants)\"\n",
    "exercise = workout_df[(workout_df[\"Category\"] == exercise_category)]\n",
    "exercise_1rms = exercise.groupby(\"Date\")[\"Epley 1RM\"].max()\n",
    "# print(exercise_1rms)\n",
    "\n",
    "figure, ax = plt.subplots(figsize=(10, 6), dpi=250, facecolor='white')\n",
    "ax.set_title(f\"{exercise_category}: 1RM Progression.png\")\n",
    "ax.plot(exercise_1rms, marker=\".\")\n",
    "ax.grid(axis = 'y')\n",
    "ax.set_ylabel(\"1RM Weight, kg\")\n",
    "figure.savefig(f\"./Charts/1RM/{exercise_category} 1RM Progression.png\")\n",
    "plt.close()"
   ]
  },
  {
   "cell_type": "markdown",
   "id": "b575c18d8cf114ff",
   "metadata": {},
   "source": [
    "# Leg Press\n",
    "I need out if the gym I was using in September 2024 measured the weight in lbs or kgs. this is true of all the leg exercises"
   ]
  },
  {
   "cell_type": "code",
   "execution_count": 26,
   "id": "cfa74b68b21a2d90",
   "metadata": {
    "ExecuteTime": {
     "end_time": "2025-08-23T19:31:15.148943Z",
     "start_time": "2025-08-23T19:31:14.979465Z"
    }
   },
   "outputs": [],
   "source": [
    "exercise_category = \"Seated Leg Press (Machine, All Variants)\"\n",
    "exercise = workout_df[(workout_df[\"Category\"] == exercise_category)]\n",
    "exercise_1rms = exercise.groupby(\"Date\")[\"Epley 1RM\"].max()\n",
    "# print(exercise_1rms)\n",
    "\n",
    "figure, ax = plt.subplots(figsize=(10, 6), dpi=250, facecolor='white')\n",
    "ax.set_title(f\"{exercise_category}: 1RM Progression.png\")\n",
    "ax.plot(exercise_1rms, marker=\".\")\n",
    "ax.grid(axis = 'y')\n",
    "ax.set_ylabel(\"1RM Weight, kg\")\n",
    "figure.savefig(f\"./Charts/1RM/{exercise_category} 1RM Progression.png\")\n",
    "plt.close()"
   ]
  },
  {
   "cell_type": "markdown",
   "id": "37b2a90005e9c8f7",
   "metadata": {},
   "source": [
    "# Hip Abductors"
   ]
  },
  {
   "cell_type": "code",
   "execution_count": 27,
   "id": "db89fbb966ade935",
   "metadata": {
    "ExecuteTime": {
     "end_time": "2025-08-23T19:31:15.362840Z",
     "start_time": "2025-08-23T19:31:15.173400Z"
    }
   },
   "outputs": [],
   "source": [
    "exercise_category = \"Hip Abductor (Machine, All Variants)\"\n",
    "exercise = workout_df[(workout_df[\"Category\"] == exercise_category)]\n",
    "exercise_1rms = exercise.groupby(\"Date\")[\"Epley 1RM\"].max()\n",
    "# print(exercise_1rms)\n",
    "\n",
    "figure, ax = plt.subplots(figsize=(10, 6), dpi=250, facecolor='white')\n",
    "ax.set_title(f\"{exercise_category}: 1RM Progression.png\")\n",
    "ax.plot(exercise_1rms, marker=\".\")\n",
    "ax.grid(axis = 'y')\n",
    "ax.set_ylabel(\"1RM Weight, kg\")\n",
    "figure.savefig(f\"./Charts/1RM/{exercise_category} 1RM Progression.png\")\n",
    "plt.close()"
   ]
  },
  {
   "cell_type": "markdown",
   "id": "b09568fd3d60b830",
   "metadata": {},
   "source": [
    "# Hip Adductors"
   ]
  },
  {
   "cell_type": "code",
   "execution_count": 28,
   "id": "94b3a8e5c9758c49",
   "metadata": {
    "ExecuteTime": {
     "end_time": "2025-08-23T19:31:15.575369Z",
     "start_time": "2025-08-23T19:31:15.380489Z"
    }
   },
   "outputs": [],
   "source": [
    "exercise_category = \"Hip Adductor (Machine, All Variants)\"\n",
    "exercise = workout_df[(workout_df[\"Category\"] == exercise_category)]\n",
    "exercise_1rms = exercise.groupby(\"Date\")[\"Epley 1RM\"].max()\n",
    "# print(exercise_1rms)\n",
    "\n",
    "figure, ax = plt.subplots(figsize=(10, 6), dpi=250, facecolor='white')\n",
    "ax.set_title(f\"{exercise_category}: 1RM Progression.png\")\n",
    "ax.plot(exercise_1rms, marker=\".\")\n",
    "ax.grid(axis = 'y')\n",
    "ax.set_ylabel(\"1RM Weight, kg\")\n",
    "figure.savefig(f\"./Charts/1RM/{exercise_category} 1RM Progression.png\")\n",
    "plt.close()"
   ]
  }
 ],
 "metadata": {
  "kernelspec": {
   "display_name": ".venv",
   "language": "python",
   "name": "python3"
  },
  "language_info": {
   "codemirror_mode": {
    "name": "ipython",
    "version": 3
   },
   "file_extension": ".py",
   "mimetype": "text/x-python",
   "name": "python",
   "nbconvert_exporter": "python",
   "pygments_lexer": "ipython3",
   "version": "3.12.0"
  }
 },
 "nbformat": 4,
 "nbformat_minor": 5
}
