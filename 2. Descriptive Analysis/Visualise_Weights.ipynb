{
 "cells": [
  {
   "cell_type": "code",
   "id": "initial_id",
   "metadata": {
    "collapsed": true,
    "ExecuteTime": {
     "end_time": "2025-08-18T22:24:41.286910Z",
     "start_time": "2025-08-18T22:24:40.580759Z"
    }
   },
   "source": [
    "import pandas as pd\n",
    "import matplotlib.pyplot as plt"
   ],
   "outputs": [],
   "execution_count": 4
  },
  {
   "metadata": {
    "ExecuteTime": {
     "end_time": "2025-08-18T22:24:41.402160Z",
     "start_time": "2025-08-18T22:24:41.394626Z"
    }
   },
   "cell_type": "code",
   "source": "weights_df = pd.read_csv(\"../1. Inspect, Clean and Validate Dataset/CleanedData/Cleaned_WeightsAndCalories_IncEstimated.csv\")",
   "id": "b9fc3ebbecbb975d",
   "outputs": [],
   "execution_count": 5
  },
  {
   "metadata": {
    "ExecuteTime": {
     "end_time": "2025-08-18T22:33:42.711020Z",
     "start_time": "2025-08-18T22:33:42.641567Z"
    }
   },
   "cell_type": "code",
   "source": [
    "plt.hist(weights_df[\"Weight, kg\"])\n",
    "plt.xlabel(\"Body Weight (kg)\")\n",
    "plt.ylabel(\"Frequency\")\n",
    "plt.title(\"Histogram of Body Weights\")\n",
    "plt.show()\n",
    "plt.close()\n",
    "\n",
    "weights_df.describe()"
   ],
   "id": "cead1518e7ca00bc",
   "outputs": [
    {
     "data": {
      "text/plain": [
       "<Figure size 640x480 with 1 Axes>"
      ],
      "image/png": "[encoded data removed]"
     },
     "metadata": {},
     "output_type": "display_data"
    },
    {
     "data": {
      "text/plain": [
       "        Weight, kg          BMI  Body Fat Percentage  Muscle Percentage  \\\n",
       "count  1363.000000  1363.000000          1363.000000        1363.000000   \n",
       "mean     61.349215    20.863596            17.138423          41.402429   \n",
       "std       3.452792     5.573509             3.386314           1.778906   \n",
       "min      49.400000     2.190000             5.200000          38.500000   \n",
       "25%      59.800000    20.200000            16.100000          40.100000   \n",
       "50%      62.100000    21.000000            18.000000          41.000000   \n",
       "75%      63.800000    21.600000            19.500000          42.100000   \n",
       "max      67.200000   221.000000            22.100000          47.700000   \n",
       "\n",
       "               RMI  Visceral Fat Percentage  Calories In  \n",
       "count  1362.000000              1362.000000  1309.000000  \n",
       "mean   1524.301050                 3.590299  2275.708938  \n",
       "std      66.475802                 1.180565   616.909584  \n",
       "min      15.800000                 1.000000     0.000000  \n",
       "25%    1496.000000                 3.000000  2007.000000  \n",
       "50%    1537.000000                 4.000000  2383.000000  \n",
       "75%    1563.000000                 4.249750  2646.000000  \n",
       "max    1629.000000                 5.000000  6242.000000  "
      ],
      "text/html": [
       "<div>\n",
       "<style scoped>\n",
       "    .dataframe tbody tr th:only-of-type {\n",
       "        vertical-align: middle;\n",
       "    }\n",
       "\n",
       "    .dataframe tbody tr th {\n",
       "        vertical-align: top;\n",
       "    }\n",
       "\n",
       "    .dataframe thead th {\n",
       "        text-align: right;\n",
       "    }\n",
       "</style>\n",
       "<table border=\"1\" class=\"dataframe\">\n",
       "  <thead>\n",
       "    <tr style=\"text-align: right;\">\n",
       "      <th></th>\n",
       "      <th>Weight, kg</th>\n",
       "      <th>BMI</th>\n",
       "      <th>Body Fat Percentage</th>\n",
       "      <th>Muscle Percentage</th>\n",
       "      <th>RMI</th>\n",
       "      <th>Visceral Fat Percentage</th>\n",
       "      <th>Calories In</th>\n",
       "    </tr>\n",
       "  </thead>\n",
       "  <tbody>\n",
       "    <tr>\n",
       "      <th>count</th>\n",
       "      <td>1363.000000</td>\n",
       "      <td>1363.000000</td>\n",
       "      <td>1363.000000</td>\n",
       "      <td>1363.000000</td>\n",
       "      <td>1362.000000</td>\n",
       "      <td>1362.000000</td>\n",
       "      <td>1309.000000</td>\n",
       "    </tr>\n",
       "    <tr>\n",
       "      <th>mean</th>\n",
       "      <td>61.349215</td>\n",
       "      <td>20.863596</td>\n",
       "      <td>17.138423</td>\n",
       "      <td>41.402429</td>\n",
       "      <td>1524.301050</td>\n",
       "      <td>3.590299</td>\n",
       "      <td>2275.708938</td>\n",
       "    </tr>\n",
       "    <tr>\n",
       "      <th>std</th>\n",
       "      <td>3.452792</td>\n",
       "      <td>5.573509</td>\n",
       "      <td>3.386314</td>\n",
       "      <td>1.778906</td>\n",
       "      <td>66.475802</td>\n",
       "      <td>1.180565</td>\n",
       "      <td>616.909584</td>\n",
       "    </tr>\n",
       "    <tr>\n",
       "      <th>min</th>\n",
       "      <td>49.400000</td>\n",
       "      <td>2.190000</td>\n",
       "      <td>5.200000</td>\n",
       "      <td>38.500000</td>\n",
       "      <td>15.800000</td>\n",
       "      <td>1.000000</td>\n",
       "      <td>0.000000</td>\n",
       "    </tr>\n",
       "    <tr>\n",
       "      <th>25%</th>\n",
       "      <td>59.800000</td>\n",
       "      <td>20.200000</td>\n",
       "      <td>16.100000</td>\n",
       "      <td>40.100000</td>\n",
       "      <td>1496.000000</td>\n",
       "      <td>3.000000</td>\n",
       "      <td>2007.000000</td>\n",
       "    </tr>\n",
       "    <tr>\n",
       "      <th>50%</th>\n",
       "      <td>62.100000</td>\n",
       "      <td>21.000000</td>\n",
       "      <td>18.000000</td>\n",
       "      <td>41.000000</td>\n",
       "      <td>1537.000000</td>\n",
       "      <td>4.000000</td>\n",
       "      <td>2383.000000</td>\n",
       "    </tr>\n",
       "    <tr>\n",
       "      <th>75%</th>\n",
       "      <td>63.800000</td>\n",
       "      <td>21.600000</td>\n",
       "      <td>19.500000</td>\n",
       "      <td>42.100000</td>\n",
       "      <td>1563.000000</td>\n",
       "      <td>4.249750</td>\n",
       "      <td>2646.000000</td>\n",
       "    </tr>\n",
       "    <tr>\n",
       "      <th>max</th>\n",
       "      <td>67.200000</td>\n",
       "      <td>221.000000</td>\n",
       "      <td>22.100000</td>\n",
       "      <td>47.700000</td>\n",
       "      <td>1629.000000</td>\n",
       "      <td>5.000000</td>\n",
       "      <td>6242.000000</td>\n",
       "    </tr>\n",
       "  </tbody>\n",
       "</table>\n",
       "</div>"
      ]
     },
     "execution_count": 16,
     "metadata": {},
     "output_type": "execute_result"
    }
   ],
   "execution_count": 16
  },
  {
   "metadata": {},
   "cell_type": "code",
   "outputs": [],
   "execution_count": null,
   "source": "",
   "id": "7709eff5818d350f"
  }
 ],
 "metadata": {
  "kernelspec": {
   "display_name": "Python 3",
   "language": "python",
   "name": "python3"
  },
  "language_info": {
   "codemirror_mode": {
    "name": "ipython",
    "version": 2
   },
   "file_extension": ".py",
   "mimetype": "text/x-python",
   "name": "python",
   "nbconvert_exporter": "python",
   "pygments_lexer": "ipython2",
   "version": "2.7.6"
  }
 },
 "nbformat": 4,
 "nbformat_minor": 5
}
