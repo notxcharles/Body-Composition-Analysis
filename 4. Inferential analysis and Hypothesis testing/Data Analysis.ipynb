{
 "cells": [
  {
   "cell_type": "code",
   "execution_count": 2,
   "id": "353fc101",
   "metadata": {},
   "outputs": [],
   "source": [
    "import pandas as pd\n",
    "import matplotlib.pyplot as plt\n",
    "import numpy as np\n",
    "from scipy.stats import shapiro, levene, mannwhitneyu, norm, ks_2samp, median_test, brunnermunzel\n",
    "import math\n",
    "from itertools import product"
   ]
  },
  {
   "cell_type": "code",
   "execution_count": 3,
   "id": "bd82ce42",
   "metadata": {},
   "outputs": [
    {
     "data": {
      "application/vnd.microsoft.datawrangler.viewer.v0+json": {
       "columns": [
        {
         "name": "index",
         "rawType": "int64",
         "type": "integer"
        },
        {
         "name": "Date",
         "rawType": "object",
         "type": "string"
        },
        {
         "name": "Daily Weight Change",
         "rawType": "float64",
         "type": "float"
        },
        {
         "name": "Calories Group",
         "rawType": "object",
         "type": "string"
        },
        {
         "name": "Exercise Calories Burned",
         "rawType": "float64",
         "type": "float"
        },
        {
         "name": "Did Exercise",
         "rawType": "float64",
         "type": "float"
        }
       ],
       "ref": "b42efd8f-44d6-4497-ae89-ed327631a715",
       "rows": [
        [
         "0",
         "2024-02-05",
         "0.2000000000000028",
         "2511-2520",
         "593.0",
         "1.0"
        ],
        [
         "1",
         "2024-09-11",
         "0.0",
         "2511-2520",
         "469.0",
         "1.0"
        ],
        [
         "2",
         "2024-09-02",
         "0.1999999999999957",
         "2511-2520",
         "645.0",
         "1.0"
        ],
        [
         "3",
         "2024-11-09",
         "-0.1000000000000014",
         "2751-2760",
         "162.0",
         "1.0"
        ],
        [
         "4",
         "2024-10-11",
         "0.2000000000000028",
         "2751-2760",
         "230.0",
         "1.0"
        ]
       ],
       "shape": {
        "columns": 5,
        "rows": 5
       }
      },
      "text/html": [
       "<div>\n",
       "<style scoped>\n",
       "    .dataframe tbody tr th:only-of-type {\n",
       "        vertical-align: middle;\n",
       "    }\n",
       "\n",
       "    .dataframe tbody tr th {\n",
       "        vertical-align: top;\n",
       "    }\n",
       "\n",
       "    .dataframe thead th {\n",
       "        text-align: right;\n",
       "    }\n",
       "</style>\n",
       "<table border=\"1\" class=\"dataframe\">\n",
       "  <thead>\n",
       "    <tr style=\"text-align: right;\">\n",
       "      <th></th>\n",
       "      <th>Date</th>\n",
       "      <th>Daily Weight Change</th>\n",
       "      <th>Calories Group</th>\n",
       "      <th>Exercise Calories Burned</th>\n",
       "      <th>Did Exercise</th>\n",
       "    </tr>\n",
       "  </thead>\n",
       "  <tbody>\n",
       "    <tr>\n",
       "      <th>0</th>\n",
       "      <td>2024-02-05</td>\n",
       "      <td>0.2</td>\n",
       "      <td>2511-2520</td>\n",
       "      <td>593.0</td>\n",
       "      <td>1.0</td>\n",
       "    </tr>\n",
       "    <tr>\n",
       "      <th>1</th>\n",
       "      <td>2024-09-11</td>\n",
       "      <td>0.0</td>\n",
       "      <td>2511-2520</td>\n",
       "      <td>469.0</td>\n",
       "      <td>1.0</td>\n",
       "    </tr>\n",
       "    <tr>\n",
       "      <th>2</th>\n",
       "      <td>2024-09-02</td>\n",
       "      <td>0.2</td>\n",
       "      <td>2511-2520</td>\n",
       "      <td>645.0</td>\n",
       "      <td>1.0</td>\n",
       "    </tr>\n",
       "    <tr>\n",
       "      <th>3</th>\n",
       "      <td>2024-11-09</td>\n",
       "      <td>-0.1</td>\n",
       "      <td>2751-2760</td>\n",
       "      <td>162.0</td>\n",
       "      <td>1.0</td>\n",
       "    </tr>\n",
       "    <tr>\n",
       "      <th>4</th>\n",
       "      <td>2024-10-11</td>\n",
       "      <td>0.2</td>\n",
       "      <td>2751-2760</td>\n",
       "      <td>230.0</td>\n",
       "      <td>1.0</td>\n",
       "    </tr>\n",
       "  </tbody>\n",
       "</table>\n",
       "</div>"
      ],
      "text/plain": [
       "         Date  Daily Weight Change Calories Group  Exercise Calories Burned  \\\n",
       "0  2024-02-05                  0.2      2511-2520                     593.0   \n",
       "1  2024-09-11                  0.0      2511-2520                     469.0   \n",
       "2  2024-09-02                  0.2      2511-2520                     645.0   \n",
       "3  2024-11-09                 -0.1      2751-2760                     162.0   \n",
       "4  2024-10-11                  0.2      2751-2760                     230.0   \n",
       "\n",
       "   Did Exercise  \n",
       "0           1.0  \n",
       "1           1.0  \n",
       "2           1.0  \n",
       "3           1.0  \n",
       "4           1.0  "
      ]
     },
     "execution_count": 3,
     "metadata": {},
     "output_type": "execute_result"
    }
   ],
   "source": [
    "did_exercise_df = pd.read_csv(\"./Completed Datasets/Did Exercise Group.csv\")\n",
    "did_exercise_df.head()"
   ]
  },
  {
   "cell_type": "code",
   "execution_count": 4,
   "id": "8b95f94d",
   "metadata": {},
   "outputs": [
    {
     "data": {
      "application/vnd.microsoft.datawrangler.viewer.v0+json": {
       "columns": [
        {
         "name": "index",
         "rawType": "int64",
         "type": "integer"
        },
        {
         "name": "Date",
         "rawType": "object",
         "type": "string"
        },
        {
         "name": "Daily Weight Change",
         "rawType": "float64",
         "type": "float"
        },
        {
         "name": "Calories Group",
         "rawType": "object",
         "type": "string"
        },
        {
         "name": "Exercise Calories Burned",
         "rawType": "float64",
         "type": "float"
        },
        {
         "name": "Did Exercise",
         "rawType": "float64",
         "type": "float"
        }
       ],
       "ref": "ae9937eb-0634-4385-b747-8981ef3b4823",
       "rows": [
        [
         "0",
         "2025-02-18",
         "-0.1999999999999957",
         "2511-2520",
         null,
         "0.0"
        ],
        [
         "1",
         "2025-01-31",
         "0.1999999999999957",
         "2511-2520",
         null,
         "0.0"
        ],
        [
         "2",
         "2024-09-21",
         "-0.2999999999999971",
         "2511-2520",
         null,
         "0.0"
        ],
        [
         "3",
         "2024-10-14",
         "-0.2000000000000028",
         "2751-2760",
         null,
         "0.0"
        ],
        [
         "4",
         "2024-10-06",
         "0.6999999999999957",
         "2751-2760",
         null,
         "0.0"
        ]
       ],
       "shape": {
        "columns": 5,
        "rows": 5
       }
      },
      "text/html": [
       "<div>\n",
       "<style scoped>\n",
       "    .dataframe tbody tr th:only-of-type {\n",
       "        vertical-align: middle;\n",
       "    }\n",
       "\n",
       "    .dataframe tbody tr th {\n",
       "        vertical-align: top;\n",
       "    }\n",
       "\n",
       "    .dataframe thead th {\n",
       "        text-align: right;\n",
       "    }\n",
       "</style>\n",
       "<table border=\"1\" class=\"dataframe\">\n",
       "  <thead>\n",
       "    <tr style=\"text-align: right;\">\n",
       "      <th></th>\n",
       "      <th>Date</th>\n",
       "      <th>Daily Weight Change</th>\n",
       "      <th>Calories Group</th>\n",
       "      <th>Exercise Calories Burned</th>\n",
       "      <th>Did Exercise</th>\n",
       "    </tr>\n",
       "  </thead>\n",
       "  <tbody>\n",
       "    <tr>\n",
       "      <th>0</th>\n",
       "      <td>2025-02-18</td>\n",
       "      <td>-0.2</td>\n",
       "      <td>2511-2520</td>\n",
       "      <td>NaN</td>\n",
       "      <td>0.0</td>\n",
       "    </tr>\n",
       "    <tr>\n",
       "      <th>1</th>\n",
       "      <td>2025-01-31</td>\n",
       "      <td>0.2</td>\n",
       "      <td>2511-2520</td>\n",
       "      <td>NaN</td>\n",
       "      <td>0.0</td>\n",
       "    </tr>\n",
       "    <tr>\n",
       "      <th>2</th>\n",
       "      <td>2024-09-21</td>\n",
       "      <td>-0.3</td>\n",
       "      <td>2511-2520</td>\n",
       "      <td>NaN</td>\n",
       "      <td>0.0</td>\n",
       "    </tr>\n",
       "    <tr>\n",
       "      <th>3</th>\n",
       "      <td>2024-10-14</td>\n",
       "      <td>-0.2</td>\n",
       "      <td>2751-2760</td>\n",
       "      <td>NaN</td>\n",
       "      <td>0.0</td>\n",
       "    </tr>\n",
       "    <tr>\n",
       "      <th>4</th>\n",
       "      <td>2024-10-06</td>\n",
       "      <td>0.7</td>\n",
       "      <td>2751-2760</td>\n",
       "      <td>NaN</td>\n",
       "      <td>0.0</td>\n",
       "    </tr>\n",
       "  </tbody>\n",
       "</table>\n",
       "</div>"
      ],
      "text/plain": [
       "         Date  Daily Weight Change Calories Group  Exercise Calories Burned  \\\n",
       "0  2025-02-18                 -0.2      2511-2520                       NaN   \n",
       "1  2025-01-31                  0.2      2511-2520                       NaN   \n",
       "2  2024-09-21                 -0.3      2511-2520                       NaN   \n",
       "3  2024-10-14                 -0.2      2751-2760                       NaN   \n",
       "4  2024-10-06                  0.7      2751-2760                       NaN   \n",
       "\n",
       "   Did Exercise  \n",
       "0           0.0  \n",
       "1           0.0  \n",
       "2           0.0  \n",
       "3           0.0  \n",
       "4           0.0  "
      ]
     },
     "execution_count": 4,
     "metadata": {},
     "output_type": "execute_result"
    }
   ],
   "source": [
    "no_exercise_df = pd.read_csv(\"./Completed Datasets/No Exercise Group.csv\")\n",
    "no_exercise_df.head()"
   ]
  },
  {
   "cell_type": "markdown",
   "id": "e60fa061",
   "metadata": {},
   "source": [
    "# Summary Statistics\n",
    "Summary statistics for both groups"
   ]
  },
  {
   "cell_type": "code",
   "execution_count": 5,
   "id": "e4038e27",
   "metadata": {},
   "outputs": [
    {
     "name": "stdout",
     "output_type": "stream",
     "text": [
      "Summary Statistics for the Did Exercise Group:\n",
      "sample_size=41\n",
      "mean_weight_change=np.float64(-0.03658536585365766)\n",
      "median_weight_change=np.float64(0.0)\n",
      "standard_deviation=np.float64(0.5889635377342894)\n",
      "minimum_and_maximum_values=[np.float64(-1.7000000000000028), np.float64(1.0)]\n",
      "quartiles=[np.float64(-0.2000000000000028), np.float64(0.2000000000000028)]\n",
      "interquartile_range=np.float64(0.4000000000000056)\n"
     ]
    }
   ],
   "source": [
    "# Summary Statistics for the Did Exercise Group\n",
    "sample_size = len(did_exercise_df)\n",
    "mean_weight_change = did_exercise_df[\"Daily Weight Change\"].mean()\n",
    "median_weight_change = did_exercise_df[\"Daily Weight Change\"].median()\n",
    "standard_deviation = did_exercise_df[\"Daily Weight Change\"].std()\n",
    "minimum_and_maximum_values = [did_exercise_df[\"Daily Weight Change\"].min(), did_exercise_df[\"Daily Weight Change\"].max()]\n",
    "quartiles = [did_exercise_df[\"Daily Weight Change\"].quantile(0.25), did_exercise_df[\"Daily Weight Change\"].quantile(0.75)]\n",
    "interquartile_range = quartiles[1] - quartiles[0]\n",
    "print(f\"Summary Statistics for the Did Exercise Group:\\n{sample_size=}\\n{mean_weight_change=}\\n{median_weight_change=}\\n{standard_deviation=}\\n{minimum_and_maximum_values=}\\n{quartiles=}\\n{interquartile_range=}\")"
   ]
  },
  {
   "cell_type": "code",
   "execution_count": 6,
   "id": "ea7b22da",
   "metadata": {},
   "outputs": [
    {
     "name": "stdout",
     "output_type": "stream",
     "text": [
      "Summary Statistics for the No Exercise Group:\n",
      "sample_size=41\n",
      "mean_weight_change=np.float64(0.1365853658536584)\n",
      "median_weight_change=np.float64(-0.0999999999999943)\n",
      "standard_deviation=np.float64(0.629585616719829)\n",
      "minimum_and_maximum_values=[np.float64(-1.1999999999999886), np.float64(1.5)]\n",
      "quartiles=[np.float64(-0.3000000000000042), np.float64(0.5)]\n",
      "interquartile_range=np.float64(0.8000000000000043)\n"
     ]
    }
   ],
   "source": [
    "# Summary Statistics for the No Exercise Group\n",
    "sample_size = len(no_exercise_df)\n",
    "mean_weight_change = no_exercise_df[\"Daily Weight Change\"].mean()\n",
    "median_weight_change = no_exercise_df[\"Daily Weight Change\"].median()\n",
    "standard_deviation = no_exercise_df[\"Daily Weight Change\"].std()\n",
    "minimum_and_maximum_values = [no_exercise_df[\"Daily Weight Change\"].min(), no_exercise_df[\"Daily Weight Change\"].max()]\n",
    "quartiles = [no_exercise_df[\"Daily Weight Change\"].quantile(0.25), no_exercise_df[\"Daily Weight Change\"].quantile(0.75)]\n",
    "interquartile_range = quartiles[1] - quartiles[0]\n",
    "print(f\"Summary Statistics for the No Exercise Group:\\n{sample_size=}\\n{mean_weight_change=}\\n{median_weight_change=}\\n{standard_deviation=}\\n{minimum_and_maximum_values=}\\n{quartiles=}\\n{interquartile_range=}\")"
   ]
  },
  {
   "cell_type": "code",
   "execution_count": 7,
   "id": "e772fc1f",
   "metadata": {},
   "outputs": [
    {
     "name": "stdout",
     "output_type": "stream",
     "text": [
      "Key Differences of Summary Statistics:\n",
      "mean_difference=np.float64(0.17317073170731606)\n",
      "median_difference=np.float64(0.0999999999999943)\n",
      "ratio_of_standard_deviations=np.float64(1.0689721457830998)\n"
     ]
    }
   ],
   "source": [
    "mean_difference = abs(no_exercise_df[\"Daily Weight Change\"].mean() - did_exercise_df[\"Daily Weight Change\"].mean())\n",
    "median_difference = abs(no_exercise_df[\"Daily Weight Change\"].median() - did_exercise_df[\"Daily Weight Change\"].median())\n",
    "noex_std = no_exercise_df[\"Daily Weight Change\"].std()\n",
    "didex_std = did_exercise_df[\"Daily Weight Change\"].std()\n",
    "ratio_of_standard_deviations = max(noex_std, didex_std) / min(noex_std, didex_std)\n",
    "\n",
    "print(f\"Key Differences of Summary Statistics:\\n{mean_difference=}\\n{median_difference=}\\n{ratio_of_standard_deviations=}\")"
   ]
  },
  {
   "cell_type": "markdown",
   "id": "a88a520d",
   "metadata": {},
   "source": [
    "# Visualisation"
   ]
  },
  {
   "cell_type": "markdown",
   "id": "3d63345a",
   "metadata": {},
   "source": [
    "### Histogram"
   ]
  },
  {
   "cell_type": "code",
   "execution_count": 8,
   "id": "6d66b5d0",
   "metadata": {},
   "outputs": [
    {
     "data": {
      "image/png": "[encoded data removed]",
      "text/plain": [
       "<Figure size 640x480 with 1 Axes>"
      ]
     },
     "metadata": {},
     "output_type": "display_data"
    }
   ],
   "source": [
    "did_bins = (did_exercise_df[\"Daily Weight Change\"].max() - did_exercise_df[\"Daily Weight Change\"].min()) / 0.1\n",
    "no_bins = (no_exercise_df[\"Daily Weight Change\"].max() - no_exercise_df[\"Daily Weight Change\"].min()) / 0.1\n",
    "bins = int(max(did_bins, no_bins)) + 1\n",
    "plt.hist(did_exercise_df[\"Daily Weight Change\"], alpha=0.5, label=\"Did Exercise\", bins=bins)\n",
    "plt.hist(no_exercise_df[\"Daily Weight Change\"], alpha=0.5, label=\"No Exercise\", bins=bins)\n",
    "plt.title(\"Overlapping Histogram of the Frequency of\\nDaily Weight Change values in each Sample Group\")\n",
    "plt.xlabel(\"Range of Daily Weight Changes\")\n",
    "plt.ylabel(\"Frequency\")\n",
    "plt.legend()\n",
    "plt.show()\n",
    "plt.close()"
   ]
  },
  {
   "cell_type": "markdown",
   "id": "f84acec5",
   "metadata": {},
   "source": [
    "### Box Plots"
   ]
  },
  {
   "cell_type": "code",
   "execution_count": 9,
   "id": "17eeae27",
   "metadata": {},
   "outputs": [
    {
     "data": {
      "image/png": "[encoded data removed]",
      "text/plain": [
       "<Figure size 640x480 with 1 Axes>"
      ]
     },
     "metadata": {},
     "output_type": "display_data"
    }
   ],
   "source": [
    "data = [did_exercise_df[\"Daily Weight Change\"], no_exercise_df[\"Daily Weight Change\"]]\n",
    "plt.boxplot(data, tick_labels=[\"Did Exercise\", \"No Exercise\"])\n",
    "plt.title(\"Daily Weight Change Boxplots for each Sample\")\n",
    "plt.ylabel(\"Daily Weight Change, kg\")\n",
    "plt.show()\n",
    "plt.close()"
   ]
  },
  {
   "cell_type": "markdown",
   "id": "757b3fdd",
   "metadata": {},
   "source": [
    "### Violin Plot"
   ]
  },
  {
   "cell_type": "code",
   "execution_count": null,
   "id": "09a2e583",
   "metadata": {},
   "outputs": [
    {
     "name": "stderr",
     "output_type": "stream",
     "text": [
      "C:\\Users\\harri\\AppData\\Local\\Temp\\ipykernel_17724\\1453787359.py:8: UserWarning: No artists with labels found to put in legend.  Note that artists whose label start with an underscore are ignored when legend() is called with no argument.\n",
      "  plt.legend()\n"
     ]
    },
    {
     "data": {
      "image/png": "[encoded data removed]",
      "text/plain": [
       "<Figure size 640x480 with 1 Axes>"
      ]
     },
     "metadata": {},
     "output_type": "display_data"
    }
   ],
   "source": [
    "plt.violinplot(data, showmedians=True, quantiles=[[0.25, 0.75], [0.25, 0.75]])\n",
    "\n",
    "plt.title(\"Comparison of Daily Weight Change\")\n",
    "plt.ylabel(\"Daily Weight Change (kg)\")\n",
    "plt.xticks([1, 2], labels=[\"Did Exercise\", \"No Exercise\"])\n",
    "\n",
    "medians = []\n",
    "medians.append(data[0].median())\n",
    "medians.append(data[1].median())\n",
    "\n",
    "plt.grid(True, axis=\"y\", linestyle=\"--\", alpha=0.6)\n",
    "plt.show()"
   ]
  },
  {
   "cell_type": "markdown",
   "id": "f72179a6",
   "metadata": {},
   "source": [
    "# Test for Normality\n",
    "Using the Shapiro-Wilk Test"
   ]
  },
  {
   "cell_type": "code",
   "execution_count": 11,
   "id": "bfef7430",
   "metadata": {},
   "outputs": [
    {
     "name": "stdout",
     "output_type": "stream",
     "text": [
      "statistic=np.float64(0.954894574745304)\n",
      "p=np.float64(0.10404803976812083)\n",
      "The data appears to be normally distributed since the W statistic is ~0.95.\n",
      "The p-value of ~0.10 supports this conclusion because it is not statistically significant\n"
     ]
    }
   ],
   "source": [
    "# Did Exercise Group\n",
    "statistic, p = shapiro(did_exercise_df[\"Daily Weight Change\"])\n",
    "print(f\"{statistic=}\\n{p=}\")\n",
    "print(f\"The data appears to be normally distributed since the W statistic is ~0.95.\\nThe p-value of ~0.10 supports\" +\n",
    "      \" this conclusion because it is not statistically significant\")"
   ]
  },
  {
   "cell_type": "code",
   "execution_count": 12,
   "id": "6e9ebd4e",
   "metadata": {},
   "outputs": [
    {
     "name": "stdout",
     "output_type": "stream",
     "text": [
      "statistic=np.float64(0.9231578695482393)\n",
      "p=np.float64(0.008618190048391278)\n",
      "Since the p-value is below my threshold of 0.05, I can reject the null hypothesis that the data is normally distributed.\n",
      "By rejecting it, I acknowledge that there is sufficient evidence to suggest that the data in the no exercise sample group is not normally distributed\n"
     ]
    }
   ],
   "source": [
    "# No exercise group\n",
    "statistic, p = shapiro(no_exercise_df[\"Daily Weight Change\"])\n",
    "print(f\"{statistic=}\\n{p=}\")\n",
    "print(f\"Since the p-value is below my threshold of 0.05, I can reject the null hypothesis that the data is\" +\n",
    "      \" normally distributed.\\nBy rejecting it, I acknowledge that there is sufficient evidence to suggest that\" +\n",
    "      \" the data in the no exercise sample group is not normally distributed\")"
   ]
  },
  {
   "cell_type": "markdown",
   "id": "5e9ef006",
   "metadata": {},
   "source": [
    "The group of records from days where I did exercise is likely to be normally distributed, whereas the group of records where I didn't do any exercise is unlikely to be normally distributed"
   ]
  },
  {
   "cell_type": "markdown",
   "id": "f96dcc89",
   "metadata": {},
   "source": [
    "# Test for Equal Variance\n",
    "\n",
    "### Levene's Test"
   ]
  },
  {
   "cell_type": "code",
   "execution_count": 13,
   "id": "3b1b9190",
   "metadata": {},
   "outputs": [
    {
     "name": "stdout",
     "output_type": "stream",
     "text": [
      "statistic=0.367\n",
      "p=0.546\n",
      "The Levene's test results indicate that the assumption of equal variances across the sample groups have been met.\n",
      "Since 0.546 is greater than the 0.05 significance level, I fail to reject the null hypothesis\n"
     ]
    }
   ],
   "source": [
    "statistic, p = levene(did_exercise_df[\"Daily Weight Change\"], no_exercise_df[\"Daily Weight Change\"])\n",
    "print(f\"{statistic=:.3f}\\n{p=:.3f}\")\n",
    "if p > 0.05:\n",
    "      print(f\"The Levene's test results indicate that the assumption of equal variances across the sample groups \" +\n",
    "      f\"have been met.\\nSince {p:.3f} is greater than the 0.05 significance level, I fail to reject the null hypothesis\")"
   ]
  },
  {
   "cell_type": "markdown",
   "id": "dc6d3771",
   "metadata": {},
   "source": [
    "# Hypothesis Testing\n",
    "\n",
    "### Man-Whitney U Test\n",
    "Because one of the sample groups is not normally distributed, I have chosen to use the Mann-Whitney U Test. I'm going to use a significance level of a = 0.05"
   ]
  },
  {
   "cell_type": "code",
   "execution_count": 14,
   "id": "1f3d146c",
   "metadata": {},
   "outputs": [
    {
     "name": "stdout",
     "output_type": "stream",
     "text": [
      "The test scored 0.756. Using a significance level of 0.05, we fail to reject the null hypothesis.\n"
     ]
    }
   ],
   "source": [
    "statistic, p = mannwhitneyu(no_exercise_df[\"Daily Weight Change\"], did_exercise_df[\"Daily Weight Change\"])\n",
    "alpha = 0.05\n",
    "if p < alpha:\n",
    "    print(f\"The test scored {p:.3f}. Using a significance level of {alpha}, we can reject the null hypothesis.\")\n",
    "else:\n",
    "    print(f\"The test scored {p:.3f}. Using a significance level of {alpha}, we fail to reject the null hypothesis.\")"
   ]
  },
  {
   "cell_type": "markdown",
   "id": "4474fa7e",
   "metadata": {},
   "source": [
    "Calculating the Critical Value Manually"
   ]
  },
  {
   "cell_type": "code",
   "execution_count": 15,
   "id": "0de44531",
   "metadata": {},
   "outputs": [
    {
     "name": "stdout",
     "output_type": "stream",
     "text": [
      "The test scored 0.753. Using a significance level of 0.05, we fail to reject the null hypothesis.\n"
     ]
    }
   ],
   "source": [
    "n1 = len(did_exercise_df)\n",
    "n2 = len(no_exercise_df)\n",
    "mean = (n1*n2)/2\n",
    "std_dev = math.sqrt(( (n1*n2)*(n1+n2+1) )/ 12)\n",
    "z_score = (statistic - mean) / std_dev\n",
    "critical_z_value = 2* (1-norm.cdf(abs(z_score)))\n",
    "if critical_z_value < alpha:\n",
    "    print(f\"The test scored {critical_z_value:.3f}. Using a significance level of {alpha}, we can reject the null hypothesis.\")\n",
    "else:\n",
    "    print(f\"The test scored {critical_z_value:.3f}. Using a significance level of {alpha}, we fail to reject the null hypothesis.\")"
   ]
  },
  {
   "cell_type": "markdown",
   "id": "59e1dd63",
   "metadata": {},
   "source": [
    "### Permutation test"
   ]
  },
  {
   "cell_type": "code",
   "execution_count": 16,
   "id": "5877179b",
   "metadata": {},
   "outputs": [
    {
     "name": "stdout",
     "output_type": "stream",
     "text": [
      "Observed U: 874.5\n",
      "Permutation p-value: 0.7432\n"
     ]
    }
   ],
   "source": [
    "no_data = no_exercise_df[\"Daily Weight Change\"]\n",
    "did_data = did_exercise_df[\"Daily Weight Change\"]\n",
    "\n",
    "observed_U, _ = mannwhitneyu(no_data, did_data, alternative=\"two-sided\")\n",
    "print(\"Observed U:\", observed_U)\n",
    "\n",
    "# 2. Permutation test\n",
    "combined = np.concatenate([no_data, did_data])\n",
    "n_X = len(no_data)\n",
    "\n",
    "n_permutations = 10000\n",
    "perm_stats = np.zeros(n_permutations)\n",
    "\n",
    "rng = np.random.default_rng(42)  # reproducible random numbers\n",
    "\n",
    "for i in range(n_permutations):\n",
    "    rng.shuffle(combined)\n",
    "    perm_X = combined[:n_X]\n",
    "    perm_Y = combined[n_X:]\n",
    "    U, _ = mannwhitneyu(perm_X, perm_Y, alternative=\"two-sided\")\n",
    "    perm_stats[i] = U\n",
    "\n",
    "# 3. Compute permutation p-value\n",
    "p_value = np.mean(np.abs(perm_stats - np.median(perm_stats)) >= np.abs(observed_U - np.median(perm_stats)))\n",
    "\n",
    "print(\"Permutation p-value:\", p_value)"
   ]
  },
  {
   "cell_type": "markdown",
   "id": "35e484ed",
   "metadata": {},
   "source": [
    "### Visualisation of Permutation U Values"
   ]
  },
  {
   "cell_type": "code",
   "execution_count": 17,
   "id": "e17cca05",
   "metadata": {},
   "outputs": [
    {
     "data": {
      "image/png": "[encoded data removed]",
      "text/plain": [
       "<Figure size 640x480 with 1 Axes>"
      ]
     },
     "metadata": {},
     "output_type": "display_data"
    }
   ],
   "source": [
    "n, bins, patches = plt.hist(perm_stats, bins=50)\n",
    "plt.vlines(observed_U, ymin=0, ymax=np.max(n), label=\"Observed U\", colors=\"black\")\n",
    "plt.title(\"Frequency of All Permutations of U values\")\n",
    "plt.legend()\n",
    "plt.show()\n",
    "plt.close()"
   ]
  },
  {
   "cell_type": "markdown",
   "id": "1605d0ea",
   "metadata": {},
   "source": [
    "# Additional Validation"
   ]
  },
  {
   "cell_type": "markdown",
   "id": "52bae3dc",
   "metadata": {},
   "source": [
    "### Distribution Shape and Location Comparison: Two-Sample Kolmogorov-Smirnov Test"
   ]
  },
  {
   "cell_type": "code",
   "execution_count": 18,
   "id": "d0c11d33",
   "metadata": {},
   "outputs": [
    {
     "name": "stdout",
     "output_type": "stream",
     "text": [
      "With a p value of 0.779, we fail to reject the null hypothesis. There is no significant difference\n"
     ]
    }
   ],
   "source": [
    "statistic, p_value = ks_2samp(did_exercise_df[\"Daily Weight Change\"], no_exercise_df[\"Daily Weight Change\"])\n",
    "\n",
    "if p_value < alpha:\n",
    "    print(f\"With a p_value of {p_value:.3f}, we can reject the null hypothesis. The distributions differ\")\n",
    "else:\n",
    "    print(f\"With a p value of {p_value:.3f}, we fail to reject the null hypothesis. There is no significant difference\")"
   ]
  },
  {
   "cell_type": "markdown",
   "id": "368a0298",
   "metadata": {},
   "source": [
    "### Bootstrap Confidence Intervals: Difference in Medians"
   ]
  },
  {
   "cell_type": "code",
   "execution_count": 19,
   "id": "6d43b3ad",
   "metadata": {},
   "outputs": [
    {
     "name": "stdout",
     "output_type": "stream",
     "text": [
      "Bootstrap Difference in Medians: bootstrap_median_difference=0.100\n",
      "95% Confidence Interval: lower_bound=-0.300 / upper_bound=0.300\n",
      "CI includes zero, we fail to reject the null hypothesis that exercise affects body weight changes\n"
     ]
    }
   ],
   "source": [
    "did_dataset = did_exercise_df[\"Daily Weight Change\"]\n",
    "no_dataset = no_exercise_df[\"Daily Weight Change\"]\n",
    "n1 = len(did_dataset)\n",
    "n2 = len(no_dataset)\n",
    "n_bootstraps = 10000\n",
    "bootstrap_median_differences = []\n",
    "\n",
    "for _ in range(n_bootstraps):\n",
    "    did_sample = np.random.choice(did_dataset, size=n1, replace=True)\n",
    "    no_sample = np.random.choice(no_dataset, size=n2, replace=True)\n",
    "    \n",
    "    difference = np.median(did_sample) - np.median(no_sample)\n",
    "    bootstrap_median_differences.append(difference)\n",
    "\n",
    "bootstrap_median_differences = np.array(bootstrap_median_differences)\n",
    "lower_bound = np.percentile(bootstrap_median_differences, 2.5)\n",
    "upper_bound = np.percentile(bootstrap_median_differences, 97.5)\n",
    "        \n",
    "bootstrap_median_difference = np.median(bootstrap_median_differences)\n",
    "print(f\"Bootstrap Difference in Medians: {bootstrap_median_difference=:.3f}\")\n",
    "print(f\"{95}% Confidence Interval: {lower_bound=:.3f} / {upper_bound=:.3f}\")\n",
    "\n",
    "if lower_bound <= 0 <= upper_bound:\n",
    "    print(\"CI includes zero, we fail to reject the null hypothesis that exercise affects body weight changes\")\n",
    "else:\n",
    "    print(\"CI excludes zero, we can reject the null hypothesis. There is significant evidence that exercise affects body weight changes\")\n",
    "    "
   ]
  },
  {
   "cell_type": "markdown",
   "id": "c62e51c2",
   "metadata": {},
   "source": [
    "### Mood’s Median Test"
   ]
  },
  {
   "cell_type": "code",
   "execution_count": 20,
   "id": "7b270679",
   "metadata": {},
   "outputs": [
    {
     "name": "stdout",
     "output_type": "stream",
     "text": [
      "Overall Median: 0.0\n",
      "With a p value of 1.000, we fail to reject the null hypothesis. All groups have the same median\n"
     ]
    }
   ],
   "source": [
    "statistic, p, median, contingency_table = median_test(no_exercise_df[\"Daily Weight Change\"], did_exercise_df[\"Daily Weight Change\"])\n",
    "\n",
    "print(f\"Overall Median: {median}\")\n",
    "\n",
    "if p < 0.05:\n",
    "    print(f\"With a p-value of {p:.3f}, we can reject the null hypothesis. At least one group's median differs\")\n",
    "else:\n",
    "    print(f\"With a p value of {p:.3f}, we fail to reject the null hypothesis. All groups have the same median\")"
   ]
  },
  {
   "cell_type": "markdown",
   "id": "56f5457d",
   "metadata": {},
   "source": [
    "### Brunner-Munzel Test"
   ]
  },
  {
   "cell_type": "code",
   "execution_count": 21,
   "id": "b43df984",
   "metadata": {},
   "outputs": [
    {
     "name": "stdout",
     "output_type": "stream",
     "text": [
      "With a p value of 0.758, we fail to reject the null hypothesis. The two distributions are stochastically equal\n"
     ]
    }
   ],
   "source": [
    "statistic, p = brunnermunzel(no_exercise_df[\"Daily Weight Change\"], did_exercise_df[\"Daily Weight Change\"])\n",
    "\n",
    "if p < 0.05:\n",
    "    print(f\"With a p-value of {p:.3f}, we can reject the null hypothesis. One distribution tends to have larger values than the other\")\n",
    "else:\n",
    "    print(f\"With a p value of {p:.3f}, we fail to reject the null hypothesis. The two distributions are stochastically equal\")"
   ]
  },
  {
   "cell_type": "markdown",
   "id": "10af4204",
   "metadata": {},
   "source": [
    "# Effect Sizes"
   ]
  },
  {
   "cell_type": "markdown",
   "id": "f2ac069d",
   "metadata": {},
   "source": [
    "### Common Language Effect Size"
   ]
  },
  {
   "cell_type": "code",
   "execution_count": 22,
   "id": "5beed81b",
   "metadata": {},
   "outputs": [
    {
     "name": "stdout",
     "output_type": "stream",
     "text": [
      "P-value: 0.756\n",
      "Probability is that the did_exercise group is less than the no_exercise group\n"
     ]
    }
   ],
   "source": [
    "u_stat, p = mannwhitneyu(did_exercise_df[\"Daily Weight Change\"], no_exercise_df[\"Daily Weight Change\"],  alternative=\"two-sided\")\n",
    "\n",
    "n1= len(no_exercise_df[\"Daily Weight Change\"])\n",
    "n2 = len(did_exercise_df[\"Daily Weight Change\"])\n",
    "cles = u_stat / (n1 * n2)\n",
    "\n",
    "print(f\"P-value: {p:.3f}\")\n",
    "\n",
    "if cles == 0.5:\n",
    "    print(\"Both groups are indistinguishable\")\n",
    "elif cles > 0.5:\n",
    "    print(\"Probability is that the did_exercise group is greater than the no_exercise group\")\n",
    "else:\n",
    "    print(\"Probability is that the did_exercise group is less than the no_exercise group\")"
   ]
  },
  {
   "cell_type": "markdown",
   "id": "4152934b",
   "metadata": {},
   "source": [
    "### Cliff's Delta"
   ]
  },
  {
   "cell_type": "code",
   "execution_count": 23,
   "id": "e6c1f0b0",
   "metadata": {},
   "outputs": [
    {
     "name": "stdout",
     "output_type": "stream",
     "text": [
      "Cliff's Delta: 0.040\n",
      "Values in the no exercise sample group tend to be larger than those in the did exercise sample group (0.04/1)\n"
     ]
    }
   ],
   "source": [
    "def cliffs_delta(x, y):\n",
    "    n1, n2 = len(x), len(y)\n",
    "    count = 0\n",
    "    for x_val in x:\n",
    "        for y_val in y:\n",
    "            if x_val > y_val:\n",
    "                count += 1\n",
    "            elif x_val < y_val:\n",
    "                count -= 1\n",
    "    return count / (n1 * n2)\n",
    "\n",
    "delta = cliffs_delta(no_exercise_df[\"Daily Weight Change\"], did_exercise_df[\"Daily Weight Change\"])\n",
    "print(f\"Cliff's Delta: {delta:.3f}\")\n",
    "if (delta == 0):\n",
    "    print(f\"There is no effect, {delta=}\")\n",
    "elif (delta < 0):\n",
    "    print(f\"Values in the no exercise sample group tend to be smaller than those in the did exercise sample group ({delta::.2f})/-1\")\n",
    "elif (delta > 0):\n",
    "    print(f\"Values in the no exercise sample group tend to be larger than those in the did exercise sample group ({delta:.2f}/1)\")"
   ]
  },
  {
   "cell_type": "markdown",
   "id": "86c93e2c",
   "metadata": {},
   "source": [
    "### Hodges-Lehmann estimator"
   ]
  },
  {
   "cell_type": "code",
   "execution_count": 24,
   "id": "8ad446bc",
   "metadata": {},
   "outputs": [
    {
     "name": "stdout",
     "output_type": "stream",
     "text": [
      "Hodges–Lehmann estimate: 0.0\n",
      "There's no meaningful location shift between your two groups.\n"
     ]
    }
   ],
   "source": [
    "pairwise_diffs = [x - y for x, y in product(no_exercise_df[\"Daily Weight Change\"], did_exercise_df[\"Daily Weight Change\"])]\n",
    "\n",
    "hl_estimate = np.median(pairwise_diffs)\n",
    "hl_estimate = round(hl_estimate, 3)\n",
    "print(f\"Hodges–Lehmann estimate: {hl_estimate}\")\n",
    "if (hl_estimate) == 0:\n",
    "    print(\"There's no meaningful location shift between your two groups.\")\n",
    "elif (hl_estimate) > 0:\n",
    "    print(\"The values in the no exercise sample group are likely larger than those in the did exercise sample group\")\n",
    "else:\n",
    "    print(\"The values in the no exercise sample group are likely smaller than those in the did exercise sample group\")"
   ]
  },
  {
   "cell_type": "code",
   "execution_count": null,
   "id": "e81054da",
   "metadata": {},
   "outputs": [],
   "source": []
  }
 ],
 "metadata": {
  "kernelspec": {
   "display_name": ".venv",
   "language": "python",
   "name": "python3"
  },
  "language_info": {
   "codemirror_mode": {
    "name": "ipython",
    "version": 3
   },
   "file_extension": ".py",
   "mimetype": "text/x-python",
   "name": "python",
   "nbconvert_exporter": "python",
   "pygments_lexer": "ipython3",
   "version": "3.12.0"
  }
 },
 "nbformat": 4,
 "nbformat_minor": 5
}
