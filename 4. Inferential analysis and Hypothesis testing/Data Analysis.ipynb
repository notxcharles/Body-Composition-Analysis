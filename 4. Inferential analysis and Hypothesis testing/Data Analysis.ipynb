{
 "cells": [
  {
   "cell_type": "code",
   "execution_count": 85,
   "id": "353fc101",
   "metadata": {},
   "outputs": [],
   "source": [
    "import pandas as pd\n",
    "import matplotlib.pyplot as plt\n",
    "import numpy as np\n",
    "from scipy.stats import shapiro, levene, mannwhitneyu, norm, ks_2samp\n",
    "import math"
   ]
  },
  {
   "cell_type": "code",
   "execution_count": 86,
   "id": "bd82ce42",
   "metadata": {},
   "outputs": [
    {
     "data": {
      "application/vnd.microsoft.datawrangler.viewer.v0+json": {
       "columns": [
        {
         "name": "index",
         "rawType": "int64",
         "type": "integer"
        },
        {
         "name": "Date",
         "rawType": "object",
         "type": "string"
        },
        {
         "name": "Daily Weight Change",
         "rawType": "float64",
         "type": "float"
        },
        {
         "name": "Calories Group",
         "rawType": "object",
         "type": "string"
        },
        {
         "name": "Exercise Calories Burned",
         "rawType": "float64",
         "type": "float"
        },
        {
         "name": "Did Exercise",
         "rawType": "float64",
         "type": "float"
        }
       ],
       "ref": "7e844e49-5318-4b64-b85e-b5a8ae01a558",
       "rows": [
        [
         "0",
         "2024-02-05",
         "0.2000000000000028",
         "2511-2520",
         "593.0",
         "1.0"
        ],
        [
         "1",
         "2024-09-11",
         "0.0",
         "2511-2520",
         "469.0",
         "1.0"
        ],
        [
         "2",
         "2024-09-02",
         "0.1999999999999957",
         "2511-2520",
         "645.0",
         "1.0"
        ],
        [
         "3",
         "2024-11-09",
         "-0.1000000000000014",
         "2751-2760",
         "162.0",
         "1.0"
        ],
        [
         "4",
         "2024-10-11",
         "0.2000000000000028",
         "2751-2760",
         "230.0",
         "1.0"
        ]
       ],
       "shape": {
        "columns": 5,
        "rows": 5
       }
      },
      "text/html": [
       "<div>\n",
       "<style scoped>\n",
       "    .dataframe tbody tr th:only-of-type {\n",
       "        vertical-align: middle;\n",
       "    }\n",
       "\n",
       "    .dataframe tbody tr th {\n",
       "        vertical-align: top;\n",
       "    }\n",
       "\n",
       "    .dataframe thead th {\n",
       "        text-align: right;\n",
       "    }\n",
       "</style>\n",
       "<table border=\"1\" class=\"dataframe\">\n",
       "  <thead>\n",
       "    <tr style=\"text-align: right;\">\n",
       "      <th></th>\n",
       "      <th>Date</th>\n",
       "      <th>Daily Weight Change</th>\n",
       "      <th>Calories Group</th>\n",
       "      <th>Exercise Calories Burned</th>\n",
       "      <th>Did Exercise</th>\n",
       "    </tr>\n",
       "  </thead>\n",
       "  <tbody>\n",
       "    <tr>\n",
       "      <th>0</th>\n",
       "      <td>2024-02-05</td>\n",
       "      <td>0.2</td>\n",
       "      <td>2511-2520</td>\n",
       "      <td>593.0</td>\n",
       "      <td>1.0</td>\n",
       "    </tr>\n",
       "    <tr>\n",
       "      <th>1</th>\n",
       "      <td>2024-09-11</td>\n",
       "      <td>0.0</td>\n",
       "      <td>2511-2520</td>\n",
       "      <td>469.0</td>\n",
       "      <td>1.0</td>\n",
       "    </tr>\n",
       "    <tr>\n",
       "      <th>2</th>\n",
       "      <td>2024-09-02</td>\n",
       "      <td>0.2</td>\n",
       "      <td>2511-2520</td>\n",
       "      <td>645.0</td>\n",
       "      <td>1.0</td>\n",
       "    </tr>\n",
       "    <tr>\n",
       "      <th>3</th>\n",
       "      <td>2024-11-09</td>\n",
       "      <td>-0.1</td>\n",
       "      <td>2751-2760</td>\n",
       "      <td>162.0</td>\n",
       "      <td>1.0</td>\n",
       "    </tr>\n",
       "    <tr>\n",
       "      <th>4</th>\n",
       "      <td>2024-10-11</td>\n",
       "      <td>0.2</td>\n",
       "      <td>2751-2760</td>\n",
       "      <td>230.0</td>\n",
       "      <td>1.0</td>\n",
       "    </tr>\n",
       "  </tbody>\n",
       "</table>\n",
       "</div>"
      ],
      "text/plain": [
       "         Date  Daily Weight Change Calories Group  Exercise Calories Burned  \\\n",
       "0  2024-02-05                  0.2      2511-2520                     593.0   \n",
       "1  2024-09-11                  0.0      2511-2520                     469.0   \n",
       "2  2024-09-02                  0.2      2511-2520                     645.0   \n",
       "3  2024-11-09                 -0.1      2751-2760                     162.0   \n",
       "4  2024-10-11                  0.2      2751-2760                     230.0   \n",
       "\n",
       "   Did Exercise  \n",
       "0           1.0  \n",
       "1           1.0  \n",
       "2           1.0  \n",
       "3           1.0  \n",
       "4           1.0  "
      ]
     },
     "execution_count": 86,
     "metadata": {},
     "output_type": "execute_result"
    }
   ],
   "source": [
    "did_exercise_df = pd.read_csv(\"./Completed Datasets/Did Exercise Group.csv\")\n",
    "did_exercise_df.head()"
   ]
  },
  {
   "cell_type": "code",
   "execution_count": 87,
   "id": "8b95f94d",
   "metadata": {},
   "outputs": [
    {
     "data": {
      "application/vnd.microsoft.datawrangler.viewer.v0+json": {
       "columns": [
        {
         "name": "index",
         "rawType": "int64",
         "type": "integer"
        },
        {
         "name": "Date",
         "rawType": "object",
         "type": "string"
        },
        {
         "name": "Daily Weight Change",
         "rawType": "float64",
         "type": "float"
        },
        {
         "name": "Calories Group",
         "rawType": "object",
         "type": "string"
        },
        {
         "name": "Exercise Calories Burned",
         "rawType": "float64",
         "type": "float"
        },
        {
         "name": "Did Exercise",
         "rawType": "float64",
         "type": "float"
        }
       ],
       "ref": "23a33650-146a-4ae3-aaa5-492acd3e2c33",
       "rows": [
        [
         "0",
         "2025-02-18",
         "-0.1999999999999957",
         "2511-2520",
         null,
         "0.0"
        ],
        [
         "1",
         "2025-01-31",
         "0.1999999999999957",
         "2511-2520",
         null,
         "0.0"
        ],
        [
         "2",
         "2024-09-21",
         "-0.2999999999999971",
         "2511-2520",
         null,
         "0.0"
        ],
        [
         "3",
         "2024-10-14",
         "-0.2000000000000028",
         "2751-2760",
         null,
         "0.0"
        ],
        [
         "4",
         "2024-10-06",
         "0.6999999999999957",
         "2751-2760",
         null,
         "0.0"
        ]
       ],
       "shape": {
        "columns": 5,
        "rows": 5
       }
      },
      "text/html": [
       "<div>\n",
       "<style scoped>\n",
       "    .dataframe tbody tr th:only-of-type {\n",
       "        vertical-align: middle;\n",
       "    }\n",
       "\n",
       "    .dataframe tbody tr th {\n",
       "        vertical-align: top;\n",
       "    }\n",
       "\n",
       "    .dataframe thead th {\n",
       "        text-align: right;\n",
       "    }\n",
       "</style>\n",
       "<table border=\"1\" class=\"dataframe\">\n",
       "  <thead>\n",
       "    <tr style=\"text-align: right;\">\n",
       "      <th></th>\n",
       "      <th>Date</th>\n",
       "      <th>Daily Weight Change</th>\n",
       "      <th>Calories Group</th>\n",
       "      <th>Exercise Calories Burned</th>\n",
       "      <th>Did Exercise</th>\n",
       "    </tr>\n",
       "  </thead>\n",
       "  <tbody>\n",
       "    <tr>\n",
       "      <th>0</th>\n",
       "      <td>2025-02-18</td>\n",
       "      <td>-0.2</td>\n",
       "      <td>2511-2520</td>\n",
       "      <td>NaN</td>\n",
       "      <td>0.0</td>\n",
       "    </tr>\n",
       "    <tr>\n",
       "      <th>1</th>\n",
       "      <td>2025-01-31</td>\n",
       "      <td>0.2</td>\n",
       "      <td>2511-2520</td>\n",
       "      <td>NaN</td>\n",
       "      <td>0.0</td>\n",
       "    </tr>\n",
       "    <tr>\n",
       "      <th>2</th>\n",
       "      <td>2024-09-21</td>\n",
       "      <td>-0.3</td>\n",
       "      <td>2511-2520</td>\n",
       "      <td>NaN</td>\n",
       "      <td>0.0</td>\n",
       "    </tr>\n",
       "    <tr>\n",
       "      <th>3</th>\n",
       "      <td>2024-10-14</td>\n",
       "      <td>-0.2</td>\n",
       "      <td>2751-2760</td>\n",
       "      <td>NaN</td>\n",
       "      <td>0.0</td>\n",
       "    </tr>\n",
       "    <tr>\n",
       "      <th>4</th>\n",
       "      <td>2024-10-06</td>\n",
       "      <td>0.7</td>\n",
       "      <td>2751-2760</td>\n",
       "      <td>NaN</td>\n",
       "      <td>0.0</td>\n",
       "    </tr>\n",
       "  </tbody>\n",
       "</table>\n",
       "</div>"
      ],
      "text/plain": [
       "         Date  Daily Weight Change Calories Group  Exercise Calories Burned  \\\n",
       "0  2025-02-18                 -0.2      2511-2520                       NaN   \n",
       "1  2025-01-31                  0.2      2511-2520                       NaN   \n",
       "2  2024-09-21                 -0.3      2511-2520                       NaN   \n",
       "3  2024-10-14                 -0.2      2751-2760                       NaN   \n",
       "4  2024-10-06                  0.7      2751-2760                       NaN   \n",
       "\n",
       "   Did Exercise  \n",
       "0           0.0  \n",
       "1           0.0  \n",
       "2           0.0  \n",
       "3           0.0  \n",
       "4           0.0  "
      ]
     },
     "execution_count": 87,
     "metadata": {},
     "output_type": "execute_result"
    }
   ],
   "source": [
    "no_exercise_df = pd.read_csv(\"./Completed Datasets/No Exercise Group.csv\")\n",
    "no_exercise_df.head()"
   ]
  },
  {
   "cell_type": "markdown",
   "id": "e60fa061",
   "metadata": {},
   "source": [
    "# Summary Statistics\n",
    "Summary statistics for both groups"
   ]
  },
  {
   "cell_type": "code",
   "execution_count": 88,
   "id": "e4038e27",
   "metadata": {},
   "outputs": [
    {
     "name": "stdout",
     "output_type": "stream",
     "text": [
      "Summary Statistics for the Did Exercise Group:\n",
      "sample_size=41\n",
      "mean_weight_change=np.float64(-0.03658536585365766)\n",
      "median_weight_change=np.float64(0.0)\n",
      "standard_deviation=np.float64(0.5889635377342894)\n",
      "minimum_and_maximum_values=[np.float64(-1.7000000000000028), np.float64(1.0)]\n",
      "quartiles=[np.float64(-0.2000000000000028), np.float64(0.2000000000000028)]\n",
      "interquartile_range=np.float64(0.4000000000000056)\n"
     ]
    }
   ],
   "source": [
    "# Summary Statistics for the Did Exercise Group\n",
    "sample_size = len(did_exercise_df)\n",
    "mean_weight_change = did_exercise_df[\"Daily Weight Change\"].mean()\n",
    "median_weight_change = did_exercise_df[\"Daily Weight Change\"].median()\n",
    "standard_deviation = did_exercise_df[\"Daily Weight Change\"].std()\n",
    "minimum_and_maximum_values = [did_exercise_df[\"Daily Weight Change\"].min(), did_exercise_df[\"Daily Weight Change\"].max()]\n",
    "quartiles = [did_exercise_df[\"Daily Weight Change\"].quantile(0.25), did_exercise_df[\"Daily Weight Change\"].quantile(0.75)]\n",
    "interquartile_range = quartiles[1] - quartiles[0]\n",
    "print(f\"Summary Statistics for the Did Exercise Group:\\n{sample_size=}\\n{mean_weight_change=}\\n{median_weight_change=}\\n{standard_deviation=}\\n{minimum_and_maximum_values=}\\n{quartiles=}\\n{interquartile_range=}\")"
   ]
  },
  {
   "cell_type": "code",
   "execution_count": 89,
   "id": "ea7b22da",
   "metadata": {},
   "outputs": [
    {
     "name": "stdout",
     "output_type": "stream",
     "text": [
      "Summary Statistics for the No Exercise Group:\n",
      "sample_size=41\n",
      "mean_weight_change=np.float64(0.1365853658536584)\n",
      "median_weight_change=np.float64(-0.0999999999999943)\n",
      "standard_deviation=np.float64(0.629585616719829)\n",
      "minimum_and_maximum_values=[np.float64(-1.1999999999999886), np.float64(1.5)]\n",
      "quartiles=[np.float64(-0.3000000000000042), np.float64(0.5)]\n",
      "interquartile_range=np.float64(0.8000000000000043)\n"
     ]
    }
   ],
   "source": [
    "# Summary Statistics for the No Exercise Group\n",
    "sample_size = len(no_exercise_df)\n",
    "mean_weight_change = no_exercise_df[\"Daily Weight Change\"].mean()\n",
    "median_weight_change = no_exercise_df[\"Daily Weight Change\"].median()\n",
    "standard_deviation = no_exercise_df[\"Daily Weight Change\"].std()\n",
    "minimum_and_maximum_values = [no_exercise_df[\"Daily Weight Change\"].min(), no_exercise_df[\"Daily Weight Change\"].max()]\n",
    "quartiles = [no_exercise_df[\"Daily Weight Change\"].quantile(0.25), no_exercise_df[\"Daily Weight Change\"].quantile(0.75)]\n",
    "interquartile_range = quartiles[1] - quartiles[0]\n",
    "print(f\"Summary Statistics for the No Exercise Group:\\n{sample_size=}\\n{mean_weight_change=}\\n{median_weight_change=}\\n{standard_deviation=}\\n{minimum_and_maximum_values=}\\n{quartiles=}\\n{interquartile_range=}\")"
   ]
  },
  {
   "cell_type": "code",
   "execution_count": 90,
   "id": "e772fc1f",
   "metadata": {},
   "outputs": [
    {
     "name": "stdout",
     "output_type": "stream",
     "text": [
      "Key Differences of Summary Statistics:\n",
      "mean_difference=np.float64(0.17317073170731606)\n",
      "median_difference=np.float64(0.0999999999999943)\n",
      "ratio_of_standard_deviations=np.float64(1.0689721457830998)\n"
     ]
    }
   ],
   "source": [
    "mean_difference = abs(no_exercise_df[\"Daily Weight Change\"].mean() - did_exercise_df[\"Daily Weight Change\"].mean())\n",
    "median_difference = abs(no_exercise_df[\"Daily Weight Change\"].median() - did_exercise_df[\"Daily Weight Change\"].median())\n",
    "noex_std = no_exercise_df[\"Daily Weight Change\"].std()\n",
    "didex_std = did_exercise_df[\"Daily Weight Change\"].std()\n",
    "ratio_of_standard_deviations = max(noex_std, didex_std) / min(noex_std, didex_std)\n",
    "\n",
    "print(f\"Key Differences of Summary Statistics:\\n{mean_difference=}\\n{median_difference=}\\n{ratio_of_standard_deviations=}\")"
   ]
  },
  {
   "cell_type": "markdown",
   "id": "a88a520d",
   "metadata": {},
   "source": [
    "# Visualisation"
   ]
  },
  {
   "cell_type": "markdown",
   "id": "3d63345a",
   "metadata": {},
   "source": [
    "### Histogram"
   ]
  },
  {
   "cell_type": "code",
   "execution_count": 91,
   "id": "6d66b5d0",
   "metadata": {},
   "outputs": [
    {
     "data": {
      "image/png": "[encoded data removed]",
      "text/plain": [
       "<Figure size 640x480 with 1 Axes>"
      ]
     },
     "metadata": {},
     "output_type": "display_data"
    }
   ],
   "source": [
    "plt.hist(did_exercise_df[\"Daily Weight Change\"], alpha=0.5, label=\"Did Exercise\")\n",
    "plt.hist(no_exercise_df[\"Daily Weight Change\"], alpha=0.5, label=\"No Exercise\")\n",
    "plt.title(\"Overlapping Histogram of the Frequency of\\nDaily Weight Change values in each Sample Group\")\n",
    "plt.xlabel(\"Range of Daily Weight Changes\")\n",
    "plt.ylabel(\"Frequency\")\n",
    "plt.legend()\n",
    "plt.show()\n",
    "plt.close()"
   ]
  },
  {
   "cell_type": "markdown",
   "id": "f84acec5",
   "metadata": {},
   "source": [
    "### Box Plots"
   ]
  },
  {
   "cell_type": "code",
   "execution_count": 92,
   "id": "17eeae27",
   "metadata": {},
   "outputs": [
    {
     "data": {
      "image/png": "[encoded data removed]",
      "text/plain": [
       "<Figure size 640x480 with 1 Axes>"
      ]
     },
     "metadata": {},
     "output_type": "display_data"
    }
   ],
   "source": [
    "data = [did_exercise_df[\"Daily Weight Change\"], no_exercise_df[\"Daily Weight Change\"]]\n",
    "plt.boxplot(data, tick_labels=[\"Did Exercise\", \"No Exercise\"])\n",
    "plt.title(\"Daily Weight Change Boxplots for each Sample\")\n",
    "plt.ylabel(\"Daily Weight Change, kg\")\n",
    "plt.show()\n",
    "plt.close()"
   ]
  },
  {
   "cell_type": "markdown",
   "id": "757b3fdd",
   "metadata": {},
   "source": [
    "### Violin Plot"
   ]
  },
  {
   "cell_type": "code",
   "execution_count": 93,
   "id": "09a2e583",
   "metadata": {},
   "outputs": [
    {
     "data": {
      "image/png": "[encoded data removed]",
      "text/plain": [
       "<Figure size 640x480 with 1 Axes>"
      ]
     },
     "metadata": {},
     "output_type": "display_data"
    }
   ],
   "source": [
    "plt.violinplot(data, showmedians=True, quantiles=[[0.25, 0.75], [0.25, 0.75]])\n",
    "\n",
    "plt.title(\"Comparison of Daily Weight Change\")\n",
    "plt.ylabel(\"Daily Weight Change (kg)\")\n",
    "plt.xticks([1, 2], labels=[\"Did Exercise\", \"No Exercise\"])\n",
    "\n",
    "plt.grid(True, axis=\"y\", linestyle=\"--\", alpha=0.6)\n",
    "plt.show()"
   ]
  },
  {
   "cell_type": "markdown",
   "id": "f72179a6",
   "metadata": {},
   "source": [
    "# Test for Normality\n",
    "Using the Shapiro-Wilk Test"
   ]
  },
  {
   "cell_type": "code",
   "execution_count": 94,
   "id": "bfef7430",
   "metadata": {},
   "outputs": [
    {
     "name": "stdout",
     "output_type": "stream",
     "text": [
      "statistic=np.float64(0.954894574745304)\n",
      "p=np.float64(0.10404803976812083)\n",
      "The data appears to be normally distributed since the W statistic is ~0.95.\n",
      "The p-value of ~0.10 supportsthis conclusion because it is not statistically significant\n"
     ]
    }
   ],
   "source": [
    "# Did Exercise Group\n",
    "statistic, p = shapiro(did_exercise_df[\"Daily Weight Change\"])\n",
    "print(f\"{statistic=}\\n{p=}\")\n",
    "print(f\"The data appears to be normally distributed since the W statistic is ~0.95.\\nThe p-value of ~0.10 supports\" +\n",
    "      \"this conclusion because it is not statistically significant\")"
   ]
  },
  {
   "cell_type": "code",
   "execution_count": 95,
   "id": "6e9ebd4e",
   "metadata": {},
   "outputs": [
    {
     "name": "stdout",
     "output_type": "stream",
     "text": [
      "statistic=np.float64(0.9231578695482393)\n",
      "p=np.float64(0.008618190048391278)\n",
      "Since the p-value is below my threshold of 0.05, I can reject the null hypothesis that the data is normally distributed.\n",
      "By rejecting it, I acknowledge that there is sufficient evidence to suggest that the data in the no exercise sample group is not normally distributed\n"
     ]
    }
   ],
   "source": [
    "# No exercise group\n",
    "statistic, p = shapiro(no_exercise_df[\"Daily Weight Change\"])\n",
    "print(f\"{statistic=}\\n{p=}\")\n",
    "print(f\"Since the p-value is below my threshold of 0.05, I can reject the null hypothesis that the data is\" +\n",
    "      \" normally distributed.\\nBy rejecting it, I acknowledge that there is sufficient evidence to suggest that\" +\n",
    "      \" the data in the no exercise sample group is not normally distributed\")"
   ]
  },
  {
   "cell_type": "markdown",
   "id": "5e9ef006",
   "metadata": {},
   "source": [
    "The group of records from days where I did exercise is likely to be normally distributed, whereas the group of records where I didn't do any exercise is unlikely to be normally distributed"
   ]
  },
  {
   "cell_type": "markdown",
   "id": "f96dcc89",
   "metadata": {},
   "source": [
    "# Test for Equal Variance\n",
    "\n",
    "### Levene's Test"
   ]
  },
  {
   "cell_type": "code",
   "execution_count": 96,
   "id": "3b1b9190",
   "metadata": {},
   "outputs": [
    {
     "name": "stdout",
     "output_type": "stream",
     "text": [
      "statistic=np.float64(0.3669374104156565)\n",
      "p=np.float64(0.5463931995577435)\n",
      "The Levene's test results indicate that the assumption of equal variances across the sample groups have been met.\n",
      "Since ~0.55 is greater than the 0.05 significance level, I fail to reject the null hypothesis\n"
     ]
    }
   ],
   "source": [
    "statistic, p = levene(did_exercise_df[\"Daily Weight Change\"], no_exercise_df[\"Daily Weight Change\"])\n",
    "print(f\"{statistic=}\\n{p=}\")\n",
    "print(f\"The Levene's test results indicate that the assumption of equal variances across the sample groups \" +\n",
    "      \"have been met.\\nSince ~0.55 is greater than the 0.05 significance level, I fail to reject the null hypothesis\")"
   ]
  },
  {
   "cell_type": "markdown",
   "id": "dc6d3771",
   "metadata": {},
   "source": [
    "# Hypothesis Testing\n",
    "\n",
    "### Man-Whitney U Test\n",
    "Because one of the sample groups is not normally distributed, I have chosen to use the Mann-Whitney U Test. I'm going to use a significance level of a = 0.05"
   ]
  },
  {
   "cell_type": "code",
   "execution_count": 97,
   "id": "1f3d146c",
   "metadata": {},
   "outputs": [
    {
     "name": "stdout",
     "output_type": "stream",
     "text": [
      "The test scored 0.7557829665720499. Using a significance level of 0.05, we fail to reject the null hypothesis.\n"
     ]
    }
   ],
   "source": [
    "statistic, p = mannwhitneyu(did_exercise_df[\"Daily Weight Change\"], no_exercise_df[\"Daily Weight Change\"])\n",
    "alpha = 0.05\n",
    "if p < alpha:\n",
    "    print(f\"The test scored {p}. Using a significance level of {alpha}, we can reject the null hypothesis.\")\n",
    "else:\n",
    "    print(f\"The test scored {p}. Using a significance level of {alpha}, we fail to reject the null hypothesis.\")"
   ]
  },
  {
   "cell_type": "markdown",
   "id": "4474fa7e",
   "metadata": {},
   "source": [
    "Calculating the Critical Value Manually"
   ]
  },
  {
   "cell_type": "code",
   "execution_count": 98,
   "id": "0de44531",
   "metadata": {},
   "outputs": [
    {
     "name": "stdout",
     "output_type": "stream",
     "text": [
      "Because the critical_z_value=np.float64(0.7525213914713231) which is higher than our significance level, we fail to reject the null hypothesis\n"
     ]
    }
   ],
   "source": [
    "n1 = len(did_exercise_df)\n",
    "n2 = len(no_exercise_df)\n",
    "mean = (n1*n2)/2\n",
    "std_dev = math.sqrt(( (n1*n2)*(n1+n2+1) )/ 12)\n",
    "z_score = (statistic - mean) / std_dev\n",
    "critical_z_value = 2* (1-norm.cdf(abs(z_score)))\n",
    "\n",
    "print(f\"Because the {critical_z_value=} which is higher than our significance level, we fail to reject the null hypothesis\")"
   ]
  },
  {
   "cell_type": "markdown",
   "id": "1605d0ea",
   "metadata": {},
   "source": [
    "# Additional Validation"
   ]
  },
  {
   "cell_type": "markdown",
   "id": "52bae3dc",
   "metadata": {},
   "source": [
    "### Distribution Shape and Location Comparison: Two-Sample Kolmogorov-Smirnov Test"
   ]
  },
  {
   "cell_type": "code",
   "execution_count": 99,
   "id": "d0c11d33",
   "metadata": {},
   "outputs": [
    {
     "name": "stdout",
     "output_type": "stream",
     "text": [
      "With a p value of 0.778914912323089, we fail to reject the null hypothesis. There is no significant difference\n"
     ]
    }
   ],
   "source": [
    "stat, p_value = ks_2samp(did_exercise_df[\"Daily Weight Change\"], no_exercise_df[\"Daily Weight Change\"])\n",
    "\n",
    "if p_value < alpha:\n",
    "    print(f\"With a p_value of {p_value}, we can reject the null hypothesis. The distributions differ\")\n",
    "else:\n",
    "    print(f\"With a p value of {p_value}, we fail to reject the null hypothesis. There is no significant difference\")"
   ]
  },
  {
   "cell_type": "markdown",
   "id": "368a0298",
   "metadata": {},
   "source": [
    "### Bootstrap Confidence Intervals: Difference in Medians"
   ]
  },
  {
   "cell_type": "code",
   "execution_count": null,
   "id": "c1ca4dd4",
   "metadata": {},
   "outputs": [],
   "source": []
  }
 ],
 "metadata": {
  "kernelspec": {
   "display_name": ".venv",
   "language": "python",
   "name": "python3"
  },
  "language_info": {
   "codemirror_mode": {
    "name": "ipython",
    "version": 3
   },
   "file_extension": ".py",
   "mimetype": "text/x-python",
   "name": "python",
   "nbconvert_exporter": "python",
   "pygments_lexer": "ipython3",
   "version": "3.12.0"
  }
 },
 "nbformat": 4,
 "nbformat_minor": 5
}
