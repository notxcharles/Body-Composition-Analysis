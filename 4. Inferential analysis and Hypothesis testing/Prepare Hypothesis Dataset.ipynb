{
 "cells": [
  {
   "cell_type": "code",
   "id": "initial_id",
   "metadata": {
    "collapsed": true,
    "ExecuteTime": {
     "end_time": "2025-08-27T14:46:12.737262Z",
     "start_time": "2025-08-27T14:46:12.732116Z"
    }
   },
   "source": [
    "import pandas as pd\n",
    "from scipy.stats import kurtosis, skew\n",
    "import matplotlib.pyplot as plt\n",
    "import numpy as np\n",
    "pd.set_option(\"display.notebook_repr_html\", True)\n",
    "pd.reset_option(\"display.max_rows\")\n",
    "pd.reset_option(\"display.max_columns\")\n",
    "pd.reset_option(\"display.width\")\n",
    "pd.reset_option(\"display.max_colwidth\")"
   ],
   "outputs": [],
   "execution_count": 163
  },
  {
   "cell_type": "code",
   "id": "b867f84a44e355c3",
   "metadata": {
    "ExecuteTime": {
     "end_time": "2025-08-27T14:46:12.796195Z",
     "start_time": "2025-08-27T14:46:12.783465Z"
    }
   },
   "source": [
    "weights_df = pd.read_csv(\"../1. Inspect, Clean and Validate Dataset/CleanedData/Cleaned_WeightsAndCalories.csv\")\n",
    "nutrition_df = pd.read_csv(\"../1. Inspect, Clean and Validate Dataset/CleanedData/Cleaned_NutritionalData.csv\")\n",
    "strava_df = pd.read_csv(\"../1. Inspect, Clean and Validate Dataset/CleanedData/Cleaned_Strava.csv\")"
   ],
   "outputs": [],
   "execution_count": 164
  },
  {
   "cell_type": "markdown",
   "id": "cd08f41b82e98cc4",
   "metadata": {},
   "source": [
    "We need to remove the rows with a high carbohydrate intake. Carbohydrates are known for their ability to carry water.\n",
    "\n",
    "1. remove the rows with carb content over x grams\n",
    "    - we may also need to aggregate the data so there is only one date\n",
    "    - nutritional = nutritional.groupby[\"Date\"][\"Carbohydrates (g)\"].sum()\n",
    "2. Merge with weights_df. we need to drop all rows which dont align with the nutritional df\n",
    "    - newdf = pd.merge(weights_df, nutritional_df, left_on=\"Date\", right_on=\"Date\", how=\"right\")"
   ]
  },
  {
   "cell_type": "code",
   "id": "95b9a7f7c3772e3b",
   "metadata": {
    "ExecuteTime": {
     "end_time": "2025-08-27T14:46:12.928534Z",
     "start_time": "2025-08-27T14:46:12.911400Z"
    }
   },
   "source": [
    "nutrition_df[\"Date\"] = pd.to_datetime(nutrition_df[\"Date\"], errors=\"coerce\", format=\"%Y-%m-%d\")\n",
    "\n",
    "nutrition_df[\"Total Calories In\"] = np.round(nutrition_df.groupby(\"Date\")[\"Calories\"].transform(\"sum\"))\n",
    "nutrition_df[\"Total Fat In (g)\"] = nutrition_df.groupby(\"Date\")[\"Fat (g)\"].transform(\"sum\")\n",
    "nutrition_df[\"Total Carbohydrates In (g)\"] = nutrition_df.groupby(\"Date\")[\"Carbohydrates (g)\"].transform(\"sum\")\n",
    "nutrition_df[\"Total Protein In (g)\"] = nutrition_df.groupby(\"Date\")[\"Protein (g)\"].transform(\"sum\")\n",
    "\n",
    "nutrition_df = nutrition_df[[\"Date\", \"Total Calories In\", \"Total Fat In (g)\", \"Total Carbohydrates In (g)\", \"Total Protein In (g)\"]]\n",
    "nutrition_df = nutrition_df.drop_duplicates(subset=\"Date\").reset_index(drop=True)\n",
    "total_records = len(nutrition_df)\n",
    "\n",
    "# Drop rows over x total carbs\n",
    "x_carbohydrates = 100\n",
    "\n",
    "excluded_nutrition_df = nutrition_df[nutrition_df[\"Total Carbohydrates In (g)\"] > x_carbohydrates]\n",
    "excluded_nutrition_df = excluded_nutrition_df.reset_index(drop=True)\n",
    "excluded_nutrition_df = excluded_nutrition_df[[\"Date\", \"Total Calories In\", \"Total Carbohydrates In (g)\"]]\n",
    "\n",
    "nutrition_df = nutrition_df[nutrition_df[\"Total Carbohydrates In (g)\"] <= x_carbohydrates]\n",
    "nutrition_df = nutrition_df.reset_index(drop=True)\n",
    "total_days_under_x_carbs = len(nutrition_df)\n",
    "print(f\"{total_records=}, {total_days_under_x_carbs=}\")\n",
    "# nutrition_df.sort_values(\"Date\")"
   ],
   "outputs": [
    {
     "name": "stdout",
     "output_type": "stream",
     "text": [
      "total_records=1431, total_days_under_x_carbs=687\n"
     ]
    }
   ],
   "execution_count": 165
  },
  {
   "cell_type": "code",
   "id": "eacf9da6feb0f61",
   "metadata": {
    "ExecuteTime": {
     "end_time": "2025-08-27T14:46:13.224073Z",
     "start_time": "2025-08-27T14:46:13.218922Z"
    }
   },
   "source": [
    "# Drop rows over x total carbs\n",
    "x_carbohydrates = 100\n",
    "nutrition_df = nutrition_df[nutrition_df[\"Total Carbohydrates In (g)\"] <= x_carbohydrates]\n",
    "nutrition_df = nutrition_df.reset_index(drop=True)\n",
    "total_days_under_x_carbs = len(nutrition_df)\n",
    "print(total_days_under_x_carbs)\n",
    "# nutrition_df"
   ],
   "outputs": [
    {
     "name": "stdout",
     "output_type": "stream",
     "text": [
      "687\n"
     ]
    }
   ],
   "execution_count": 166
  },
  {
   "cell_type": "markdown",
   "id": "22fac975ba620121",
   "metadata": {},
   "source": [
    "Merge Nutrition_df with weights_df"
   ]
  },
  {
   "cell_type": "code",
   "id": "545b215a5c802ba8",
   "metadata": {
    "ExecuteTime": {
     "end_time": "2025-08-27T14:46:13.505162Z",
     "start_time": "2025-08-27T14:46:13.495105Z"
    }
   },
   "source": [
    "weights_df = weights_df[[\"Date\", \"Weight, kg\", \"Calories In\"]]\n",
    "weights_df[\"Date\"] = pd.to_datetime(weights_df[\"Date\"], errors=\"coerce\", format=\"%d/%m/%Y\")\n",
    "master_df = pd.merge(weights_df, nutrition_df, left_on=\"Date\", right_on=\"Date\", how=\"inner\")\n",
    "# Some values in weights_df were removed because they contained missing data for a rows- all of the missing rows are in ./DataInput/Weights and Total Cal Intake/Missing data dates.csv\n",
    "# In my own personal spreadsheet I estimate these\n",
    "master_df = master_df[[\"Date\", \"Weight, kg\", \"Total Calories In\", \"Total Carbohydrates In (g)\"]]\n",
    "num_weight_nutritional_records = len(master_df)\n",
    "print(f\"{num_weight_nutritional_records=}\")\n",
    "# master_df.sort_values(\"Date\")"
   ],
   "outputs": [
    {
     "name": "stdout",
     "output_type": "stream",
     "text": [
      "num_weight_nutritional_records=508\n"
     ]
    }
   ],
   "execution_count": 167
  },
  {
   "cell_type": "markdown",
   "id": "1f136fbbd709085b",
   "metadata": {},
   "source": [
    "We now need to merge master_df with strava_df. This will let us identify days with no exercise vs days with exercise"
   ]
  },
  {
   "cell_type": "code",
   "id": "30c1cfa303b61737",
   "metadata": {
    "ExecuteTime": {
     "end_time": "2025-08-27T14:46:13.783709Z",
     "start_time": "2025-08-27T14:46:13.771334Z"
    }
   },
   "source": [
    "strava_df[\"Activity Date\"] = pd.to_datetime(strava_df[\"Activity Date\"], errors=\"coerce\", format=\"%Y-%m-%d\")\n",
    "\n",
    "strava_df = strava_df[[\"Activity Date\", \"Calories\", \"Did Exercise\"]]\n",
    "strava_df_len = len(strava_df)\n",
    "\n",
    "strava_df = strava_df.groupby(\"Activity Date\")[\"Calories\"].sum() # Condense all records into one row, with the calorie count being the sum of all relevant records\n",
    "strava_df = strava_df.rename(\"Exercise Calories Burned\")\n",
    "strava_df = strava_df.to_frame()\n",
    "strava_df[\"Did Exercise\"] = 1\n",
    "# type(unique_strava_df)\n",
    "strava_df"
   ],
   "outputs": [
    {
     "data": {
      "text/plain": [
       "               Exercise Calories Burned  Did Exercise\n",
       "Activity Date                                        \n",
       "2020-06-03                          0.0             1\n",
       "2020-06-07                          0.0             1\n",
       "2020-06-15                          0.0             1\n",
       "2020-06-16                          0.0             1\n",
       "2020-06-21                          0.0             1\n",
       "...                                 ...           ...\n",
       "2025-08-21                        156.0             1\n",
       "2025-08-23                        180.0             1\n",
       "2025-08-24                        126.0             1\n",
       "2025-08-25                        282.0             1\n",
       "2025-08-26                         99.0             1\n",
       "\n",
       "[651 rows x 2 columns]"
      ],
      "text/html": [
       "<div>\n",
       "<style scoped>\n",
       "    .dataframe tbody tr th:only-of-type {\n",
       "        vertical-align: middle;\n",
       "    }\n",
       "\n",
       "    .dataframe tbody tr th {\n",
       "        vertical-align: top;\n",
       "    }\n",
       "\n",
       "    .dataframe thead th {\n",
       "        text-align: right;\n",
       "    }\n",
       "</style>\n",
       "<table border=\"1\" class=\"dataframe\">\n",
       "  <thead>\n",
       "    <tr style=\"text-align: right;\">\n",
       "      <th></th>\n",
       "      <th>Exercise Calories Burned</th>\n",
       "      <th>Did Exercise</th>\n",
       "    </tr>\n",
       "    <tr>\n",
       "      <th>Activity Date</th>\n",
       "      <th></th>\n",
       "      <th></th>\n",
       "    </tr>\n",
       "  </thead>\n",
       "  <tbody>\n",
       "    <tr>\n",
       "      <th>2020-06-03</th>\n",
       "      <td>0.0</td>\n",
       "      <td>1</td>\n",
       "    </tr>\n",
       "    <tr>\n",
       "      <th>2020-06-07</th>\n",
       "      <td>0.0</td>\n",
       "      <td>1</td>\n",
       "    </tr>\n",
       "    <tr>\n",
       "      <th>2020-06-15</th>\n",
       "      <td>0.0</td>\n",
       "      <td>1</td>\n",
       "    </tr>\n",
       "    <tr>\n",
       "      <th>2020-06-16</th>\n",
       "      <td>0.0</td>\n",
       "      <td>1</td>\n",
       "    </tr>\n",
       "    <tr>\n",
       "      <th>2020-06-21</th>\n",
       "      <td>0.0</td>\n",
       "      <td>1</td>\n",
       "    </tr>\n",
       "    <tr>\n",
       "      <th>...</th>\n",
       "      <td>...</td>\n",
       "      <td>...</td>\n",
       "    </tr>\n",
       "    <tr>\n",
       "      <th>2025-08-21</th>\n",
       "      <td>156.0</td>\n",
       "      <td>1</td>\n",
       "    </tr>\n",
       "    <tr>\n",
       "      <th>2025-08-23</th>\n",
       "      <td>180.0</td>\n",
       "      <td>1</td>\n",
       "    </tr>\n",
       "    <tr>\n",
       "      <th>2025-08-24</th>\n",
       "      <td>126.0</td>\n",
       "      <td>1</td>\n",
       "    </tr>\n",
       "    <tr>\n",
       "      <th>2025-08-25</th>\n",
       "      <td>282.0</td>\n",
       "      <td>1</td>\n",
       "    </tr>\n",
       "    <tr>\n",
       "      <th>2025-08-26</th>\n",
       "      <td>99.0</td>\n",
       "      <td>1</td>\n",
       "    </tr>\n",
       "  </tbody>\n",
       "</table>\n",
       "<p>651 rows × 2 columns</p>\n",
       "</div>"
      ]
     },
     "execution_count": 168,
     "metadata": {},
     "output_type": "execute_result"
    }
   ],
   "execution_count": 168
  },
  {
   "cell_type": "markdown",
   "id": "71bbb2dc8808c7ad",
   "metadata": {},
   "source": [
    "Merge strava_df with master_df"
   ]
  },
  {
   "cell_type": "code",
   "id": "f44267dc157f1e59",
   "metadata": {
    "ExecuteTime": {
     "end_time": "2025-08-27T14:46:14.058163Z",
     "start_time": "2025-08-27T14:46:14.052388Z"
    }
   },
   "source": [
    "master_df = pd.merge(master_df, strava_df, left_on=\"Date\", right_on=\"Activity Date\", how=\"left\")"
   ],
   "outputs": [],
   "execution_count": 169
  },
  {
   "cell_type": "markdown",
   "id": "ab764fcebe4c2c26",
   "metadata": {},
   "source": [
    "Fill replace NaN values in master_df[\"Did Exercise\"] with 0. 0 signifies no exercise that day, 1 signifies exercise occurred that day"
   ]
  },
  {
   "cell_type": "code",
   "id": "ea8e35188d8e555d",
   "metadata": {
    "ExecuteTime": {
     "end_time": "2025-08-27T14:46:14.622285Z",
     "start_time": "2025-08-27T14:46:14.611182Z"
    }
   },
   "source": [
    "master_df[\"Did Exercise\"] = master_df[\"Did Exercise\"].fillna(0)\n",
    "master_df.head()"
   ],
   "outputs": [
    {
     "data": {
      "text/plain": [
       "        Date  Weight, kg  Total Calories In  Total Carbohydrates In (g)  \\\n",
       "0 2020-12-21        51.4              715.0                        78.0   \n",
       "1 2021-02-09        53.3              785.0                        98.9   \n",
       "2 2021-03-01        54.7              280.0                        64.0   \n",
       "3 2021-04-18        56.2              760.0                        90.2   \n",
       "4 2022-04-09        60.5              600.0                        80.8   \n",
       "\n",
       "   Exercise Calories Burned  Did Exercise  \n",
       "0                       NaN           0.0  \n",
       "1                       NaN           0.0  \n",
       "2                       NaN           0.0  \n",
       "3                       NaN           0.0  \n",
       "4                       0.0           1.0  "
      ],
      "text/html": [
       "<div>\n",
       "<style scoped>\n",
       "    .dataframe tbody tr th:only-of-type {\n",
       "        vertical-align: middle;\n",
       "    }\n",
       "\n",
       "    .dataframe tbody tr th {\n",
       "        vertical-align: top;\n",
       "    }\n",
       "\n",
       "    .dataframe thead th {\n",
       "        text-align: right;\n",
       "    }\n",
       "</style>\n",
       "<table border=\"1\" class=\"dataframe\">\n",
       "  <thead>\n",
       "    <tr style=\"text-align: right;\">\n",
       "      <th></th>\n",
       "      <th>Date</th>\n",
       "      <th>Weight, kg</th>\n",
       "      <th>Total Calories In</th>\n",
       "      <th>Total Carbohydrates In (g)</th>\n",
       "      <th>Exercise Calories Burned</th>\n",
       "      <th>Did Exercise</th>\n",
       "    </tr>\n",
       "  </thead>\n",
       "  <tbody>\n",
       "    <tr>\n",
       "      <th>0</th>\n",
       "      <td>2020-12-21</td>\n",
       "      <td>51.4</td>\n",
       "      <td>715.0</td>\n",
       "      <td>78.0</td>\n",
       "      <td>NaN</td>\n",
       "      <td>0.0</td>\n",
       "    </tr>\n",
       "    <tr>\n",
       "      <th>1</th>\n",
       "      <td>2021-02-09</td>\n",
       "      <td>53.3</td>\n",
       "      <td>785.0</td>\n",
       "      <td>98.9</td>\n",
       "      <td>NaN</td>\n",
       "      <td>0.0</td>\n",
       "    </tr>\n",
       "    <tr>\n",
       "      <th>2</th>\n",
       "      <td>2021-03-01</td>\n",
       "      <td>54.7</td>\n",
       "      <td>280.0</td>\n",
       "      <td>64.0</td>\n",
       "      <td>NaN</td>\n",
       "      <td>0.0</td>\n",
       "    </tr>\n",
       "    <tr>\n",
       "      <th>3</th>\n",
       "      <td>2021-04-18</td>\n",
       "      <td>56.2</td>\n",
       "      <td>760.0</td>\n",
       "      <td>90.2</td>\n",
       "      <td>NaN</td>\n",
       "      <td>0.0</td>\n",
       "    </tr>\n",
       "    <tr>\n",
       "      <th>4</th>\n",
       "      <td>2022-04-09</td>\n",
       "      <td>60.5</td>\n",
       "      <td>600.0</td>\n",
       "      <td>80.8</td>\n",
       "      <td>0.0</td>\n",
       "      <td>1.0</td>\n",
       "    </tr>\n",
       "  </tbody>\n",
       "</table>\n",
       "</div>"
      ]
     },
     "execution_count": 170,
     "metadata": {},
     "output_type": "execute_result"
    }
   ],
   "execution_count": 170
  },
  {
   "cell_type": "markdown",
   "id": "f4ac403fc70c90db",
   "metadata": {},
   "source": [
    "Now, if a row has 0 calories burned, we can distinguish whether any exercise was actually carried out that day by looking in the \"Did Exercise\" column."
   ]
  },
  {
   "cell_type": "markdown",
   "id": "c4f2d7076e15322a",
   "metadata": {},
   "source": [
    "We need to calculate daily weight change, but we need to remember that we don't have records for every day.\n",
    "\n",
    "If for each day0:\n",
    "    day1_weight_change = day1[\"Weight, kg\"] - day0[\"Weight, kg\"]\n",
    "then we need to be sure that day1 exists"
   ]
  },
  {
   "cell_type": "code",
   "id": "fa3289c8a29ca13f",
   "metadata": {
    "ExecuteTime": {
     "end_time": "2025-08-27T14:46:14.782695Z",
     "start_time": "2025-08-27T14:46:14.777147Z"
    }
   },
   "source": [
    "dwc_calculation = master_df.copy()\n",
    "dwc_calculation = dwc_calculation.sort_values(\"Date\").reset_index(drop=True)\n",
    "dwc_calculation[\"Daily Weight Change\"] = np.nan"
   ],
   "outputs": [],
   "execution_count": 171
  },
  {
   "cell_type": "code",
   "id": "32435f3d4d4a8e21",
   "metadata": {
    "ExecuteTime": {
     "end_time": "2025-08-27T14:46:15.225326Z",
     "start_time": "2025-08-27T14:46:15.158256Z"
    }
   },
   "source": [
    "for i in range(1, len(dwc_calculation)):\n",
    "\tcurrent_date = dwc_calculation.loc[i, \"Date\"]\n",
    "\t#Date is of type <class 'pandas._libs.tslibs.timestamps.Timestamp'>\n",
    "\tprevious_date = dwc_calculation.loc[i-1, \"Date\"]\n",
    "\tif ((current_date - previous_date).days != 1):\n",
    "\t\t# There are a lot of rows that count as missing- a lot of this is because I have removed rows where total carb count for that day exceeds 100. Other times this is because of missing data and rows in the dataset- some of these rows contain data that i have estimated\n",
    "\t\t# This has removed far more rows than I thought it would have which has made me think that there is an issue with the logic flow of the code\n",
    "\t\tprint(f\"Missing data between: {i} {current_date} - {i-1} {previous_date} != 1\")\n",
    "\t\tcontinue\n",
    "\tcurrent_weight = dwc_calculation.loc[i, \"Weight, kg\"]\n",
    "\tprevious_weight = dwc_calculation.loc[i-1, \"Weight, kg\"]\n",
    "\tdwc_calculation.loc[i, \"Daily Weight Change\"] = current_weight - previous_weight\n",
    "\n",
    "master_df[\"Daily Weight Change\"] = dwc_calculation[\"Daily Weight Change\"]\n",
    "# master_df.sort_values(\"Date\")[[\"Date\", \"Weight, kg\", \"Daily Weight Change\"]]\n",
    "# master_df"
   ],
   "outputs": [
    {
     "name": "stdout",
     "output_type": "stream",
     "text": [
      "Missing data between: 1 2021-02-09 00:00:00 - 0 2020-12-21 00:00:00 != 1\n",
      "Missing data between: 2 2021-03-01 00:00:00 - 1 2021-02-09 00:00:00 != 1\n",
      "Missing data between: 3 2021-04-18 00:00:00 - 2 2021-03-01 00:00:00 != 1\n",
      "Missing data between: 4 2022-04-09 00:00:00 - 3 2021-04-18 00:00:00 != 1\n",
      "Missing data between: 5 2023-04-27 00:00:00 - 4 2022-04-09 00:00:00 != 1\n",
      "Missing data between: 6 2023-05-05 00:00:00 - 5 2023-04-27 00:00:00 != 1\n",
      "Missing data between: 7 2023-05-09 00:00:00 - 6 2023-05-05 00:00:00 != 1\n",
      "Missing data between: 15 2023-05-18 00:00:00 - 14 2023-05-16 00:00:00 != 1\n",
      "Missing data between: 17 2023-05-22 00:00:00 - 16 2023-05-19 00:00:00 != 1\n",
      "Missing data between: 18 2023-05-25 00:00:00 - 17 2023-05-22 00:00:00 != 1\n",
      "Missing data between: 29 2023-06-06 00:00:00 - 28 2023-06-04 00:00:00 != 1\n",
      "Missing data between: 34 2023-06-14 00:00:00 - 33 2023-06-10 00:00:00 != 1\n",
      "Missing data between: 36 2023-06-18 00:00:00 - 35 2023-06-15 00:00:00 != 1\n",
      "Missing data between: 37 2023-06-21 00:00:00 - 36 2023-06-18 00:00:00 != 1\n",
      "Missing data between: 38 2023-06-25 00:00:00 - 37 2023-06-21 00:00:00 != 1\n",
      "Missing data between: 39 2023-07-01 00:00:00 - 38 2023-06-25 00:00:00 != 1\n",
      "Missing data between: 40 2023-07-13 00:00:00 - 39 2023-07-01 00:00:00 != 1\n",
      "Missing data between: 41 2023-07-15 00:00:00 - 40 2023-07-13 00:00:00 != 1\n",
      "Missing data between: 42 2023-07-23 00:00:00 - 41 2023-07-15 00:00:00 != 1\n",
      "Missing data between: 43 2023-07-29 00:00:00 - 42 2023-07-23 00:00:00 != 1\n",
      "Missing data between: 44 2023-08-16 00:00:00 - 43 2023-07-29 00:00:00 != 1\n",
      "Missing data between: 45 2023-08-20 00:00:00 - 44 2023-08-16 00:00:00 != 1\n",
      "Missing data between: 46 2023-08-22 00:00:00 - 45 2023-08-20 00:00:00 != 1\n",
      "Missing data between: 48 2023-08-26 00:00:00 - 47 2023-08-23 00:00:00 != 1\n",
      "Missing data between: 50 2023-09-02 00:00:00 - 49 2023-08-27 00:00:00 != 1\n",
      "Missing data between: 53 2023-09-08 00:00:00 - 52 2023-09-04 00:00:00 != 1\n",
      "Missing data between: 54 2023-09-12 00:00:00 - 53 2023-09-08 00:00:00 != 1\n",
      "Missing data between: 55 2023-09-16 00:00:00 - 54 2023-09-12 00:00:00 != 1\n",
      "Missing data between: 56 2023-09-18 00:00:00 - 55 2023-09-16 00:00:00 != 1\n",
      "Missing data between: 58 2023-09-22 00:00:00 - 57 2023-09-19 00:00:00 != 1\n",
      "Missing data between: 59 2023-10-01 00:00:00 - 58 2023-09-22 00:00:00 != 1\n",
      "Missing data between: 60 2023-10-07 00:00:00 - 59 2023-10-01 00:00:00 != 1\n",
      "Missing data between: 61 2023-10-09 00:00:00 - 60 2023-10-07 00:00:00 != 1\n",
      "Missing data between: 62 2023-10-25 00:00:00 - 61 2023-10-09 00:00:00 != 1\n",
      "Missing data between: 63 2023-11-04 00:00:00 - 62 2023-10-25 00:00:00 != 1\n",
      "Missing data between: 67 2023-11-09 00:00:00 - 66 2023-11-07 00:00:00 != 1\n",
      "Missing data between: 68 2023-11-13 00:00:00 - 67 2023-11-09 00:00:00 != 1\n",
      "Missing data between: 69 2023-11-16 00:00:00 - 68 2023-11-13 00:00:00 != 1\n",
      "Missing data between: 70 2023-11-22 00:00:00 - 69 2023-11-16 00:00:00 != 1\n",
      "Missing data between: 72 2023-11-25 00:00:00 - 71 2023-11-23 00:00:00 != 1\n",
      "Missing data between: 73 2023-11-27 00:00:00 - 72 2023-11-25 00:00:00 != 1\n",
      "Missing data between: 74 2023-11-30 00:00:00 - 73 2023-11-27 00:00:00 != 1\n",
      "Missing data between: 75 2023-12-03 00:00:00 - 74 2023-11-30 00:00:00 != 1\n",
      "Missing data between: 78 2023-12-07 00:00:00 - 77 2023-12-05 00:00:00 != 1\n",
      "Missing data between: 79 2023-12-09 00:00:00 - 78 2023-12-07 00:00:00 != 1\n",
      "Missing data between: 82 2023-12-16 00:00:00 - 81 2023-12-11 00:00:00 != 1\n",
      "Missing data between: 84 2023-12-19 00:00:00 - 83 2023-12-17 00:00:00 != 1\n",
      "Missing data between: 85 2023-12-22 00:00:00 - 84 2023-12-19 00:00:00 != 1\n",
      "Missing data between: 86 2023-12-25 00:00:00 - 85 2023-12-22 00:00:00 != 1\n",
      "Missing data between: 87 2023-12-28 00:00:00 - 86 2023-12-25 00:00:00 != 1\n",
      "Missing data between: 88 2024-01-02 00:00:00 - 87 2023-12-28 00:00:00 != 1\n",
      "Missing data between: 96 2024-01-12 00:00:00 - 95 2024-01-09 00:00:00 != 1\n",
      "Missing data between: 99 2024-01-16 00:00:00 - 98 2024-01-14 00:00:00 != 1\n",
      "Missing data between: 100 2024-01-18 00:00:00 - 99 2024-01-16 00:00:00 != 1\n",
      "Missing data between: 106 2024-01-26 00:00:00 - 105 2024-01-23 00:00:00 != 1\n",
      "Missing data between: 111 2024-02-01 00:00:00 - 110 2024-01-30 00:00:00 != 1\n",
      "Missing data between: 112 2024-02-04 00:00:00 - 111 2024-02-01 00:00:00 != 1\n",
      "Missing data between: 115 2024-02-08 00:00:00 - 114 2024-02-06 00:00:00 != 1\n",
      "Missing data between: 121 2024-02-15 00:00:00 - 120 2024-02-13 00:00:00 != 1\n",
      "Missing data between: 127 2024-02-22 00:00:00 - 126 2024-02-20 00:00:00 != 1\n",
      "Missing data between: 128 2024-02-24 00:00:00 - 127 2024-02-22 00:00:00 != 1\n",
      "Missing data between: 132 2024-02-29 00:00:00 - 131 2024-02-27 00:00:00 != 1\n",
      "Missing data between: 138 2024-03-08 00:00:00 - 137 2024-03-05 00:00:00 != 1\n",
      "Missing data between: 151 2024-03-22 00:00:00 - 150 2024-03-20 00:00:00 != 1\n",
      "Missing data between: 154 2024-03-29 00:00:00 - 153 2024-03-24 00:00:00 != 1\n",
      "Missing data between: 156 2024-04-02 00:00:00 - 155 2024-03-30 00:00:00 != 1\n",
      "Missing data between: 157 2024-04-05 00:00:00 - 156 2024-04-02 00:00:00 != 1\n",
      "Missing data between: 161 2024-04-12 00:00:00 - 160 2024-04-08 00:00:00 != 1\n",
      "Missing data between: 162 2024-04-14 00:00:00 - 161 2024-04-12 00:00:00 != 1\n",
      "Missing data between: 165 2024-04-18 00:00:00 - 164 2024-04-16 00:00:00 != 1\n",
      "Missing data between: 166 2024-04-20 00:00:00 - 165 2024-04-18 00:00:00 != 1\n",
      "Missing data between: 170 2024-04-25 00:00:00 - 169 2024-04-23 00:00:00 != 1\n",
      "Missing data between: 176 2024-05-02 00:00:00 - 175 2024-04-30 00:00:00 != 1\n",
      "Missing data between: 180 2024-05-09 00:00:00 - 179 2024-05-05 00:00:00 != 1\n",
      "Missing data between: 186 2024-05-16 00:00:00 - 185 2024-05-14 00:00:00 != 1\n",
      "Missing data between: 192 2024-05-23 00:00:00 - 191 2024-05-21 00:00:00 != 1\n",
      "Missing data between: 208 2024-06-09 00:00:00 - 207 2024-06-07 00:00:00 != 1\n",
      "Missing data between: 211 2024-06-13 00:00:00 - 210 2024-06-11 00:00:00 != 1\n",
      "Missing data between: 225 2024-06-28 00:00:00 - 224 2024-06-26 00:00:00 != 1\n",
      "Missing data between: 241 2024-07-15 00:00:00 - 240 2024-07-13 00:00:00 != 1\n",
      "Missing data between: 243 2024-07-18 00:00:00 - 242 2024-07-16 00:00:00 != 1\n",
      "Missing data between: 244 2024-07-20 00:00:00 - 243 2024-07-18 00:00:00 != 1\n",
      "Missing data between: 251 2024-07-28 00:00:00 - 250 2024-07-26 00:00:00 != 1\n",
      "Missing data between: 252 2024-07-30 00:00:00 - 251 2024-07-28 00:00:00 != 1\n",
      "Missing data between: 282 2024-08-30 00:00:00 - 281 2024-08-28 00:00:00 != 1\n",
      "Missing data between: 283 2024-09-01 00:00:00 - 282 2024-08-30 00:00:00 != 1\n",
      "Missing data between: 291 2024-09-10 00:00:00 - 290 2024-09-08 00:00:00 != 1\n",
      "Missing data between: 306 2024-09-26 00:00:00 - 305 2024-09-24 00:00:00 != 1\n",
      "Missing data between: 308 2024-09-29 00:00:00 - 307 2024-09-27 00:00:00 != 1\n",
      "Missing data between: 321 2024-10-13 00:00:00 - 320 2024-10-11 00:00:00 != 1\n",
      "Missing data between: 327 2024-10-20 00:00:00 - 326 2024-10-18 00:00:00 != 1\n",
      "Missing data between: 333 2024-10-27 00:00:00 - 332 2024-10-25 00:00:00 != 1\n",
      "Missing data between: 338 2024-11-02 00:00:00 - 337 2024-10-31 00:00:00 != 1\n",
      "Missing data between: 346 2024-11-11 00:00:00 - 345 2024-11-09 00:00:00 != 1\n",
      "Missing data between: 357 2024-11-23 00:00:00 - 356 2024-11-21 00:00:00 != 1\n",
      "Missing data between: 358 2024-11-25 00:00:00 - 357 2024-11-23 00:00:00 != 1\n",
      "Missing data between: 360 2024-11-29 00:00:00 - 359 2024-11-26 00:00:00 != 1\n",
      "Missing data between: 361 2024-12-01 00:00:00 - 360 2024-11-29 00:00:00 != 1\n",
      "Missing data between: 366 2024-12-07 00:00:00 - 365 2024-12-05 00:00:00 != 1\n",
      "Missing data between: 367 2024-12-10 00:00:00 - 366 2024-12-07 00:00:00 != 1\n",
      "Missing data between: 369 2024-12-13 00:00:00 - 368 2024-12-11 00:00:00 != 1\n",
      "Missing data between: 371 2024-12-19 00:00:00 - 370 2024-12-14 00:00:00 != 1\n",
      "Missing data between: 373 2024-12-27 00:00:00 - 372 2024-12-20 00:00:00 != 1\n",
      "Missing data between: 374 2025-01-02 00:00:00 - 373 2024-12-27 00:00:00 != 1\n",
      "Missing data between: 375 2025-01-04 00:00:00 - 374 2025-01-02 00:00:00 != 1\n",
      "Missing data between: 380 2025-01-10 00:00:00 - 379 2025-01-08 00:00:00 != 1\n",
      "Missing data between: 381 2025-01-12 00:00:00 - 380 2025-01-10 00:00:00 != 1\n",
      "Missing data between: 389 2025-01-21 00:00:00 - 388 2025-01-19 00:00:00 != 1\n",
      "Missing data between: 405 2025-02-07 00:00:00 - 404 2025-02-05 00:00:00 != 1\n",
      "Missing data between: 409 2025-02-12 00:00:00 - 408 2025-02-10 00:00:00 != 1\n",
      "Missing data between: 411 2025-02-15 00:00:00 - 410 2025-02-13 00:00:00 != 1\n",
      "Missing data between: 420 2025-02-25 00:00:00 - 419 2025-02-23 00:00:00 != 1\n",
      "Missing data between: 423 2025-03-02 00:00:00 - 422 2025-02-27 00:00:00 != 1\n",
      "Missing data between: 433 2025-03-13 00:00:00 - 432 2025-03-11 00:00:00 != 1\n",
      "Missing data between: 435 2025-03-17 00:00:00 - 434 2025-03-14 00:00:00 != 1\n",
      "Missing data between: 436 2025-03-19 00:00:00 - 435 2025-03-17 00:00:00 != 1\n",
      "Missing data between: 440 2025-03-24 00:00:00 - 439 2025-03-22 00:00:00 != 1\n",
      "Missing data between: 444 2025-03-30 00:00:00 - 443 2025-03-27 00:00:00 != 1\n",
      "Missing data between: 446 2025-04-02 00:00:00 - 445 2025-03-31 00:00:00 != 1\n",
      "Missing data between: 447 2025-04-04 00:00:00 - 446 2025-04-02 00:00:00 != 1\n",
      "Missing data between: 448 2025-04-07 00:00:00 - 447 2025-04-04 00:00:00 != 1\n",
      "Missing data between: 449 2025-04-09 00:00:00 - 448 2025-04-07 00:00:00 != 1\n",
      "Missing data between: 452 2025-04-13 00:00:00 - 451 2025-04-11 00:00:00 != 1\n",
      "Missing data between: 453 2025-04-16 00:00:00 - 452 2025-04-13 00:00:00 != 1\n",
      "Missing data between: 454 2025-04-19 00:00:00 - 453 2025-04-16 00:00:00 != 1\n",
      "Missing data between: 455 2025-04-21 00:00:00 - 454 2025-04-19 00:00:00 != 1\n",
      "Missing data between: 456 2025-04-23 00:00:00 - 455 2025-04-21 00:00:00 != 1\n",
      "Missing data between: 457 2025-04-25 00:00:00 - 456 2025-04-23 00:00:00 != 1\n",
      "Missing data between: 465 2025-05-04 00:00:00 - 464 2025-05-02 00:00:00 != 1\n",
      "Missing data between: 466 2025-05-06 00:00:00 - 465 2025-05-04 00:00:00 != 1\n",
      "Missing data between: 468 2025-05-13 00:00:00 - 467 2025-05-07 00:00:00 != 1\n",
      "Missing data between: 472 2025-05-22 00:00:00 - 471 2025-05-16 00:00:00 != 1\n",
      "Missing data between: 473 2025-05-25 00:00:00 - 472 2025-05-22 00:00:00 != 1\n",
      "Missing data between: 476 2025-06-03 00:00:00 - 475 2025-05-27 00:00:00 != 1\n",
      "Missing data between: 478 2025-06-09 00:00:00 - 477 2025-06-04 00:00:00 != 1\n",
      "Missing data between: 479 2025-06-11 00:00:00 - 478 2025-06-09 00:00:00 != 1\n",
      "Missing data between: 480 2025-07-08 00:00:00 - 479 2025-06-11 00:00:00 != 1\n",
      "Missing data between: 482 2025-07-15 00:00:00 - 481 2025-07-09 00:00:00 != 1\n",
      "Missing data between: 485 2025-07-19 00:00:00 - 484 2025-07-17 00:00:00 != 1\n",
      "Missing data between: 486 2025-07-23 00:00:00 - 485 2025-07-19 00:00:00 != 1\n",
      "Missing data between: 488 2025-07-27 00:00:00 - 487 2025-07-24 00:00:00 != 1\n",
      "Missing data between: 489 2025-07-30 00:00:00 - 488 2025-07-27 00:00:00 != 1\n",
      "Missing data between: 492 2025-08-03 00:00:00 - 491 2025-08-01 00:00:00 != 1\n",
      "Missing data between: 496 2025-08-08 00:00:00 - 495 2025-08-06 00:00:00 != 1\n",
      "Missing data between: 499 2025-08-14 00:00:00 - 498 2025-08-10 00:00:00 != 1\n",
      "Missing data between: 501 2025-08-17 00:00:00 - 500 2025-08-15 00:00:00 != 1\n",
      "Missing data between: 502 2025-08-19 00:00:00 - 501 2025-08-17 00:00:00 != 1\n",
      "Missing data between: 505 2025-08-24 00:00:00 - 504 2025-08-21 00:00:00 != 1\n"
     ]
    }
   ],
   "execution_count": 172
  },
  {
   "cell_type": "markdown",
   "id": "344cd34a136f6ccc",
   "metadata": {},
   "source": [
    "Remove rows that have missing values for \"Daily Weight Change\""
   ]
  },
  {
   "cell_type": "code",
   "id": "e921d1cc7fc9c29d",
   "metadata": {
    "ExecuteTime": {
     "end_time": "2025-08-27T14:46:15.633110Z",
     "start_time": "2025-08-27T14:46:15.616153Z"
    }
   },
   "source": [
    "dropped_rows = master_df[master_df[\"Daily Weight Change\"].isna()]\n",
    "master_df = master_df.dropna(subset=[\"Daily Weight Change\"]).reset_index(drop=True)\n",
    "# At this point there is no na values within the \"daily weight change\" column in master_df\n",
    "master_df"
   ],
   "outputs": [
    {
     "data": {
      "text/plain": [
       "          Date  Weight, kg  Total Calories In  Total Carbohydrates In (g)  \\\n",
       "0   2023-05-10        60.8             2328.0                        46.1   \n",
       "1   2023-05-11        60.6             2564.0                         6.8   \n",
       "2   2023-05-12        60.4             2471.0                        16.9   \n",
       "3   2023-05-13        60.7             1791.0                        28.3   \n",
       "4   2023-05-14        59.8             2361.0                        22.8   \n",
       "..         ...         ...                ...                         ...   \n",
       "354 2025-08-15        66.9             2956.0                        49.7   \n",
       "355 2025-08-20        66.2             2892.0                        55.5   \n",
       "356 2025-08-21        66.3             2343.0                        52.2   \n",
       "357 2025-08-25        66.7             2898.0                        76.8   \n",
       "358 2025-08-26        67.1             2727.0                        72.3   \n",
       "\n",
       "     Exercise Calories Burned  Did Exercise  Daily Weight Change  \n",
       "0                         NaN           0.0                  0.5  \n",
       "1                       151.0           1.0                 -0.2  \n",
       "2                        51.0           1.0                 -0.2  \n",
       "3                         NaN           0.0                  0.3  \n",
       "4                         NaN           0.0                 -0.9  \n",
       "..                        ...           ...                  ...  \n",
       "354                     272.0           1.0                 -0.3  \n",
       "355                     421.0           1.0                 -0.1  \n",
       "356                     156.0           1.0                  0.1  \n",
       "357                     282.0           1.0                 -0.1  \n",
       "358                      99.0           1.0                  0.4  \n",
       "\n",
       "[359 rows x 7 columns]"
      ],
      "text/html": [
       "<div>\n",
       "<style scoped>\n",
       "    .dataframe tbody tr th:only-of-type {\n",
       "        vertical-align: middle;\n",
       "    }\n",
       "\n",
       "    .dataframe tbody tr th {\n",
       "        vertical-align: top;\n",
       "    }\n",
       "\n",
       "    .dataframe thead th {\n",
       "        text-align: right;\n",
       "    }\n",
       "</style>\n",
       "<table border=\"1\" class=\"dataframe\">\n",
       "  <thead>\n",
       "    <tr style=\"text-align: right;\">\n",
       "      <th></th>\n",
       "      <th>Date</th>\n",
       "      <th>Weight, kg</th>\n",
       "      <th>Total Calories In</th>\n",
       "      <th>Total Carbohydrates In (g)</th>\n",
       "      <th>Exercise Calories Burned</th>\n",
       "      <th>Did Exercise</th>\n",
       "      <th>Daily Weight Change</th>\n",
       "    </tr>\n",
       "  </thead>\n",
       "  <tbody>\n",
       "    <tr>\n",
       "      <th>0</th>\n",
       "      <td>2023-05-10</td>\n",
       "      <td>60.8</td>\n",
       "      <td>2328.0</td>\n",
       "      <td>46.1</td>\n",
       "      <td>NaN</td>\n",
       "      <td>0.0</td>\n",
       "      <td>0.5</td>\n",
       "    </tr>\n",
       "    <tr>\n",
       "      <th>1</th>\n",
       "      <td>2023-05-11</td>\n",
       "      <td>60.6</td>\n",
       "      <td>2564.0</td>\n",
       "      <td>6.8</td>\n",
       "      <td>151.0</td>\n",
       "      <td>1.0</td>\n",
       "      <td>-0.2</td>\n",
       "    </tr>\n",
       "    <tr>\n",
       "      <th>2</th>\n",
       "      <td>2023-05-12</td>\n",
       "      <td>60.4</td>\n",
       "      <td>2471.0</td>\n",
       "      <td>16.9</td>\n",
       "      <td>51.0</td>\n",
       "      <td>1.0</td>\n",
       "      <td>-0.2</td>\n",
       "    </tr>\n",
       "    <tr>\n",
       "      <th>3</th>\n",
       "      <td>2023-05-13</td>\n",
       "      <td>60.7</td>\n",
       "      <td>1791.0</td>\n",
       "      <td>28.3</td>\n",
       "      <td>NaN</td>\n",
       "      <td>0.0</td>\n",
       "      <td>0.3</td>\n",
       "    </tr>\n",
       "    <tr>\n",
       "      <th>4</th>\n",
       "      <td>2023-05-14</td>\n",
       "      <td>59.8</td>\n",
       "      <td>2361.0</td>\n",
       "      <td>22.8</td>\n",
       "      <td>NaN</td>\n",
       "      <td>0.0</td>\n",
       "      <td>-0.9</td>\n",
       "    </tr>\n",
       "    <tr>\n",
       "      <th>...</th>\n",
       "      <td>...</td>\n",
       "      <td>...</td>\n",
       "      <td>...</td>\n",
       "      <td>...</td>\n",
       "      <td>...</td>\n",
       "      <td>...</td>\n",
       "      <td>...</td>\n",
       "    </tr>\n",
       "    <tr>\n",
       "      <th>354</th>\n",
       "      <td>2025-08-15</td>\n",
       "      <td>66.9</td>\n",
       "      <td>2956.0</td>\n",
       "      <td>49.7</td>\n",
       "      <td>272.0</td>\n",
       "      <td>1.0</td>\n",
       "      <td>-0.3</td>\n",
       "    </tr>\n",
       "    <tr>\n",
       "      <th>355</th>\n",
       "      <td>2025-08-20</td>\n",
       "      <td>66.2</td>\n",
       "      <td>2892.0</td>\n",
       "      <td>55.5</td>\n",
       "      <td>421.0</td>\n",
       "      <td>1.0</td>\n",
       "      <td>-0.1</td>\n",
       "    </tr>\n",
       "    <tr>\n",
       "      <th>356</th>\n",
       "      <td>2025-08-21</td>\n",
       "      <td>66.3</td>\n",
       "      <td>2343.0</td>\n",
       "      <td>52.2</td>\n",
       "      <td>156.0</td>\n",
       "      <td>1.0</td>\n",
       "      <td>0.1</td>\n",
       "    </tr>\n",
       "    <tr>\n",
       "      <th>357</th>\n",
       "      <td>2025-08-25</td>\n",
       "      <td>66.7</td>\n",
       "      <td>2898.0</td>\n",
       "      <td>76.8</td>\n",
       "      <td>282.0</td>\n",
       "      <td>1.0</td>\n",
       "      <td>-0.1</td>\n",
       "    </tr>\n",
       "    <tr>\n",
       "      <th>358</th>\n",
       "      <td>2025-08-26</td>\n",
       "      <td>67.1</td>\n",
       "      <td>2727.0</td>\n",
       "      <td>72.3</td>\n",
       "      <td>99.0</td>\n",
       "      <td>1.0</td>\n",
       "      <td>0.4</td>\n",
       "    </tr>\n",
       "  </tbody>\n",
       "</table>\n",
       "<p>359 rows × 7 columns</p>\n",
       "</div>"
      ]
     },
     "execution_count": 173,
     "metadata": {},
     "output_type": "execute_result"
    }
   ],
   "execution_count": 173
  },
  {
   "cell_type": "markdown",
   "id": "a572d30346998fb5",
   "metadata": {},
   "source": [
    "Remove outliers from the \"Exercise Calories Burned\" column"
   ]
  },
  {
   "cell_type": "code",
   "id": "49af444cb35c1e5a",
   "metadata": {
    "ExecuteTime": {
     "end_time": "2025-08-27T14:46:16.224414Z",
     "start_time": "2025-08-27T14:46:16.137386Z"
    }
   },
   "source": [
    "did_exercise = master_df[master_df[\"Exercise Calories Burned\"] > 0].copy()\n",
    "print(f\"I did exercise on {len(master_df[\"Did Exercise\"])} days and burned calories through exercise on {len(did_exercise)} days\")\n",
    "plt.hist(did_exercise[\"Exercise Calories Burned\"], bins=50)\n",
    "plt.show()\n",
    "plt.close()\n",
    "\n",
    "skew_score = skew(did_exercise[\"Exercise Calories Burned\"])\n",
    "kurtosis_score = kurtosis(did_exercise[\"Exercise Calories Burned\"])\n",
    "print(f\"Skew: {skew_score} / Kurtosis: {kurtosis_score}\")"
   ],
   "outputs": [
    {
     "name": "stdout",
     "output_type": "stream",
     "text": [
      "I did exercise on 359 days and burned calories through exercise on 278 days\n"
     ]
    },
    {
     "data": {
      "text/plain": [
       "<Figure size 640x480 with 1 Axes>"
      ],
      "image/png": "[encoded data removed]"
     },
     "metadata": {},
     "output_type": "display_data"
    },
    {
     "name": "stdout",
     "output_type": "stream",
     "text": [
      "Skew: 1.6313944187369118 / Kurtosis: 6.563112219296368\n"
     ]
    }
   ],
   "execution_count": 174
  },
  {
   "cell_type": "markdown",
   "id": "94d98e0f1692aff",
   "metadata": {},
   "source": [
    "Distribution of Column: \"Exercise Calories Burned\"\n",
    "\n",
    "Shape: Right, positively skewed. Most values range from 150-600, with a long right tail up to 1400\n",
    "\n",
    "Mode: Tallest bars are at ~250\n",
    "\n",
    "Spread: Majority of the data values are between 150-600 calories, however there are some more extreme values at 800, 1000 and 1400+\n",
    "\n",
    "Outliers: A few high data points with values that are multiple times the median\n",
    "\n",
    "Skewness Score: ~1.7 (Right skew)\n",
    "\n",
    "Kurtosis Score: ~6.3 (Greater than 3, high peak and heavy tails)\n",
    "\n",
    "I'll attempt to remove outliers with the IQR*1.5 rule"
   ]
  },
  {
   "cell_type": "code",
   "id": "b75c66056effaa4e",
   "metadata": {
    "ExecuteTime": {
     "end_time": "2025-08-27T14:46:16.622547Z",
     "start_time": "2025-08-27T14:46:16.545640Z"
    }
   },
   "source": [
    "Q1 = did_exercise[\"Exercise Calories Burned\"].quantile(0.25)\n",
    "Q3 = did_exercise[\"Exercise Calories Burned\"].quantile(0.75)\n",
    "IQR = Q3 - Q1\n",
    "lower_bound = Q1 - 1.5 * IQR\n",
    "upper_bound = Q3 + 1.5 * IQR\n",
    "print(f\"lower: {lower_bound} | upper: {upper_bound}\")\n",
    "# Don't want to remove rows with a 0 exercise calories burned count that did not do exercise\n",
    "did_exercise = did_exercise[\n",
    "\t((did_exercise[\"Exercise Calories Burned\"] >= lower_bound) & (did_exercise[\"Did Exercise\"] == 1)) &\n",
    "\t((did_exercise[\"Exercise Calories Burned\"] <= upper_bound) & (did_exercise[\"Did Exercise\"] == 1))\n",
    "]\n",
    "\n",
    "plt.hist(did_exercise[\"Exercise Calories Burned\"], bins=25)\n",
    "plt.show()\n",
    "plt.close()\n",
    "\n",
    "skew_score = skew(did_exercise[\"Exercise Calories Burned\"])\n",
    "kurtosis_score = kurtosis(did_exercise[\"Exercise Calories Burned\"])\n",
    "print(f\"New Skew: {skew_score} / New Kurtosis: {kurtosis_score}\")\n",
    "\n",
    "master_df[\"Exercise Calories Burned\"] = did_exercise[\"Exercise Calories Burned\"]"
   ],
   "outputs": [
    {
     "name": "stdout",
     "output_type": "stream",
     "text": [
      "lower: -182.875 | upper: 802.125\n"
     ]
    },
    {
     "data": {
      "text/plain": [
       "<Figure size 640x480 with 1 Axes>"
      ],
      "image/png": "[encoded data removed]"
     },
     "metadata": {},
     "output_type": "display_data"
    },
    {
     "name": "stdout",
     "output_type": "stream",
     "text": [
      "New Skew: 0.4302828988229492 / New Kurtosis: -0.5918483202259162\n"
     ]
    }
   ],
   "execution_count": 175
  },
  {
   "cell_type": "code",
   "id": "54f02564a99b9ed2",
   "metadata": {
    "ExecuteTime": {
     "end_time": "2025-08-27T14:46:17.537132Z",
     "start_time": "2025-08-27T14:46:17.522736Z"
    }
   },
   "source": [
    "master_df"
   ],
   "outputs": [
    {
     "data": {
      "text/plain": [
       "          Date  Weight, kg  Total Calories In  Total Carbohydrates In (g)  \\\n",
       "0   2023-05-10        60.8             2328.0                        46.1   \n",
       "1   2023-05-11        60.6             2564.0                         6.8   \n",
       "2   2023-05-12        60.4             2471.0                        16.9   \n",
       "3   2023-05-13        60.7             1791.0                        28.3   \n",
       "4   2023-05-14        59.8             2361.0                        22.8   \n",
       "..         ...         ...                ...                         ...   \n",
       "354 2025-08-15        66.9             2956.0                        49.7   \n",
       "355 2025-08-20        66.2             2892.0                        55.5   \n",
       "356 2025-08-21        66.3             2343.0                        52.2   \n",
       "357 2025-08-25        66.7             2898.0                        76.8   \n",
       "358 2025-08-26        67.1             2727.0                        72.3   \n",
       "\n",
       "     Exercise Calories Burned  Did Exercise  Daily Weight Change  \n",
       "0                         NaN           0.0                  0.5  \n",
       "1                       151.0           1.0                 -0.2  \n",
       "2                        51.0           1.0                 -0.2  \n",
       "3                         NaN           0.0                  0.3  \n",
       "4                         NaN           0.0                 -0.9  \n",
       "..                        ...           ...                  ...  \n",
       "354                     272.0           1.0                 -0.3  \n",
       "355                     421.0           1.0                 -0.1  \n",
       "356                     156.0           1.0                  0.1  \n",
       "357                     282.0           1.0                 -0.1  \n",
       "358                      99.0           1.0                  0.4  \n",
       "\n",
       "[359 rows x 7 columns]"
      ],
      "text/html": [
       "<div>\n",
       "<style scoped>\n",
       "    .dataframe tbody tr th:only-of-type {\n",
       "        vertical-align: middle;\n",
       "    }\n",
       "\n",
       "    .dataframe tbody tr th {\n",
       "        vertical-align: top;\n",
       "    }\n",
       "\n",
       "    .dataframe thead th {\n",
       "        text-align: right;\n",
       "    }\n",
       "</style>\n",
       "<table border=\"1\" class=\"dataframe\">\n",
       "  <thead>\n",
       "    <tr style=\"text-align: right;\">\n",
       "      <th></th>\n",
       "      <th>Date</th>\n",
       "      <th>Weight, kg</th>\n",
       "      <th>Total Calories In</th>\n",
       "      <th>Total Carbohydrates In (g)</th>\n",
       "      <th>Exercise Calories Burned</th>\n",
       "      <th>Did Exercise</th>\n",
       "      <th>Daily Weight Change</th>\n",
       "    </tr>\n",
       "  </thead>\n",
       "  <tbody>\n",
       "    <tr>\n",
       "      <th>0</th>\n",
       "      <td>2023-05-10</td>\n",
       "      <td>60.8</td>\n",
       "      <td>2328.0</td>\n",
       "      <td>46.1</td>\n",
       "      <td>NaN</td>\n",
       "      <td>0.0</td>\n",
       "      <td>0.5</td>\n",
       "    </tr>\n",
       "    <tr>\n",
       "      <th>1</th>\n",
       "      <td>2023-05-11</td>\n",
       "      <td>60.6</td>\n",
       "      <td>2564.0</td>\n",
       "      <td>6.8</td>\n",
       "      <td>151.0</td>\n",
       "      <td>1.0</td>\n",
       "      <td>-0.2</td>\n",
       "    </tr>\n",
       "    <tr>\n",
       "      <th>2</th>\n",
       "      <td>2023-05-12</td>\n",
       "      <td>60.4</td>\n",
       "      <td>2471.0</td>\n",
       "      <td>16.9</td>\n",
       "      <td>51.0</td>\n",
       "      <td>1.0</td>\n",
       "      <td>-0.2</td>\n",
       "    </tr>\n",
       "    <tr>\n",
       "      <th>3</th>\n",
       "      <td>2023-05-13</td>\n",
       "      <td>60.7</td>\n",
       "      <td>1791.0</td>\n",
       "      <td>28.3</td>\n",
       "      <td>NaN</td>\n",
       "      <td>0.0</td>\n",
       "      <td>0.3</td>\n",
       "    </tr>\n",
       "    <tr>\n",
       "      <th>4</th>\n",
       "      <td>2023-05-14</td>\n",
       "      <td>59.8</td>\n",
       "      <td>2361.0</td>\n",
       "      <td>22.8</td>\n",
       "      <td>NaN</td>\n",
       "      <td>0.0</td>\n",
       "      <td>-0.9</td>\n",
       "    </tr>\n",
       "    <tr>\n",
       "      <th>...</th>\n",
       "      <td>...</td>\n",
       "      <td>...</td>\n",
       "      <td>...</td>\n",
       "      <td>...</td>\n",
       "      <td>...</td>\n",
       "      <td>...</td>\n",
       "      <td>...</td>\n",
       "    </tr>\n",
       "    <tr>\n",
       "      <th>354</th>\n",
       "      <td>2025-08-15</td>\n",
       "      <td>66.9</td>\n",
       "      <td>2956.0</td>\n",
       "      <td>49.7</td>\n",
       "      <td>272.0</td>\n",
       "      <td>1.0</td>\n",
       "      <td>-0.3</td>\n",
       "    </tr>\n",
       "    <tr>\n",
       "      <th>355</th>\n",
       "      <td>2025-08-20</td>\n",
       "      <td>66.2</td>\n",
       "      <td>2892.0</td>\n",
       "      <td>55.5</td>\n",
       "      <td>421.0</td>\n",
       "      <td>1.0</td>\n",
       "      <td>-0.1</td>\n",
       "    </tr>\n",
       "    <tr>\n",
       "      <th>356</th>\n",
       "      <td>2025-08-21</td>\n",
       "      <td>66.3</td>\n",
       "      <td>2343.0</td>\n",
       "      <td>52.2</td>\n",
       "      <td>156.0</td>\n",
       "      <td>1.0</td>\n",
       "      <td>0.1</td>\n",
       "    </tr>\n",
       "    <tr>\n",
       "      <th>357</th>\n",
       "      <td>2025-08-25</td>\n",
       "      <td>66.7</td>\n",
       "      <td>2898.0</td>\n",
       "      <td>76.8</td>\n",
       "      <td>282.0</td>\n",
       "      <td>1.0</td>\n",
       "      <td>-0.1</td>\n",
       "    </tr>\n",
       "    <tr>\n",
       "      <th>358</th>\n",
       "      <td>2025-08-26</td>\n",
       "      <td>67.1</td>\n",
       "      <td>2727.0</td>\n",
       "      <td>72.3</td>\n",
       "      <td>99.0</td>\n",
       "      <td>1.0</td>\n",
       "      <td>0.4</td>\n",
       "    </tr>\n",
       "  </tbody>\n",
       "</table>\n",
       "<p>359 rows × 7 columns</p>\n",
       "</div>"
      ]
     },
     "execution_count": 176,
     "metadata": {},
     "output_type": "execute_result"
    }
   ],
   "execution_count": 176
  },
  {
   "cell_type": "markdown",
   "id": "6307885ab5adfabc",
   "metadata": {},
   "source": [
    "Remove outliers from \"Daily Weight Change\" column"
   ]
  },
  {
   "cell_type": "code",
   "id": "b7eba9ab1431ebc4",
   "metadata": {
    "ExecuteTime": {
     "end_time": "2025-08-27T14:46:17.887601Z",
     "start_time": "2025-08-27T14:46:17.821051Z"
    }
   },
   "source": [
    "dwc_df = master_df.copy()\n",
    "print(f\"There are {len(dwc_df)} rows that have records for consecutive days\")\n",
    "plt.hist(dwc_df[\"Daily Weight Change\"], bins=25)\n",
    "plt.show()\n",
    "plt.close()\n",
    "\n",
    "skew_score = skew(dwc_df[\"Daily Weight Change\"].dropna())\n",
    "kurtosis_score = kurtosis(dwc_df[\"Daily Weight Change\"].dropna())\n",
    "print(f\"Skew: {skew_score} / Kurtosis: {kurtosis_score}\")"
   ],
   "outputs": [
    {
     "name": "stdout",
     "output_type": "stream",
     "text": [
      "There are 359 rows that have records for consecutive days\n"
     ]
    },
    {
     "data": {
      "text/plain": [
       "<Figure size 640x480 with 1 Axes>"
      ],
      "image/png": "[encoded data removed]"
     },
     "metadata": {},
     "output_type": "display_data"
    },
    {
     "name": "stdout",
     "output_type": "stream",
     "text": [
      "Skew: -0.17096379376975548 / Kurtosis: 0.9919971549534363\n"
     ]
    }
   ],
   "execution_count": 177
  },
  {
   "cell_type": "markdown",
   "id": "e52baf6f12058283",
   "metadata": {},
   "source": [
    "Distribution of Column: \"Daily Weight Change\"\n",
    "\n",
    "Shape: Roughly symmetrical\n",
    "\n",
    "Mode: Mode of 0\n",
    "\n",
    "Spread: Most values are between +/-1.5. Much tighter spread than the previous distribution for \"Exercise Calories Burned\"\n",
    "\n",
    "Outliers: Some potential outliers on the left tail, (below -2)\n",
    "\n",
    "Skewness Score: ~-0.23 (Left skew)\n",
    "\n",
    "Kurtosis Score: ~0.98 (Greater than 0, less than 3, higher peak and with some tails)\n",
    "\n",
    "I'll attempt to remove outliers with the IQR*1.5 rule"
   ]
  },
  {
   "cell_type": "code",
   "id": "d8b772bf448ea81a",
   "metadata": {
    "ExecuteTime": {
     "end_time": "2025-08-27T14:46:18.373788Z",
     "start_time": "2025-08-27T14:46:18.240204Z"
    }
   },
   "source": [
    "Q1 = dwc_df[\"Daily Weight Change\"].quantile(0.25)\n",
    "Q3 = dwc_df[\"Daily Weight Change\"].quantile(0.75)\n",
    "IQR = Q3 - Q1\n",
    "lower_bound = Q1 - 1.5 * IQR\n",
    "upper_bound = Q3 + 1.5 * IQR\n",
    "\n",
    "dailyweightchanges_outofbounds = pd.DataFrame(columns=list(dwc_df.columns))\n",
    "# dailyweightchanges_outofbounds.columns = dwc_df.columns\n",
    "for i, row in dwc_df.iterrows():\n",
    "    if not ((row[\"Daily Weight Change\"] >= lower_bound) & (row[\"Daily Weight Change\"] <= upper_bound)):\n",
    "        dailyweightchanges_outofbounds.loc[len(dailyweightchanges_outofbounds)] = list(row)\n",
    "\n",
    "weight_changes = dwc_df[(dwc_df[\"Daily Weight Change\"] >= lower_bound) & (dwc_df[\"Daily Weight Change\"] <= upper_bound)]\n",
    "\n",
    "plt.hist(weight_changes[\"Daily Weight Change\"], bins=25)\n",
    "plt.show()\n",
    "plt.close()\n",
    "\n",
    "skew_score = skew(dwc_df[\"Daily Weight Change\"])\n",
    "kurtosis_score = kurtosis(dwc_df[\"Daily Weight Change\"])\n",
    "print(f\"Skew: {skew_score} / Kurtosis: {kurtosis_score}\")\n",
    "\n",
    "master_df[\"Daily Weight Change\"] = dwc_df[\"Daily Weight Change\"]"
   ],
   "outputs": [
    {
     "data": {
      "text/plain": [
       "<Figure size 640x480 with 1 Axes>"
      ],
      "image/png": "[encoded data removed]"
     },
     "metadata": {},
     "output_type": "display_data"
    },
    {
     "name": "stdout",
     "output_type": "stream",
     "text": [
      "Skew: -0.17096379376975548 / Kurtosis: 0.9919971549534363\n"
     ]
    }
   ],
   "execution_count": 178
  },
  {
   "cell_type": "markdown",
   "id": "db75872484c1070a",
   "metadata": {},
   "source": [
    "Are there any rows with na values that we don't know about?"
   ]
  },
  {
   "cell_type": "code",
   "id": "6cfef16782086400",
   "metadata": {
    "ExecuteTime": {
     "end_time": "2025-08-27T14:46:18.928339Z",
     "start_time": "2025-08-27T14:46:18.922053Z"
    }
   },
   "source": [
    "# There are some rows still marked as na\n",
    "na_rows = master_df[master_df.isna().any(axis=1)]"
   ],
   "outputs": [],
   "execution_count": 179
  },
  {
   "cell_type": "markdown",
   "id": "ed5da26bb42cf11b",
   "metadata": {},
   "source": [
    "Split the data set in two: one dataframe for did exercise, one for no exercise"
   ]
  },
  {
   "cell_type": "code",
   "id": "86dfc2d1ee15730a",
   "metadata": {
    "ExecuteTime": {
     "end_time": "2025-08-27T14:46:19.355344Z",
     "start_time": "2025-08-27T14:46:19.346727Z"
    }
   },
   "source": [
    "did_exercise = master_df.copy()\n",
    "did_exercise = did_exercise[did_exercise[\"Did Exercise\"] == 1]\n",
    "no_exercise = master_df.copy()\n",
    "no_exercise = no_exercise[no_exercise[\"Did Exercise\"] == 0]\n",
    "print(f\"I did exercise on {len(did_exercise)} days and no exercise on {len(no_exercise)} days\")"
   ],
   "outputs": [
    {
     "name": "stdout",
     "output_type": "stream",
     "text": [
      "I did exercise on 296 days and no exercise on 63 days\n"
     ]
    }
   ],
   "execution_count": 180
  },
  {
   "cell_type": "markdown",
   "id": "dfc1f2e932a671d8",
   "metadata": {},
   "source": [
    "Adding a threshold to the number of calories burned to count the exercise in the study"
   ]
  },
  {
   "cell_type": "code",
   "id": "c0612d9c7fb28b67",
   "metadata": {
    "ExecuteTime": {
     "end_time": "2025-08-27T14:46:19.638839Z",
     "start_time": "2025-08-27T14:46:19.633770Z"
    }
   },
   "source": [
    "exercise_baseline_cals_burned = 150\n",
    "did_exercise = did_exercise[did_exercise[\"Exercise Calories Burned\"] > exercise_baseline_cals_burned]\n",
    "print(f\"With the baseline added, I did exercise on {len(did_exercise)} days.\")"
   ],
   "outputs": [
    {
     "name": "stdout",
     "output_type": "stream",
     "text": [
      "With the baseline added, I did exercise on 224 days.\n"
     ]
    }
   ],
   "execution_count": 181
  },
  {
   "cell_type": "markdown",
   "id": "f63d8fbf937217f8",
   "metadata": {},
   "source": [
    "Sorting the rows by calories, grouping them into bins of 10 calories"
   ]
  },
  {
   "cell_type": "code",
   "id": "ebd4e7f93e56006c",
   "metadata": {
    "ExecuteTime": {
     "end_time": "2025-08-27T14:46:19.942073Z",
     "start_time": "2025-08-27T14:46:19.932715Z"
    }
   },
   "source": [
    "did_min_val = did_exercise[\"Total Calories In\"].min()\n",
    "did_max_val = did_exercise[\"Total Calories In\"].max()\n",
    "no_min_val = no_exercise[\"Total Calories In\"].min()\n",
    "no_max_val = no_exercise[\"Total Calories In\"].max()\n",
    "min_val = min(did_min_val, no_min_val)\n",
    "max_val = max(did_max_val, no_max_val)\n",
    "\n",
    "bin_size = 10\n",
    "bins = np.arange(start=min_val, stop=max_val + 10, step=bin_size)\n",
    "\n",
    "# Optional: create labels like \"0-10\", \"11-20\", ...\n",
    "labels = [f\"{int(bins[i])}-{int(bins[i+1]-1)}\" for i in range(len(bins)-1)]\n",
    "\n",
    "# Create the binned column\n",
    "no_exercise.loc[:, \"Calories Group\"] = pd.cut(no_exercise[\"Total Calories In\"], bins=bins, labels=labels, include_lowest=True)\n",
    "did_exercise.loc[:, \"Calories Group\"] = pd.cut(did_exercise[\"Total Calories In\"], bins=bins, labels=labels, include_lowest=True)"
   ],
   "outputs": [],
   "execution_count": 182
  },
  {
   "cell_type": "code",
   "id": "82c33fc3b47085cb",
   "metadata": {
    "ExecuteTime": {
     "end_time": "2025-08-27T14:46:20.205776Z",
     "start_time": "2025-08-27T14:46:20.198699Z"
    }
   },
   "source": [
    "did_exercise = did_exercise[[\"Date\", \"Daily Weight Change\", \"Calories Group\", \"Exercise Calories Burned\", \"Did Exercise\"]].reset_index(drop=True)\n",
    "did_exercise.to_csv(\"./Data Sets/Did Exercise Data Set.csv\")"
   ],
   "outputs": [],
   "execution_count": 183
  },
  {
   "cell_type": "code",
   "id": "9e449567bfbfcbf1",
   "metadata": {
    "ExecuteTime": {
     "end_time": "2025-08-27T14:46:20.560225Z",
     "start_time": "2025-08-27T14:46:20.551312Z"
    }
   },
   "source": [
    "no_exercise = no_exercise[[\"Date\", \"Daily Weight Change\", \"Calories Group\", \"Did Exercise\"]].reset_index(drop=True)\n",
    "no_exercise.to_csv(\"./Data Sets/No Exercise Data Set.csv\")"
   ],
   "outputs": [],
   "execution_count": 184
  },
  {
   "cell_type": "code",
   "id": "91c72881",
   "metadata": {
    "ExecuteTime": {
     "end_time": "2025-08-27T14:46:20.878616Z",
     "start_time": "2025-08-27T14:46:20.861566Z"
    }
   },
   "source": [
    "no_ex_valuecounts = no_exercise[\"Calories Group\"].value_counts().to_frame()\n",
    "did_ex_valuecounts = did_exercise[\"Calories Group\"].value_counts().to_frame()\n",
    "valuecounts_df = pd.merge(no_ex_valuecounts, did_ex_valuecounts, on=\"Calories Group\", how=\"inner\", suffixes=[\"No\", \"Did\"])\n",
    "\n",
    "valuecounts_df[\"Maximum\"] = np.minimum(valuecounts_df[\"countNo\"], valuecounts_df[\"countDid\"])\n",
    "valuecounts_df = valuecounts_df[valuecounts_df[\"Maximum\"] > 0].reset_index(drop=True)\n",
    "valuecounts_df.to_csv(\"./Data Sets/calories_value_counts.csv\", index=False)\n",
    "valuecounts_df"
   ],
   "outputs": [
    {
     "data": {
      "text/plain": [
       "    countNo  countDid  Maximum\n",
       "0         3         8        3\n",
       "1         3         6        3\n",
       "2         3         6        3\n",
       "3         3        13        3\n",
       "4         2         1        1\n",
       "5         2         1        1\n",
       "6         2         2        2\n",
       "7         2         1        1\n",
       "8         2        11        2\n",
       "9         2         5        2\n",
       "10        2         2        2\n",
       "11        1         1        1\n",
       "12        1         4        1\n",
       "13        1         1        1\n",
       "14        1         1        1\n",
       "15        1         1        1\n",
       "16        1         2        1\n",
       "17        1         2        1\n",
       "18        1         2        1\n",
       "19        1         5        1\n",
       "20        1         1        1\n",
       "21        1         2        1\n",
       "22        1         2        1\n",
       "23        1         1        1\n",
       "24        1         1        1\n",
       "25        1         1        1\n",
       "26        1         1        1\n",
       "27        1         1        1\n",
       "28        1         1        1"
      ],
      "text/html": [
       "<div>\n",
       "<style scoped>\n",
       "    .dataframe tbody tr th:only-of-type {\n",
       "        vertical-align: middle;\n",
       "    }\n",
       "\n",
       "    .dataframe tbody tr th {\n",
       "        vertical-align: top;\n",
       "    }\n",
       "\n",
       "    .dataframe thead th {\n",
       "        text-align: right;\n",
       "    }\n",
       "</style>\n",
       "<table border=\"1\" class=\"dataframe\">\n",
       "  <thead>\n",
       "    <tr style=\"text-align: right;\">\n",
       "      <th></th>\n",
       "      <th>countNo</th>\n",
       "      <th>countDid</th>\n",
       "      <th>Maximum</th>\n",
       "    </tr>\n",
       "  </thead>\n",
       "  <tbody>\n",
       "    <tr>\n",
       "      <th>0</th>\n",
       "      <td>3</td>\n",
       "      <td>8</td>\n",
       "      <td>3</td>\n",
       "    </tr>\n",
       "    <tr>\n",
       "      <th>1</th>\n",
       "      <td>3</td>\n",
       "      <td>6</td>\n",
       "      <td>3</td>\n",
       "    </tr>\n",
       "    <tr>\n",
       "      <th>2</th>\n",
       "      <td>3</td>\n",
       "      <td>6</td>\n",
       "      <td>3</td>\n",
       "    </tr>\n",
       "    <tr>\n",
       "      <th>3</th>\n",
       "      <td>3</td>\n",
       "      <td>13</td>\n",
       "      <td>3</td>\n",
       "    </tr>\n",
       "    <tr>\n",
       "      <th>4</th>\n",
       "      <td>2</td>\n",
       "      <td>1</td>\n",
       "      <td>1</td>\n",
       "    </tr>\n",
       "    <tr>\n",
       "      <th>5</th>\n",
       "      <td>2</td>\n",
       "      <td>1</td>\n",
       "      <td>1</td>\n",
       "    </tr>\n",
       "    <tr>\n",
       "      <th>6</th>\n",
       "      <td>2</td>\n",
       "      <td>2</td>\n",
       "      <td>2</td>\n",
       "    </tr>\n",
       "    <tr>\n",
       "      <th>7</th>\n",
       "      <td>2</td>\n",
       "      <td>1</td>\n",
       "      <td>1</td>\n",
       "    </tr>\n",
       "    <tr>\n",
       "      <th>8</th>\n",
       "      <td>2</td>\n",
       "      <td>11</td>\n",
       "      <td>2</td>\n",
       "    </tr>\n",
       "    <tr>\n",
       "      <th>9</th>\n",
       "      <td>2</td>\n",
       "      <td>5</td>\n",
       "      <td>2</td>\n",
       "    </tr>\n",
       "    <tr>\n",
       "      <th>10</th>\n",
       "      <td>2</td>\n",
       "      <td>2</td>\n",
       "      <td>2</td>\n",
       "    </tr>\n",
       "    <tr>\n",
       "      <th>11</th>\n",
       "      <td>1</td>\n",
       "      <td>1</td>\n",
       "      <td>1</td>\n",
       "    </tr>\n",
       "    <tr>\n",
       "      <th>12</th>\n",
       "      <td>1</td>\n",
       "      <td>4</td>\n",
       "      <td>1</td>\n",
       "    </tr>\n",
       "    <tr>\n",
       "      <th>13</th>\n",
       "      <td>1</td>\n",
       "      <td>1</td>\n",
       "      <td>1</td>\n",
       "    </tr>\n",
       "    <tr>\n",
       "      <th>14</th>\n",
       "      <td>1</td>\n",
       "      <td>1</td>\n",
       "      <td>1</td>\n",
       "    </tr>\n",
       "    <tr>\n",
       "      <th>15</th>\n",
       "      <td>1</td>\n",
       "      <td>1</td>\n",
       "      <td>1</td>\n",
       "    </tr>\n",
       "    <tr>\n",
       "      <th>16</th>\n",
       "      <td>1</td>\n",
       "      <td>2</td>\n",
       "      <td>1</td>\n",
       "    </tr>\n",
       "    <tr>\n",
       "      <th>17</th>\n",
       "      <td>1</td>\n",
       "      <td>2</td>\n",
       "      <td>1</td>\n",
       "    </tr>\n",
       "    <tr>\n",
       "      <th>18</th>\n",
       "      <td>1</td>\n",
       "      <td>2</td>\n",
       "      <td>1</td>\n",
       "    </tr>\n",
       "    <tr>\n",
       "      <th>19</th>\n",
       "      <td>1</td>\n",
       "      <td>5</td>\n",
       "      <td>1</td>\n",
       "    </tr>\n",
       "    <tr>\n",
       "      <th>20</th>\n",
       "      <td>1</td>\n",
       "      <td>1</td>\n",
       "      <td>1</td>\n",
       "    </tr>\n",
       "    <tr>\n",
       "      <th>21</th>\n",
       "      <td>1</td>\n",
       "      <td>2</td>\n",
       "      <td>1</td>\n",
       "    </tr>\n",
       "    <tr>\n",
       "      <th>22</th>\n",
       "      <td>1</td>\n",
       "      <td>2</td>\n",
       "      <td>1</td>\n",
       "    </tr>\n",
       "    <tr>\n",
       "      <th>23</th>\n",
       "      <td>1</td>\n",
       "      <td>1</td>\n",
       "      <td>1</td>\n",
       "    </tr>\n",
       "    <tr>\n",
       "      <th>24</th>\n",
       "      <td>1</td>\n",
       "      <td>1</td>\n",
       "      <td>1</td>\n",
       "    </tr>\n",
       "    <tr>\n",
       "      <th>25</th>\n",
       "      <td>1</td>\n",
       "      <td>1</td>\n",
       "      <td>1</td>\n",
       "    </tr>\n",
       "    <tr>\n",
       "      <th>26</th>\n",
       "      <td>1</td>\n",
       "      <td>1</td>\n",
       "      <td>1</td>\n",
       "    </tr>\n",
       "    <tr>\n",
       "      <th>27</th>\n",
       "      <td>1</td>\n",
       "      <td>1</td>\n",
       "      <td>1</td>\n",
       "    </tr>\n",
       "    <tr>\n",
       "      <th>28</th>\n",
       "      <td>1</td>\n",
       "      <td>1</td>\n",
       "      <td>1</td>\n",
       "    </tr>\n",
       "  </tbody>\n",
       "</table>\n",
       "</div>"
      ]
     },
     "execution_count": 185,
     "metadata": {},
     "output_type": "execute_result"
    }
   ],
   "execution_count": 185
  },
  {
   "cell_type": "code",
   "id": "63657e5cf26b9868",
   "metadata": {
    "ExecuteTime": {
     "end_time": "2025-08-27T14:46:21.158675Z",
     "start_time": "2025-08-27T14:46:21.145091Z"
    }
   },
   "source": [
    "all_df = pd.merge(did_exercise, no_exercise, on=[\"Date\", \"Calories Group\", \"Did Exercise\"], how=\"outer\")\n",
    "all_df = all_df.reset_index(drop=True)\n",
    "all_df.to_csv(\"./Data Sets/exercise_study_rows.csv\", index=False)"
   ],
   "outputs": [],
   "execution_count": 186
  },
  {
   "cell_type": "code",
   "id": "81278043",
   "metadata": {
    "ExecuteTime": {
     "end_time": "2025-08-27T14:46:21.473931Z",
     "start_time": "2025-08-27T14:46:21.470759Z"
    }
   },
   "source": [],
   "outputs": [],
   "execution_count": null
  }
 ],
 "metadata": {
  "kernelspec": {
   "display_name": ".venv",
   "language": "python",
   "name": "python3"
  },
  "language_info": {
   "codemirror_mode": {
    "name": "ipython",
    "version": 3
   },
   "file_extension": ".py",
   "mimetype": "text/x-python",
   "name": "python",
   "nbconvert_exporter": "python",
   "pygments_lexer": "ipython3",
   "version": "3.12.0"
  }
 },
 "nbformat": 4,
 "nbformat_minor": 5
}
