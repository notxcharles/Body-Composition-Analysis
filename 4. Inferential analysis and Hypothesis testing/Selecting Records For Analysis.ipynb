{
 "cells": [
  {
   "cell_type": "code",
   "execution_count": 94,
   "id": "initial_id",
   "metadata": {
    "ExecuteTime": {
     "end_time": "2025-08-27T14:58:50.758184Z",
     "start_time": "2025-08-27T14:58:50.747905Z"
    },
    "collapsed": true
   },
   "outputs": [],
   "source": [
    "import pandas as pd\n",
    "import numpy as np"
   ]
  },
  {
   "cell_type": "code",
   "execution_count": 95,
   "id": "66c8bb19ec029493",
   "metadata": {
    "ExecuteTime": {
     "end_time": "2025-08-27T14:58:50.790494Z",
     "start_time": "2025-08-27T14:58:50.781446Z"
    }
   },
   "outputs": [],
   "source": [
    "potential_rows_df = pd.read_csv(\"./Datasets/exercise_study_rows.csv\")\n",
    "num_of_records_to_select_df = pd.read_csv(\"./Datasets/calories_value_counts.csv\")"
   ]
  },
  {
   "cell_type": "code",
   "execution_count": 96,
   "id": "b56f803a0b6e2442",
   "metadata": {
    "ExecuteTime": {
     "end_time": "2025-08-27T14:58:50.911004Z",
     "start_time": "2025-08-27T14:58:50.890370Z"
    }
   },
   "outputs": [
    {
     "data": {
      "text/html": [
       "<div>\n",
       "<style scoped>\n",
       "    .dataframe tbody tr th:only-of-type {\n",
       "        vertical-align: middle;\n",
       "    }\n",
       "\n",
       "    .dataframe tbody tr th {\n",
       "        vertical-align: top;\n",
       "    }\n",
       "\n",
       "    .dataframe thead th {\n",
       "        text-align: right;\n",
       "    }\n",
       "</style>\n",
       "<table border=\"1\" class=\"dataframe\">\n",
       "  <thead>\n",
       "    <tr style=\"text-align: right;\">\n",
       "      <th></th>\n",
       "      <th>Date</th>\n",
       "      <th>Daily Weight Change</th>\n",
       "      <th>Calories Group</th>\n",
       "      <th>Exercise Calories Burned</th>\n",
       "      <th>Did Exercise</th>\n",
       "    </tr>\n",
       "  </thead>\n",
       "  <tbody>\n",
       "    <tr>\n",
       "      <th>0</th>\n",
       "      <td>2023-05-10</td>\n",
       "      <td>0.5</td>\n",
       "      <td>2321-2330</td>\n",
       "      <td>NaN</td>\n",
       "      <td>0.0</td>\n",
       "    </tr>\n",
       "    <tr>\n",
       "      <th>1</th>\n",
       "      <td>2023-05-11</td>\n",
       "      <td>-0.2</td>\n",
       "      <td>2561-2570</td>\n",
       "      <td>151.0</td>\n",
       "      <td>1.0</td>\n",
       "    </tr>\n",
       "    <tr>\n",
       "      <th>2</th>\n",
       "      <td>2023-05-13</td>\n",
       "      <td>0.3</td>\n",
       "      <td>1781-1790</td>\n",
       "      <td>NaN</td>\n",
       "      <td>0.0</td>\n",
       "    </tr>\n",
       "    <tr>\n",
       "      <th>3</th>\n",
       "      <td>2023-05-14</td>\n",
       "      <td>-0.9</td>\n",
       "      <td>2351-2360</td>\n",
       "      <td>NaN</td>\n",
       "      <td>0.0</td>\n",
       "    </tr>\n",
       "    <tr>\n",
       "      <th>4</th>\n",
       "      <td>2023-05-15</td>\n",
       "      <td>0.8</td>\n",
       "      <td>2821-2830</td>\n",
       "      <td>289.0</td>\n",
       "      <td>1.0</td>\n",
       "    </tr>\n",
       "  </tbody>\n",
       "</table>\n",
       "</div>"
      ],
      "text/plain": [
       "         Date  Daily Weight Change Calories Group  Exercise Calories Burned  \\\n",
       "0  2023-05-10                  0.5      2321-2330                       NaN   \n",
       "1  2023-05-11                 -0.2      2561-2570                     151.0   \n",
       "2  2023-05-13                  0.3      1781-1790                       NaN   \n",
       "3  2023-05-14                 -0.9      2351-2360                       NaN   \n",
       "4  2023-05-15                  0.8      2821-2830                     289.0   \n",
       "\n",
       "   Did Exercise  \n",
       "0           0.0  \n",
       "1           1.0  \n",
       "2           0.0  \n",
       "3           0.0  \n",
       "4           1.0  "
      ]
     },
     "execution_count": 96,
     "metadata": {},
     "output_type": "execute_result"
    }
   ],
   "source": [
    "potential_rows_df.head()"
   ]
  },
  {
   "cell_type": "code",
   "execution_count": 97,
   "id": "331bb4cf8ebe7de8",
   "metadata": {
    "ExecuteTime": {
     "end_time": "2025-08-27T14:58:51.157138Z",
     "start_time": "2025-08-27T14:58:51.147816Z"
    }
   },
   "outputs": [
    {
     "data": {
      "text/html": [
       "<div>\n",
       "<style scoped>\n",
       "    .dataframe tbody tr th:only-of-type {\n",
       "        vertical-align: middle;\n",
       "    }\n",
       "\n",
       "    .dataframe tbody tr th {\n",
       "        vertical-align: top;\n",
       "    }\n",
       "\n",
       "    .dataframe thead th {\n",
       "        text-align: right;\n",
       "    }\n",
       "</style>\n",
       "<table border=\"1\" class=\"dataframe\">\n",
       "  <thead>\n",
       "    <tr style=\"text-align: right;\">\n",
       "      <th></th>\n",
       "      <th>Calories Group</th>\n",
       "      <th>countNo</th>\n",
       "      <th>countDid</th>\n",
       "      <th>Maximum</th>\n",
       "    </tr>\n",
       "  </thead>\n",
       "  <tbody>\n",
       "    <tr>\n",
       "      <th>0</th>\n",
       "      <td>2511-2520</td>\n",
       "      <td>3</td>\n",
       "      <td>8</td>\n",
       "      <td>3</td>\n",
       "    </tr>\n",
       "    <tr>\n",
       "      <th>1</th>\n",
       "      <td>2751-2760</td>\n",
       "      <td>3</td>\n",
       "      <td>6</td>\n",
       "      <td>3</td>\n",
       "    </tr>\n",
       "    <tr>\n",
       "      <th>2</th>\n",
       "      <td>2731-2740</td>\n",
       "      <td>3</td>\n",
       "      <td>6</td>\n",
       "      <td>3</td>\n",
       "    </tr>\n",
       "    <tr>\n",
       "      <th>3</th>\n",
       "      <td>2741-2750</td>\n",
       "      <td>3</td>\n",
       "      <td>13</td>\n",
       "      <td>3</td>\n",
       "    </tr>\n",
       "    <tr>\n",
       "      <th>4</th>\n",
       "      <td>2121-2130</td>\n",
       "      <td>2</td>\n",
       "      <td>1</td>\n",
       "      <td>1</td>\n",
       "    </tr>\n",
       "  </tbody>\n",
       "</table>\n",
       "</div>"
      ],
      "text/plain": [
       "  Calories Group  countNo  countDid  Maximum\n",
       "0      2511-2520        3         8        3\n",
       "1      2751-2760        3         6        3\n",
       "2      2731-2740        3         6        3\n",
       "3      2741-2750        3        13        3\n",
       "4      2121-2130        2         1        1"
      ]
     },
     "execution_count": 97,
     "metadata": {},
     "output_type": "execute_result"
    }
   ],
   "source": [
    "num_of_records_to_select_df.head()"
   ]
  },
  {
   "cell_type": "markdown",
   "id": "49d446a0dbfa2ca0",
   "metadata": {},
   "source": [
    "For each row in num_of_records_to_select_df, we need to select row[\"Maximum\"] amount of records from row[\"Calories Group\"] * 2. We need an equal number of records for each group: did exercise and no exercise"
   ]
  },
  {
   "cell_type": "code",
   "execution_count": null,
   "id": "da4d3017a60d9a4b",
   "metadata": {
    "ExecuteTime": {
     "end_time": "2025-08-27T15:03:06.119894Z",
     "start_time": "2025-08-27T15:03:06.024997Z"
    }
   },
   "outputs": [
    {
     "name": "stderr",
     "output_type": "stream",
     "text": [
      "C:\\Users\\harri\\AppData\\Local\\Temp\\ipykernel_5772\\299564795.py:19: FutureWarning: The behavior of DataFrame concatenation with empty or all-NA entries is deprecated. In a future version, this will no longer exclude empty or all-NA columns when determining the result dtypes. To retain the old behavior, exclude the relevant entries before the concat operation.\n",
      "  didex_records = pd.concat([didex_records, selected_records_didex], ignore_index=True)\n",
      "C:\\Users\\harri\\AppData\\Local\\Temp\\ipykernel_5772\\299564795.py:24: FutureWarning: The behavior of DataFrame concatenation with empty or all-NA entries is deprecated. In a future version, this will no longer exclude empty or all-NA columns when determining the result dtypes. To retain the old behavior, exclude the relevant entries before the concat operation.\n",
      "  noex_records = pd.concat([noex_records, selected_records_noex], ignore_index=True)\n"
     ]
    }
   ],
   "source": [
    "rows_df = potential_rows_df.copy()\n",
    "noex_records = pd.DataFrame(columns=[\"Date\", \"Daily Weight Change\", \"Calories Group\", \"Exercise Calories Burned\", \"Did Exercise\"])\n",
    "didex_records = pd.DataFrame(columns=[\"Date\", \"Daily Weight Change\", \"Calories Group\", \"Exercise Calories Burned\", \"Did Exercise\"])\n",
    "\n",
    "for i, row in num_of_records_to_select_df.iterrows():\n",
    "\tcalories_group = row[\"Calories Group\"]\n",
    "\trecords_to_select = row[\"Maximum\"]\n",
    "\n",
    "\tvalid_rows = rows_df[rows_df[\"Calories Group\"] == calories_group].reset_index(drop=True)\n",
    "\tvalid_rows_didex = valid_rows[valid_rows[\"Did Exercise\"] == 1].reset_index(drop=True)\n",
    "\tvalid_rows_noex = valid_rows[valid_rows[\"Did Exercise\"] == 0].reset_index(drop=True)\n",
    "\n",
    "\t# Select /records_to_select/ amount of records\n",
    "\trange_start = 0 \n",
    "\trange_end = len(valid_rows_didex)\n",
    " \n",
    "\trandom_indicies = np.random.choice(np.arange(range_start, range_end), size=records_to_select, replace=False)\n",
    "\tselected_records_didex = valid_rows_didex.iloc[random_indicies].reset_index(drop=True)\n",
    "\tdidex_records = pd.concat([didex_records, selected_records_didex], ignore_index=True)\n",
    "\n",
    "\trange_end = len(valid_rows_noex)\n",
    "\trandom_indicies = np.random.choice(np.arange(range_start, range_end), size=records_to_select, replace=False)\n",
    "\tselected_records_noex = valid_rows_noex.iloc[random_indicies].reset_index(drop=True)\n",
    "\tnoex_records = pd.concat([noex_records, selected_records_noex], ignore_index=True)\n",
    " \n",
    "didex_records.to_csv(\"./Completed Datasets/Did Exercise Group.csv\", index=False)\n",
    "noex_records.to_csv(\"./Completed Datasets/No Exercise Group.csv\", index=False)"
   ]
  }
 ],
 "metadata": {
  "kernelspec": {
   "display_name": ".venv",
   "language": "python",
   "name": "python3"
  },
  "language_info": {
   "codemirror_mode": {
    "name": "ipython",
    "version": 3
   },
   "file_extension": ".py",
   "mimetype": "text/x-python",
   "name": "python",
   "nbconvert_exporter": "python",
   "pygments_lexer": "ipython3",
   "version": "3.12.0"
  }
 },
 "nbformat": 4,
 "nbformat_minor": 5
}
