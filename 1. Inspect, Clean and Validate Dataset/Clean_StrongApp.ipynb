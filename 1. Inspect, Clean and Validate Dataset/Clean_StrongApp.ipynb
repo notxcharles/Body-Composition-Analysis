{
 "cells": [
  {
   "cell_type": "code",
   "id": "initial_id",
   "metadata": {
    "collapsed": true,
    "ExecuteTime": {
     "end_time": "2025-08-24T10:59:10.126250Z",
     "start_time": "2025-08-24T10:59:10.118999Z"
    }
   },
   "source": "import pandas as pd",
   "outputs": [],
   "execution_count": 87
  },
  {
   "metadata": {
    "ExecuteTime": {
     "end_time": "2025-08-24T10:59:10.180679Z",
     "start_time": "2025-08-24T10:59:10.153799Z"
    }
   },
   "cell_type": "code",
   "source": "strong_df = pd.read_csv(\"../DataInput/Strong App/strong.csv\")",
   "id": "1f34eb31bf639efe",
   "outputs": [],
   "execution_count": 88
  },
  {
   "metadata": {},
   "cell_type": "markdown",
   "source": "Remove empty rows",
   "id": "a5e482046f02150"
  },
  {
   "metadata": {
    "ExecuteTime": {
     "end_time": "2025-08-24T10:59:10.238073Z",
     "start_time": "2025-08-24T10:59:10.225914Z"
    }
   },
   "cell_type": "code",
   "source": "strong_df = strong_df[(strong_df[\"Weight\"] > 0) & (strong_df[\"Reps\"] > 0)]",
   "id": "1d621611d7e023c5",
   "outputs": [],
   "execution_count": 89
  },
  {
   "metadata": {
    "ExecuteTime": {
     "end_time": "2025-08-24T10:59:10.411793Z",
     "start_time": "2025-08-24T10:59:10.383870Z"
    }
   },
   "cell_type": "code",
   "source": "strong_df",
   "id": "22b0d45ee07f7396",
   "outputs": [
    {
     "data": {
      "text/plain": [
       "                     Date   Workout Name Duration              Exercise Name  \\\n",
       "0     2024-09-19 10:07:38  A (Leg Day 1)      36m     Hip Abductor (Machine)   \n",
       "1     2024-09-19 10:07:38  A (Leg Day 1)      36m     Hip Abductor (Machine)   \n",
       "3     2024-09-19 10:07:38  A (Leg Day 1)      36m     Hip Abductor (Machine)   \n",
       "4     2024-09-19 10:07:38  A (Leg Day 1)      36m  Seated Leg Curl (Machine)   \n",
       "6     2024-09-19 10:07:38  A (Leg Day 1)      36m  Seated Leg Curl (Machine)   \n",
       "...                   ...            ...      ...                        ...   \n",
       "2381  2025-08-21 15:06:31         Legs B      52m    Leg Extension (Machine)   \n",
       "2384  2025-08-21 15:06:31         Legs B      52m    Leg Extension (Machine)   \n",
       "2385  2025-08-21 15:06:31         Legs B      52m    Leg Extension (Machine)   \n",
       "2388  2025-08-21 15:06:31         Legs B      52m    Leg Extension (Machine)   \n",
       "2391  2025-08-21 15:06:31         Legs B      52m    Leg Extension (Machine)   \n",
       "\n",
       "     Set Order  Weight  Reps  Distance  Seconds  \\\n",
       "0            3   55.00  10.0         0      0.0   \n",
       "1            1   65.00  10.0         0      0.0   \n",
       "3            2   65.00  10.0         0      0.0   \n",
       "4            3   77.16   8.0         0      0.0   \n",
       "6            1   77.16  11.0         0      0.0   \n",
       "...        ...     ...   ...       ...      ...   \n",
       "2381         2   50.00  15.0         0      0.0   \n",
       "2384         5   40.00  18.0         0      0.0   \n",
       "2385         4   50.00   9.0         0      0.0   \n",
       "2388         3   50.00  13.0         0      0.0   \n",
       "2391         1   40.00  20.0         0      0.0   \n",
       "\n",
       "                                                  Notes Workout Notes  RPE  \n",
       "0                                                   NaN           NaN  NaN  \n",
       "1     10x10s isometric holds, 1m rest in between per...           NaN  NaN  \n",
       "3                                                   NaN           NaN  NaN  \n",
       "4                                                   NaN           NaN  NaN  \n",
       "6                                         2m 30 per set           NaN  NaN  \n",
       "...                                                 ...           ...  ...  \n",
       "2381                                                NaN           NaN  NaN  \n",
       "2384                                                NaN           NaN  NaN  \n",
       "2385                                                NaN           NaN  NaN  \n",
       "2388                                                NaN           NaN  NaN  \n",
       "2391                                                Lbs           NaN  NaN  \n",
       "\n",
       "[1490 rows x 12 columns]"
      ],
      "text/html": [
       "<div>\n",
       "<style scoped>\n",
       "    .dataframe tbody tr th:only-of-type {\n",
       "        vertical-align: middle;\n",
       "    }\n",
       "\n",
       "    .dataframe tbody tr th {\n",
       "        vertical-align: top;\n",
       "    }\n",
       "\n",
       "    .dataframe thead th {\n",
       "        text-align: right;\n",
       "    }\n",
       "</style>\n",
       "<table border=\"1\" class=\"dataframe\">\n",
       "  <thead>\n",
       "    <tr style=\"text-align: right;\">\n",
       "      <th></th>\n",
       "      <th>Date</th>\n",
       "      <th>Workout Name</th>\n",
       "      <th>Duration</th>\n",
       "      <th>Exercise Name</th>\n",
       "      <th>Set Order</th>\n",
       "      <th>Weight</th>\n",
       "      <th>Reps</th>\n",
       "      <th>Distance</th>\n",
       "      <th>Seconds</th>\n",
       "      <th>Notes</th>\n",
       "      <th>Workout Notes</th>\n",
       "      <th>RPE</th>\n",
       "    </tr>\n",
       "  </thead>\n",
       "  <tbody>\n",
       "    <tr>\n",
       "      <th>0</th>\n",
       "      <td>2024-09-19 10:07:38</td>\n",
       "      <td>A (Leg Day 1)</td>\n",
       "      <td>36m</td>\n",
       "      <td>Hip Abductor (Machine)</td>\n",
       "      <td>3</td>\n",
       "      <td>55.00</td>\n",
       "      <td>10.0</td>\n",
       "      <td>0</td>\n",
       "      <td>0.0</td>\n",
       "      <td>NaN</td>\n",
       "      <td>NaN</td>\n",
       "      <td>NaN</td>\n",
       "    </tr>\n",
       "    <tr>\n",
       "      <th>1</th>\n",
       "      <td>2024-09-19 10:07:38</td>\n",
       "      <td>A (Leg Day 1)</td>\n",
       "      <td>36m</td>\n",
       "      <td>Hip Abductor (Machine)</td>\n",
       "      <td>1</td>\n",
       "      <td>65.00</td>\n",
       "      <td>10.0</td>\n",
       "      <td>0</td>\n",
       "      <td>0.0</td>\n",
       "      <td>10x10s isometric holds, 1m rest in between per...</td>\n",
       "      <td>NaN</td>\n",
       "      <td>NaN</td>\n",
       "    </tr>\n",
       "    <tr>\n",
       "      <th>3</th>\n",
       "      <td>2024-09-19 10:07:38</td>\n",
       "      <td>A (Leg Day 1)</td>\n",
       "      <td>36m</td>\n",
       "      <td>Hip Abductor (Machine)</td>\n",
       "      <td>2</td>\n",
       "      <td>65.00</td>\n",
       "      <td>10.0</td>\n",
       "      <td>0</td>\n",
       "      <td>0.0</td>\n",
       "      <td>NaN</td>\n",
       "      <td>NaN</td>\n",
       "      <td>NaN</td>\n",
       "    </tr>\n",
       "    <tr>\n",
       "      <th>4</th>\n",
       "      <td>2024-09-19 10:07:38</td>\n",
       "      <td>A (Leg Day 1)</td>\n",
       "      <td>36m</td>\n",
       "      <td>Seated Leg Curl (Machine)</td>\n",
       "      <td>3</td>\n",
       "      <td>77.16</td>\n",
       "      <td>8.0</td>\n",
       "      <td>0</td>\n",
       "      <td>0.0</td>\n",
       "      <td>NaN</td>\n",
       "      <td>NaN</td>\n",
       "      <td>NaN</td>\n",
       "    </tr>\n",
       "    <tr>\n",
       "      <th>6</th>\n",
       "      <td>2024-09-19 10:07:38</td>\n",
       "      <td>A (Leg Day 1)</td>\n",
       "      <td>36m</td>\n",
       "      <td>Seated Leg Curl (Machine)</td>\n",
       "      <td>1</td>\n",
       "      <td>77.16</td>\n",
       "      <td>11.0</td>\n",
       "      <td>0</td>\n",
       "      <td>0.0</td>\n",
       "      <td>2m 30 per set</td>\n",
       "      <td>NaN</td>\n",
       "      <td>NaN</td>\n",
       "    </tr>\n",
       "    <tr>\n",
       "      <th>...</th>\n",
       "      <td>...</td>\n",
       "      <td>...</td>\n",
       "      <td>...</td>\n",
       "      <td>...</td>\n",
       "      <td>...</td>\n",
       "      <td>...</td>\n",
       "      <td>...</td>\n",
       "      <td>...</td>\n",
       "      <td>...</td>\n",
       "      <td>...</td>\n",
       "      <td>...</td>\n",
       "      <td>...</td>\n",
       "    </tr>\n",
       "    <tr>\n",
       "      <th>2381</th>\n",
       "      <td>2025-08-21 15:06:31</td>\n",
       "      <td>Legs B</td>\n",
       "      <td>52m</td>\n",
       "      <td>Leg Extension (Machine)</td>\n",
       "      <td>2</td>\n",
       "      <td>50.00</td>\n",
       "      <td>15.0</td>\n",
       "      <td>0</td>\n",
       "      <td>0.0</td>\n",
       "      <td>NaN</td>\n",
       "      <td>NaN</td>\n",
       "      <td>NaN</td>\n",
       "    </tr>\n",
       "    <tr>\n",
       "      <th>2384</th>\n",
       "      <td>2025-08-21 15:06:31</td>\n",
       "      <td>Legs B</td>\n",
       "      <td>52m</td>\n",
       "      <td>Leg Extension (Machine)</td>\n",
       "      <td>5</td>\n",
       "      <td>40.00</td>\n",
       "      <td>18.0</td>\n",
       "      <td>0</td>\n",
       "      <td>0.0</td>\n",
       "      <td>NaN</td>\n",
       "      <td>NaN</td>\n",
       "      <td>NaN</td>\n",
       "    </tr>\n",
       "    <tr>\n",
       "      <th>2385</th>\n",
       "      <td>2025-08-21 15:06:31</td>\n",
       "      <td>Legs B</td>\n",
       "      <td>52m</td>\n",
       "      <td>Leg Extension (Machine)</td>\n",
       "      <td>4</td>\n",
       "      <td>50.00</td>\n",
       "      <td>9.0</td>\n",
       "      <td>0</td>\n",
       "      <td>0.0</td>\n",
       "      <td>NaN</td>\n",
       "      <td>NaN</td>\n",
       "      <td>NaN</td>\n",
       "    </tr>\n",
       "    <tr>\n",
       "      <th>2388</th>\n",
       "      <td>2025-08-21 15:06:31</td>\n",
       "      <td>Legs B</td>\n",
       "      <td>52m</td>\n",
       "      <td>Leg Extension (Machine)</td>\n",
       "      <td>3</td>\n",
       "      <td>50.00</td>\n",
       "      <td>13.0</td>\n",
       "      <td>0</td>\n",
       "      <td>0.0</td>\n",
       "      <td>NaN</td>\n",
       "      <td>NaN</td>\n",
       "      <td>NaN</td>\n",
       "    </tr>\n",
       "    <tr>\n",
       "      <th>2391</th>\n",
       "      <td>2025-08-21 15:06:31</td>\n",
       "      <td>Legs B</td>\n",
       "      <td>52m</td>\n",
       "      <td>Leg Extension (Machine)</td>\n",
       "      <td>1</td>\n",
       "      <td>40.00</td>\n",
       "      <td>20.0</td>\n",
       "      <td>0</td>\n",
       "      <td>0.0</td>\n",
       "      <td>Lbs</td>\n",
       "      <td>NaN</td>\n",
       "      <td>NaN</td>\n",
       "    </tr>\n",
       "  </tbody>\n",
       "</table>\n",
       "<p>1490 rows × 12 columns</p>\n",
       "</div>"
      ]
     },
     "execution_count": 90,
     "metadata": {},
     "output_type": "execute_result"
    }
   ],
   "execution_count": 90
  },
  {
   "metadata": {},
   "cell_type": "markdown",
   "source": "We'll assume the weights are measured in kilograms by default, but if the Notes column contains \"Lbs\", convert weight to lbs",
   "id": "3783598687daf67a"
  },
  {
   "metadata": {
    "ExecuteTime": {
     "end_time": "2025-08-24T10:59:10.695824Z",
     "start_time": "2025-08-24T10:59:10.536725Z"
    }
   },
   "cell_type": "code",
   "source": [
    "LBS_TO_KG = 0.45359237\n",
    "for i, row in strong_df.iterrows():\n",
    "\tif \"lbs\" in str(row[\"Notes\"]).lower():\n",
    "\t\tstrong_df.loc[\n",
    "            (strong_df[\"Date\"] == row[\"Date\"]) &\n",
    "            (strong_df[\"Exercise Name\"] == row[\"Exercise Name\"]),\n",
    "            \"Notes\"\n",
    "        ] = \"Lbs\"\n",
    "\n",
    "for i, row in strong_df.iterrows():\n",
    "\tif \"lbs\" in str(row[\"Notes\"]).lower():\n",
    "\t\tstrong_df.loc[i, \"Weight\"] = row[\"Weight\"] * LBS_TO_KG"
   ],
   "id": "19c6a4c8d73b8477",
   "outputs": [],
   "execution_count": 91
  },
  {
   "metadata": {},
   "cell_type": "markdown",
   "source": [
    "i- The columns we are interested in:\n",
    "    - \"Date\", \"Exercise Name\", \"Weight\", \"Reps\"\n",
    "- The \"Weight\" column is derived from the \"KG\" column.\n",
    "- \"Time\", \"kcal nett\", \"kcal out\", \"target cals\" are no longer used and updated. However it may be useful to manually update \"target cals\" column given I know what my target calories would have been\n",
    "- \"TC Variance\" is derived\n",
    "- All other columns are derived"
   ],
   "id": "43f583068b76375e"
  },
  {
   "metadata": {
    "ExecuteTime": {
     "end_time": "2025-08-24T10:59:10.894188Z",
     "start_time": "2025-08-24T10:59:10.884528Z"
    }
   },
   "cell_type": "code",
   "source": "strong_df = strong_df[[\"Date\", \"Exercise Name\", \"Weight\", \"Reps\"]].reset_index(drop=True)",
   "id": "4d698697c236d046",
   "outputs": [],
   "execution_count": 92
  },
  {
   "metadata": {
    "ExecuteTime": {
     "end_time": "2025-08-24T10:59:11.110599Z",
     "start_time": "2025-08-24T10:59:11.099386Z"
    }
   },
   "cell_type": "code",
   "source": "strong_df.columns",
   "id": "fd67c8791fd0761a",
   "outputs": [
    {
     "data": {
      "text/plain": [
       "Index(['Date', 'Exercise Name', 'Weight', 'Reps'], dtype='object')"
      ]
     },
     "execution_count": 93,
     "metadata": {},
     "output_type": "execute_result"
    }
   ],
   "execution_count": 93
  },
  {
   "metadata": {},
   "cell_type": "markdown",
   "source": "Date column should only be dates, not datetimes",
   "id": "386a89a1428698e5"
  },
  {
   "metadata": {
    "ExecuteTime": {
     "end_time": "2025-08-24T10:59:11.149071Z",
     "start_time": "2025-08-24T10:59:11.134993Z"
    }
   },
   "cell_type": "code",
   "source": [
    "strong_df[\"Date\"] = pd.to_datetime(strong_df[\"Date\"], errors=\"coerce\")\n",
    "strong_df[\"Date\"] = strong_df[\"Date\"].dt.date"
   ],
   "id": "208e6886b16ee616",
   "outputs": [],
   "execution_count": 94
  },
  {
   "metadata": {
    "ExecuteTime": {
     "end_time": "2025-08-24T10:59:11.194904Z",
     "start_time": "2025-08-24T10:59:11.186874Z"
    }
   },
   "cell_type": "code",
   "source": [
    "strong_df.reset_index(inplace=True, drop=True)\n",
    "strong_df = strong_df.set_index(\"Date\")"
   ],
   "id": "225a0f4eb03cca68",
   "outputs": [],
   "execution_count": 95
  },
  {
   "metadata": {},
   "cell_type": "markdown",
   "source": "This dataset should be cleaned and free of NaN/null values",
   "id": "bf86bfb66912802b"
  },
  {
   "metadata": {
    "ExecuteTime": {
     "end_time": "2025-08-24T10:59:11.270923Z",
     "start_time": "2025-08-24T10:59:11.253279Z"
    }
   },
   "cell_type": "code",
   "source": "strong_df.to_csv(\"./CleanedData/Cleaned_StrongApp.csv\")",
   "id": "95ec5fd6188b8bce",
   "outputs": [],
   "execution_count": 96
  },
  {
   "metadata": {
    "ExecuteTime": {
     "end_time": "2025-08-24T10:59:11.309570Z",
     "start_time": "2025-08-24T10:59:11.305712Z"
    }
   },
   "cell_type": "code",
   "source": "",
   "id": "751b9c9cd4a77e2a",
   "outputs": [],
   "execution_count": null
  }
 ],
 "metadata": {
  "kernelspec": {
   "display_name": "Python 3",
   "language": "python",
   "name": "python3"
  },
  "language_info": {
   "codemirror_mode": {
    "name": "ipython",
    "version": 2
   },
   "file_extension": ".py",
   "mimetype": "text/x-python",
   "name": "python",
   "nbconvert_exporter": "python",
   "pygments_lexer": "ipython2",
   "version": "2.7.6"
  }
 },
 "nbformat": 4,
 "nbformat_minor": 5
}
