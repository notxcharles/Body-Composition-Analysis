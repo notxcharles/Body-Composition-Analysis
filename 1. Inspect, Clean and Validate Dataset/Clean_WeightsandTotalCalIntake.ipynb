{
 "cells": [
  {
   "metadata": {},
   "cell_type": "markdown",
   "source": "",
   "id": "4539b55a815ed506"
  },
  {
   "metadata": {
    "ExecuteTime": {
     "end_time": "2025-08-18T10:53:34.754706Z",
     "start_time": "2025-08-18T10:53:34.749996Z"
    }
   },
   "cell_type": "code",
   "source": "import pandas as pd",
   "id": "8bad5ae5b82f84ee",
   "outputs": [],
   "execution_count": 43
  },
  {
   "metadata": {
    "ExecuteTime": {
     "end_time": "2025-08-18T10:53:34.788416Z",
     "start_time": "2025-08-18T10:53:34.777393Z"
    }
   },
   "cell_type": "code",
   "source": "weights_df = pd.read_csv(\"../DataInput/Weights and Total Cal Intake/Project Charlie 2024 v 10 - 08 26.csv\")\n",
   "id": "dc8549c537ae57fa",
   "outputs": [],
   "execution_count": 44
  },
  {
   "metadata": {},
   "cell_type": "markdown",
   "source": [
    "- Set the column headers to the 6th row of the data set (the excel sheet that was imported contained blank rows in the first 5)\n",
    "- Drop the first 5 (blank) rows\n",
    "- Set the index to the date column"
   ],
   "id": "554f5335ed5a55ec"
  },
  {
   "metadata": {
    "ExecuteTime": {
     "end_time": "2025-08-18T10:53:34.812227Z",
     "start_time": "2025-08-18T10:53:34.799072Z"
    }
   },
   "cell_type": "code",
   "source": [
    "weights_df.columns = weights_df.iloc[5]\n",
    "weights_df = weights_df[6:].reset_index(drop=True)\n",
    "weights_df = weights_df.set_index(\"DATE\")\n",
    "weights_df.head()"
   ],
   "id": "3c19aad36e48f45b",
   "outputs": [
    {
     "data": {
      "text/plain": [
       "5              KG       Weight   BMI Fat  Muscle   RMI Visceral Fat Time  \\\n",
       "DATE                                                                       \n",
       "17/12/2020  49.40  108.9083575  16.7  6.5   45.6  1359            1  NaN   \n",
       "18/12/2020  49.40  108.9083575  16.7  6.5   45.6  1359            1  NaN   \n",
       "19/12/2020  49.40  108.9083575  16.7  6.5   45.6  1359            1  NaN   \n",
       "20/12/2020  51.30  113.0971405  17.2  5.5   47.3  1383            1  NaN   \n",
       "21/12/2020  51.40  113.3176028  17.2  5.2   47.7  1388            1  NaN   \n",
       "\n",
       "5          kcal nett kcal out  ... thigh3 back sub scapular Column4  \\\n",
       "DATE                           ...                                    \n",
       "17/12/2020      1500        0  ...    NaN               NaN     NaN   \n",
       "18/12/2020      1500        0  ...    NaN               NaN     NaN   \n",
       "19/12/2020      1500        0  ...    NaN               NaN     NaN   \n",
       "20/12/2020      1500        0  ...    NaN               NaN     NaN   \n",
       "21/12/2020       600      NaN  ...    NaN               NaN     NaN   \n",
       "\n",
       "5          lean weight (kg) fat mass (kg)5 %fat electric  gas Column1 Column2  \n",
       "DATE                                                                           \n",
       "17/12/2020              NaN            NaN  NaN      NaN  NaN     NaN     NaN  \n",
       "18/12/2020              NaN            NaN  NaN      NaN  NaN     NaN     NaN  \n",
       "19/12/2020              NaN            NaN  NaN      NaN  NaN     NaN     NaN  \n",
       "20/12/2020              NaN            NaN  NaN      NaN  NaN     NaN     NaN  \n",
       "21/12/2020              NaN            NaN  NaN      NaN  NaN     NaN     NaN  \n",
       "\n",
       "[5 rows x 50 columns]"
      ],
      "text/html": [
       "<div>\n",
       "<style scoped>\n",
       "    .dataframe tbody tr th:only-of-type {\n",
       "        vertical-align: middle;\n",
       "    }\n",
       "\n",
       "    .dataframe tbody tr th {\n",
       "        vertical-align: top;\n",
       "    }\n",
       "\n",
       "    .dataframe thead th {\n",
       "        text-align: right;\n",
       "    }\n",
       "</style>\n",
       "<table border=\"1\" class=\"dataframe\">\n",
       "  <thead>\n",
       "    <tr style=\"text-align: right;\">\n",
       "      <th>5</th>\n",
       "      <th>KG</th>\n",
       "      <th>Weight</th>\n",
       "      <th>BMI</th>\n",
       "      <th>Fat</th>\n",
       "      <th>Muscle</th>\n",
       "      <th>RMI</th>\n",
       "      <th>Visceral Fat</th>\n",
       "      <th>Time</th>\n",
       "      <th>kcal nett</th>\n",
       "      <th>kcal out</th>\n",
       "      <th>...</th>\n",
       "      <th>thigh3</th>\n",
       "      <th>back sub scapular</th>\n",
       "      <th>Column4</th>\n",
       "      <th>lean weight (kg)</th>\n",
       "      <th>fat mass (kg)5</th>\n",
       "      <th>%fat</th>\n",
       "      <th>electric</th>\n",
       "      <th>gas</th>\n",
       "      <th>Column1</th>\n",
       "      <th>Column2</th>\n",
       "    </tr>\n",
       "    <tr>\n",
       "      <th>DATE</th>\n",
       "      <th></th>\n",
       "      <th></th>\n",
       "      <th></th>\n",
       "      <th></th>\n",
       "      <th></th>\n",
       "      <th></th>\n",
       "      <th></th>\n",
       "      <th></th>\n",
       "      <th></th>\n",
       "      <th></th>\n",
       "      <th></th>\n",
       "      <th></th>\n",
       "      <th></th>\n",
       "      <th></th>\n",
       "      <th></th>\n",
       "      <th></th>\n",
       "      <th></th>\n",
       "      <th></th>\n",
       "      <th></th>\n",
       "      <th></th>\n",
       "      <th></th>\n",
       "    </tr>\n",
       "  </thead>\n",
       "  <tbody>\n",
       "    <tr>\n",
       "      <th>17/12/2020</th>\n",
       "      <td>49.40</td>\n",
       "      <td>108.9083575</td>\n",
       "      <td>16.7</td>\n",
       "      <td>6.5</td>\n",
       "      <td>45.6</td>\n",
       "      <td>1359</td>\n",
       "      <td>1</td>\n",
       "      <td>NaN</td>\n",
       "      <td>1500</td>\n",
       "      <td>0</td>\n",
       "      <td>...</td>\n",
       "      <td>NaN</td>\n",
       "      <td>NaN</td>\n",
       "      <td>NaN</td>\n",
       "      <td>NaN</td>\n",
       "      <td>NaN</td>\n",
       "      <td>NaN</td>\n",
       "      <td>NaN</td>\n",
       "      <td>NaN</td>\n",
       "      <td>NaN</td>\n",
       "      <td>NaN</td>\n",
       "    </tr>\n",
       "    <tr>\n",
       "      <th>18/12/2020</th>\n",
       "      <td>49.40</td>\n",
       "      <td>108.9083575</td>\n",
       "      <td>16.7</td>\n",
       "      <td>6.5</td>\n",
       "      <td>45.6</td>\n",
       "      <td>1359</td>\n",
       "      <td>1</td>\n",
       "      <td>NaN</td>\n",
       "      <td>1500</td>\n",
       "      <td>0</td>\n",
       "      <td>...</td>\n",
       "      <td>NaN</td>\n",
       "      <td>NaN</td>\n",
       "      <td>NaN</td>\n",
       "      <td>NaN</td>\n",
       "      <td>NaN</td>\n",
       "      <td>NaN</td>\n",
       "      <td>NaN</td>\n",
       "      <td>NaN</td>\n",
       "      <td>NaN</td>\n",
       "      <td>NaN</td>\n",
       "    </tr>\n",
       "    <tr>\n",
       "      <th>19/12/2020</th>\n",
       "      <td>49.40</td>\n",
       "      <td>108.9083575</td>\n",
       "      <td>16.7</td>\n",
       "      <td>6.5</td>\n",
       "      <td>45.6</td>\n",
       "      <td>1359</td>\n",
       "      <td>1</td>\n",
       "      <td>NaN</td>\n",
       "      <td>1500</td>\n",
       "      <td>0</td>\n",
       "      <td>...</td>\n",
       "      <td>NaN</td>\n",
       "      <td>NaN</td>\n",
       "      <td>NaN</td>\n",
       "      <td>NaN</td>\n",
       "      <td>NaN</td>\n",
       "      <td>NaN</td>\n",
       "      <td>NaN</td>\n",
       "      <td>NaN</td>\n",
       "      <td>NaN</td>\n",
       "      <td>NaN</td>\n",
       "    </tr>\n",
       "    <tr>\n",
       "      <th>20/12/2020</th>\n",
       "      <td>51.30</td>\n",
       "      <td>113.0971405</td>\n",
       "      <td>17.2</td>\n",
       "      <td>5.5</td>\n",
       "      <td>47.3</td>\n",
       "      <td>1383</td>\n",
       "      <td>1</td>\n",
       "      <td>NaN</td>\n",
       "      <td>1500</td>\n",
       "      <td>0</td>\n",
       "      <td>...</td>\n",
       "      <td>NaN</td>\n",
       "      <td>NaN</td>\n",
       "      <td>NaN</td>\n",
       "      <td>NaN</td>\n",
       "      <td>NaN</td>\n",
       "      <td>NaN</td>\n",
       "      <td>NaN</td>\n",
       "      <td>NaN</td>\n",
       "      <td>NaN</td>\n",
       "      <td>NaN</td>\n",
       "    </tr>\n",
       "    <tr>\n",
       "      <th>21/12/2020</th>\n",
       "      <td>51.40</td>\n",
       "      <td>113.3176028</td>\n",
       "      <td>17.2</td>\n",
       "      <td>5.2</td>\n",
       "      <td>47.7</td>\n",
       "      <td>1388</td>\n",
       "      <td>1</td>\n",
       "      <td>NaN</td>\n",
       "      <td>600</td>\n",
       "      <td>NaN</td>\n",
       "      <td>...</td>\n",
       "      <td>NaN</td>\n",
       "      <td>NaN</td>\n",
       "      <td>NaN</td>\n",
       "      <td>NaN</td>\n",
       "      <td>NaN</td>\n",
       "      <td>NaN</td>\n",
       "      <td>NaN</td>\n",
       "      <td>NaN</td>\n",
       "      <td>NaN</td>\n",
       "      <td>NaN</td>\n",
       "    </tr>\n",
       "  </tbody>\n",
       "</table>\n",
       "<p>5 rows × 50 columns</p>\n",
       "</div>"
      ]
     },
     "execution_count": 45,
     "metadata": {},
     "output_type": "execute_result"
    }
   ],
   "execution_count": 45
  },
  {
   "metadata": {},
   "cell_type": "markdown",
   "source": [
    "- The columns we are interested in:\n",
    "    - \"DATE\", \"KG\", \"BMI\", \"Fat\", \"Muscle\", \"RMI\", \"Visceral Fat\", \"kcal in\"\n",
    "- The \"Weight\" column is derived from the \"KG\" column.\n",
    "- \"Time\", \"kcal nett\", \"kcal out\", \"target cals\" are no longer used and updated. However it may be useful to manually update \"target cals\" column given I know what my target calories would have been\n",
    "- \"TC Variance\" is derived\n",
    "- All other columns are derived"
   ],
   "id": "b88c6eb5c6b0027c"
  },
  {
   "metadata": {
    "ExecuteTime": {
     "end_time": "2025-08-18T10:53:34.988192Z",
     "start_time": "2025-08-18T10:53:34.981419Z"
    }
   },
   "cell_type": "code",
   "source": [
    "weights_df = weights_df[[\"KG\", \"BMI\", \"Fat \", \"Muscle\", \"RMI\", \"Visceral Fat\", \"kcal in\"]]\n",
    "weights_df.head()"
   ],
   "id": "5d1dca0ac9641ec8",
   "outputs": [
    {
     "data": {
      "text/plain": [
       "5              KG   BMI Fat  Muscle   RMI Visceral Fat kcal in\n",
       "DATE                                                          \n",
       "17/12/2020  49.40  16.7  6.5   45.6  1359            1    1500\n",
       "18/12/2020  49.40  16.7  6.5   45.6  1359            1    1500\n",
       "19/12/2020  49.40  16.7  6.5   45.6  1359            1    1500\n",
       "20/12/2020  51.30  17.2  5.5   47.3  1383            1    1500\n",
       "21/12/2020  51.40  17.2  5.2   47.7  1388            1     600"
      ],
      "text/html": [
       "<div>\n",
       "<style scoped>\n",
       "    .dataframe tbody tr th:only-of-type {\n",
       "        vertical-align: middle;\n",
       "    }\n",
       "\n",
       "    .dataframe tbody tr th {\n",
       "        vertical-align: top;\n",
       "    }\n",
       "\n",
       "    .dataframe thead th {\n",
       "        text-align: right;\n",
       "    }\n",
       "</style>\n",
       "<table border=\"1\" class=\"dataframe\">\n",
       "  <thead>\n",
       "    <tr style=\"text-align: right;\">\n",
       "      <th>5</th>\n",
       "      <th>KG</th>\n",
       "      <th>BMI</th>\n",
       "      <th>Fat</th>\n",
       "      <th>Muscle</th>\n",
       "      <th>RMI</th>\n",
       "      <th>Visceral Fat</th>\n",
       "      <th>kcal in</th>\n",
       "    </tr>\n",
       "    <tr>\n",
       "      <th>DATE</th>\n",
       "      <th></th>\n",
       "      <th></th>\n",
       "      <th></th>\n",
       "      <th></th>\n",
       "      <th></th>\n",
       "      <th></th>\n",
       "      <th></th>\n",
       "    </tr>\n",
       "  </thead>\n",
       "  <tbody>\n",
       "    <tr>\n",
       "      <th>17/12/2020</th>\n",
       "      <td>49.40</td>\n",
       "      <td>16.7</td>\n",
       "      <td>6.5</td>\n",
       "      <td>45.6</td>\n",
       "      <td>1359</td>\n",
       "      <td>1</td>\n",
       "      <td>1500</td>\n",
       "    </tr>\n",
       "    <tr>\n",
       "      <th>18/12/2020</th>\n",
       "      <td>49.40</td>\n",
       "      <td>16.7</td>\n",
       "      <td>6.5</td>\n",
       "      <td>45.6</td>\n",
       "      <td>1359</td>\n",
       "      <td>1</td>\n",
       "      <td>1500</td>\n",
       "    </tr>\n",
       "    <tr>\n",
       "      <th>19/12/2020</th>\n",
       "      <td>49.40</td>\n",
       "      <td>16.7</td>\n",
       "      <td>6.5</td>\n",
       "      <td>45.6</td>\n",
       "      <td>1359</td>\n",
       "      <td>1</td>\n",
       "      <td>1500</td>\n",
       "    </tr>\n",
       "    <tr>\n",
       "      <th>20/12/2020</th>\n",
       "      <td>51.30</td>\n",
       "      <td>17.2</td>\n",
       "      <td>5.5</td>\n",
       "      <td>47.3</td>\n",
       "      <td>1383</td>\n",
       "      <td>1</td>\n",
       "      <td>1500</td>\n",
       "    </tr>\n",
       "    <tr>\n",
       "      <th>21/12/2020</th>\n",
       "      <td>51.40</td>\n",
       "      <td>17.2</td>\n",
       "      <td>5.2</td>\n",
       "      <td>47.7</td>\n",
       "      <td>1388</td>\n",
       "      <td>1</td>\n",
       "      <td>600</td>\n",
       "    </tr>\n",
       "  </tbody>\n",
       "</table>\n",
       "</div>"
      ]
     },
     "execution_count": 46,
     "metadata": {},
     "output_type": "execute_result"
    }
   ],
   "execution_count": 46
  },
  {
   "metadata": {},
   "cell_type": "markdown",
   "source": [
    "Lets rename the column headers so that they are easier to interpret\n",
    "- At the moment a column is named \"Fat \", we should remove the whitespace\n",
    "- Need to add \"percentage\" to the column to indicate that it is a percentage"
   ],
   "id": "e501fd8ba2fdfe5a"
  },
  {
   "metadata": {
    "ExecuteTime": {
     "end_time": "2025-08-18T10:53:35.101892Z",
     "start_time": "2025-08-18T10:53:35.092513Z"
    }
   },
   "cell_type": "code",
   "source": [
    "weights_df.columns = [\"Weight, kg\", \"BMI\", \"Body Fat Percentage\", \"Muscle Percentage\", \"RMI\", \"Visceral Fat Percentage\", \"Calories In\"]\n",
    "weights_df.index.names = [\"Date\"]\n",
    "weights_df.head()"
   ],
   "id": "44d0a93330e5d60b",
   "outputs": [
    {
     "data": {
      "text/plain": [
       "           Weight, kg   BMI Body Fat Percentage Muscle Percentage   RMI  \\\n",
       "Date                                                                      \n",
       "17/12/2020      49.40  16.7                 6.5              45.6  1359   \n",
       "18/12/2020      49.40  16.7                 6.5              45.6  1359   \n",
       "19/12/2020      49.40  16.7                 6.5              45.6  1359   \n",
       "20/12/2020      51.30  17.2                 5.5              47.3  1383   \n",
       "21/12/2020      51.40  17.2                 5.2              47.7  1388   \n",
       "\n",
       "           Visceral Fat Percentage Calories In  \n",
       "Date                                            \n",
       "17/12/2020                       1        1500  \n",
       "18/12/2020                       1        1500  \n",
       "19/12/2020                       1        1500  \n",
       "20/12/2020                       1        1500  \n",
       "21/12/2020                       1         600  "
      ],
      "text/html": [
       "<div>\n",
       "<style scoped>\n",
       "    .dataframe tbody tr th:only-of-type {\n",
       "        vertical-align: middle;\n",
       "    }\n",
       "\n",
       "    .dataframe tbody tr th {\n",
       "        vertical-align: top;\n",
       "    }\n",
       "\n",
       "    .dataframe thead th {\n",
       "        text-align: right;\n",
       "    }\n",
       "</style>\n",
       "<table border=\"1\" class=\"dataframe\">\n",
       "  <thead>\n",
       "    <tr style=\"text-align: right;\">\n",
       "      <th></th>\n",
       "      <th>Weight, kg</th>\n",
       "      <th>BMI</th>\n",
       "      <th>Body Fat Percentage</th>\n",
       "      <th>Muscle Percentage</th>\n",
       "      <th>RMI</th>\n",
       "      <th>Visceral Fat Percentage</th>\n",
       "      <th>Calories In</th>\n",
       "    </tr>\n",
       "    <tr>\n",
       "      <th>Date</th>\n",
       "      <th></th>\n",
       "      <th></th>\n",
       "      <th></th>\n",
       "      <th></th>\n",
       "      <th></th>\n",
       "      <th></th>\n",
       "      <th></th>\n",
       "    </tr>\n",
       "  </thead>\n",
       "  <tbody>\n",
       "    <tr>\n",
       "      <th>17/12/2020</th>\n",
       "      <td>49.40</td>\n",
       "      <td>16.7</td>\n",
       "      <td>6.5</td>\n",
       "      <td>45.6</td>\n",
       "      <td>1359</td>\n",
       "      <td>1</td>\n",
       "      <td>1500</td>\n",
       "    </tr>\n",
       "    <tr>\n",
       "      <th>18/12/2020</th>\n",
       "      <td>49.40</td>\n",
       "      <td>16.7</td>\n",
       "      <td>6.5</td>\n",
       "      <td>45.6</td>\n",
       "      <td>1359</td>\n",
       "      <td>1</td>\n",
       "      <td>1500</td>\n",
       "    </tr>\n",
       "    <tr>\n",
       "      <th>19/12/2020</th>\n",
       "      <td>49.40</td>\n",
       "      <td>16.7</td>\n",
       "      <td>6.5</td>\n",
       "      <td>45.6</td>\n",
       "      <td>1359</td>\n",
       "      <td>1</td>\n",
       "      <td>1500</td>\n",
       "    </tr>\n",
       "    <tr>\n",
       "      <th>20/12/2020</th>\n",
       "      <td>51.30</td>\n",
       "      <td>17.2</td>\n",
       "      <td>5.5</td>\n",
       "      <td>47.3</td>\n",
       "      <td>1383</td>\n",
       "      <td>1</td>\n",
       "      <td>1500</td>\n",
       "    </tr>\n",
       "    <tr>\n",
       "      <th>21/12/2020</th>\n",
       "      <td>51.40</td>\n",
       "      <td>17.2</td>\n",
       "      <td>5.2</td>\n",
       "      <td>47.7</td>\n",
       "      <td>1388</td>\n",
       "      <td>1</td>\n",
       "      <td>600</td>\n",
       "    </tr>\n",
       "  </tbody>\n",
       "</table>\n",
       "</div>"
      ]
     },
     "execution_count": 47,
     "metadata": {},
     "output_type": "execute_result"
    }
   ],
   "execution_count": 47
  },
  {
   "metadata": {
    "ExecuteTime": {
     "end_time": "2025-08-18T10:53:35.313307Z",
     "start_time": "2025-08-18T10:53:35.307506Z"
    }
   },
   "cell_type": "code",
   "source": "weights_df.describe",
   "id": "74ccdc1c61c7630d",
   "outputs": [
    {
     "data": {
      "text/plain": [
       "<bound method NDFrame.describe of            Weight, kg   BMI Body Fat Percentage Muscle Percentage   RMI  \\\n",
       "Date                                                                      \n",
       "17/12/2020      49.40  16.7                 6.5              45.6  1359   \n",
       "18/12/2020      49.40  16.7                 6.5              45.6  1359   \n",
       "19/12/2020      49.40  16.7                 6.5              45.6  1359   \n",
       "20/12/2020      51.30  17.2                 5.5              47.3  1383   \n",
       "21/12/2020      51.40  17.2                 5.2              47.7  1388   \n",
       "...               ...   ...                 ...               ...   ...   \n",
       "12/08/2025      66.50  22.5                19.8              40.8  1614   \n",
       "13/08/2025      66.80  22.6                19.5              40.1  1622   \n",
       "14/08/2025      67.20  22.7                19.2              41.3  1629   \n",
       "15/08/2025      66.90  22.6                19.4              41.1  1623   \n",
       "16/08/2025      66.40  22.4                19.4                41  1614   \n",
       "\n",
       "           Visceral Fat Percentage Calories In  \n",
       "Date                                            \n",
       "17/12/2020                       1        1500  \n",
       "18/12/2020                       1        1500  \n",
       "19/12/2020                       1        1500  \n",
       "20/12/2020                       1        1500  \n",
       "21/12/2020                       1         600  \n",
       "...                            ...         ...  \n",
       "12/08/2025                       5        2786  \n",
       "13/08/2025                       5        2890  \n",
       "14/08/2025                       5        2895  \n",
       "15/08/2025                       5        2956  \n",
       "16/08/2025                       5         NaN  \n",
       "\n",
       "[1364 rows x 7 columns]>"
      ]
     },
     "execution_count": 48,
     "metadata": {},
     "output_type": "execute_result"
    }
   ],
   "execution_count": 48
  },
  {
   "metadata": {},
   "cell_type": "markdown",
   "source": [
    "The last row may have a NaN value in the \"Calories In\" column. This is because I record the weight after I first wake up, whereas I log the day\"s total calories after the day is over.\n",
    "\n",
    "I\"ll remove the last row to avoid this"
   ],
   "id": "8a9f862eaacf5ca4"
  },
  {
   "metadata": {
    "ExecuteTime": {
     "end_time": "2025-08-18T10:53:35.460226Z",
     "start_time": "2025-08-18T10:53:35.449162Z"
    }
   },
   "cell_type": "code",
   "source": [
    "weights_df = weights_df[:-1]\n",
    "weights_df.describe"
   ],
   "id": "36f6d55a56095a63",
   "outputs": [
    {
     "data": {
      "text/plain": [
       "<bound method NDFrame.describe of            Weight, kg   BMI Body Fat Percentage Muscle Percentage   RMI  \\\n",
       "Date                                                                      \n",
       "17/12/2020      49.40  16.7                 6.5              45.6  1359   \n",
       "18/12/2020      49.40  16.7                 6.5              45.6  1359   \n",
       "19/12/2020      49.40  16.7                 6.5              45.6  1359   \n",
       "20/12/2020      51.30  17.2                 5.5              47.3  1383   \n",
       "21/12/2020      51.40  17.2                 5.2              47.7  1388   \n",
       "...               ...   ...                 ...               ...   ...   \n",
       "11/08/2025      66.20  22.4                20.1              40.5  1606   \n",
       "12/08/2025      66.50  22.5                19.8              40.8  1614   \n",
       "13/08/2025      66.80  22.6                19.5              40.1  1622   \n",
       "14/08/2025      67.20  22.7                19.2              41.3  1629   \n",
       "15/08/2025      66.90  22.6                19.4              41.1  1623   \n",
       "\n",
       "           Visceral Fat Percentage Calories In  \n",
       "Date                                            \n",
       "17/12/2020                       1        1500  \n",
       "18/12/2020                       1        1500  \n",
       "19/12/2020                       1        1500  \n",
       "20/12/2020                       1        1500  \n",
       "21/12/2020                       1         600  \n",
       "...                            ...         ...  \n",
       "11/08/2025                       5        2653  \n",
       "12/08/2025                       5        2786  \n",
       "13/08/2025                       5        2890  \n",
       "14/08/2025                       5        2895  \n",
       "15/08/2025                       5        2956  \n",
       "\n",
       "[1363 rows x 7 columns]>"
      ]
     },
     "execution_count": 49,
     "metadata": {},
     "output_type": "execute_result"
    }
   ],
   "execution_count": 49
  },
  {
   "metadata": {},
   "cell_type": "markdown",
   "source": "The dataset, including estimated values",
   "id": "b0f70697b488176a"
  },
  {
   "metadata": {
    "ExecuteTime": {
     "end_time": "2025-08-18T10:53:35.527458Z",
     "start_time": "2025-08-18T10:53:35.521914Z"
    }
   },
   "cell_type": "code",
   "source": "weights_df.to_csv(\"./CleanedData/Cleaned_WeightsAndCalories_IncEstimated.csv\")",
   "id": "c823075aa0838f5e",
   "outputs": [],
   "execution_count": 50
  },
  {
   "metadata": {},
   "cell_type": "markdown",
   "source": "Some values are highlighted in the main dataset, this means that they were estimated. I've manually made a list of these within another csv file",
   "id": "50a0831846429bf4"
  },
  {
   "metadata": {
    "ExecuteTime": {
     "end_time": "2025-08-18T10:53:35.555911Z",
     "start_time": "2025-08-18T10:53:35.549495Z"
    }
   },
   "cell_type": "code",
   "source": [
    "missing_dates = pd.read_csv(\"../DataInput/Weights and Total Cal Intake/Missing data dates.csv\", names=[\"Date\"], header=None)\n",
    "print(f\"Rows before: {len(weights_df)}\")\n",
    "mask = ~weights_df.index.isin(missing_dates[\"Date\"])\n",
    "weights_df = weights_df[mask]\n",
    "print(f\"Rows after: {len(weights_df)}\")"
   ],
   "id": "cd635b4ad344c473",
   "outputs": [
    {
     "name": "stdout",
     "output_type": "stream",
     "text": [
      "Rows before: 1363\n",
      "Rows after: 1104\n"
     ]
    }
   ],
   "execution_count": 51
  },
  {
   "metadata": {},
   "cell_type": "markdown",
   "source": "This dataset should be cleaned and free of NaN/null values",
   "id": "9409a20b928c7ca3"
  },
  {
   "metadata": {
    "ExecuteTime": {
     "end_time": "2025-08-18T10:53:35.592587Z",
     "start_time": "2025-08-18T10:53:35.586124Z"
    }
   },
   "cell_type": "code",
   "source": "weights_df.to_csv(\"./CleanedData/Cleaned_WeightsAndCalories.csv\")",
   "id": "df8b5629fde4aeaa",
   "outputs": [],
   "execution_count": 52
  }
 ],
 "metadata": {
  "kernelspec": {
   "display_name": "Python 3",
   "language": "python",
   "name": "python3"
  },
  "language_info": {
   "codemirror_mode": {
    "name": "ipython",
    "version": 2
   },
   "file_extension": ".py",
   "mimetype": "text/x-python",
   "name": "python",
   "nbconvert_exporter": "python",
   "pygments_lexer": "ipython2",
   "version": "2.7.6"
  }
 },
 "nbformat": 4,
 "nbformat_minor": 5
}
